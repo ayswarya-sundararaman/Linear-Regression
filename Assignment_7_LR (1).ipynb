{
 "cells": [
  {
   "cell_type": "markdown",
   "metadata": {},
   "source": [
    "## DonorsChoose"
   ]
  },
  {
   "cell_type": "markdown",
   "metadata": {},
   "source": [
    "<p>\n",
    "DonorsChoose.org receives hundreds of thousands of project proposals each year for classroom projects in need of funding. Right now, a large number of volunteers is needed to manually screen each submission before it's approved to be posted on the DonorsChoose.org website.\n",
    "</p>\n",
    "<p>\n",
    "    Next year, DonorsChoose.org expects to receive close to 500,000 project proposals. As a result, there are three main problems they need to solve:\n",
    "<ul>\n",
    "<li>\n",
    "    How to scale current manual processes and resources to screen 500,000 projects so that they can be posted as quickly and as efficiently as possible</li>\n",
    "    <li>How to increase the consistency of project vetting across different volunteers to improve the experience for teachers</li>\n",
    "    <li>How to focus volunteer time on the applications that need the most assistance</li>\n",
    "    </ul>\n",
    "</p>    \n",
    "<p>\n",
    "The goal of the competition is to predict whether or not a DonorsChoose.org project proposal submitted by a teacher will be approved, using the text of project descriptions as well as additional metadata about the project, teacher, and school. DonorsChoose.org can then use this information to identify projects most likely to need further review before approval.\n",
    "</p>\n"
   ]
  },
  {
   "cell_type": "markdown",
   "metadata": {},
   "source": [
    "\n",
    "\n",
    "\n",
    "## About the DonorsChoose Data Set\n",
    "\n",
    "The `train.csv` data set provided by DonorsChoose contains the following features:\n",
    "\n",
    "Feature | Description \n",
    "----------|---------------\n",
    "**`project_id`** | A unique identifier for the proposed project. **Example:** `p036502`   \n",
    "**`project_title`**    | Title of the project. **Examples:**<br><ul><li><code>Art Will Make You Happy!</code></li><li><code>First Grade Fun</code></li></ul> \n",
    "**`project_grade_category`** | Grade level of students for which the project is targeted. One of the following enumerated values: <br/><ul><li><code>Grades PreK-2</code></li><li><code>Grades 3-5</code></li><li><code>Grades 6-8</code></li><li><code>Grades 9-12</code></li></ul>  \n",
    " **`project_subject_categories`** | One or more (comma-separated) subject categories for the project from the following enumerated list of values:  <br/><ul><li><code>Applied Learning</code></li><li><code>Care &amp; Hunger</code></li><li><code>Health &amp; Sports</code></li><li><code>History &amp; Civics</code></li><li><code>Literacy &amp; Language</code></li><li><code>Math &amp; Science</code></li><li><code>Music &amp; The Arts</code></li><li><code>Special Needs</code></li><li><code>Warmth</code></li></ul><br/> **Examples:** <br/><ul><li><code>Music &amp; The Arts</code></li><li><code>Literacy &amp; Language, Math &amp; Science</code></li>  \n",
    "  **`school_state`** | State where school is located ([Two-letter U.S. postal code](https://en.wikipedia.org/wiki/List_of_U.S._state_abbreviations#Postal_codes)). **Example:** `WY`\n",
    "**`project_subject_subcategories`** | One or more (comma-separated) subject subcategories for the project. **Examples:** <br/><ul><li><code>Literacy</code></li><li><code>Literature &amp; Writing, Social Sciences</code></li></ul> \n",
    "**`project_resource_summary`** | An explanation of the resources needed for the project. **Example:** <br/><ul><li><code>My students need hands on literacy materials to manage sensory needs!</code</li></ul> \n",
    "**`project_essay_1`**    | First application essay<sup>*</sup>  \n",
    "**`project_essay_2`**    | Second application essay<sup>*</sup> \n",
    "**`project_essay_3`**    | Third application essay<sup>*</sup> \n",
    "**`project_essay_4`**    | Fourth application essay<sup>*</sup> \n",
    "**`project_submitted_datetime`** | Datetime when project application was submitted. **Example:** `2016-04-28 12:43:56.245`   \n",
    "**`teacher_id`** | A unique identifier for the teacher of the proposed project. **Example:** `bdf8baa8fedef6bfeec7ae4ff1c15c56`  \n",
    "**`teacher_prefix`** | Teacher's title. One of the following enumerated values: <br/><ul><li><code>nan</code></li><li><code>Dr.</code></li><li><code>Mr.</code></li><li><code>Mrs.</code></li><li><code>Ms.</code></li><li><code>Teacher.</code></li></ul>  \n",
    "**`teacher_number_of_previously_posted_projects`** | Number of project applications previously submitted by the same teacher. **Example:** `2` \n",
    "\n",
    "<sup>*</sup> See the section <b>Notes on the Essay Data</b> for more details about these features.\n",
    "\n",
    "Additionally, the `resources.csv` data set provides more data about the resources required for each project. Each line in this file represents a resource required by a project:\n",
    "\n",
    "Feature | Description \n",
    "----------|---------------\n",
    "**`id`** | A `project_id` value from the `train.csv` file.  **Example:** `p036502`   \n",
    "**`description`** | Desciption of the resource. **Example:** `Tenor Saxophone Reeds, Box of 25`   \n",
    "**`quantity`** | Quantity of the resource required. **Example:** `3`   \n",
    "**`price`** | Price of the resource required. **Example:** `9.95`   \n",
    "\n",
    "**Note:** Many projects require multiple resources. The `id` value corresponds to a `project_id` in train.csv, so you use it as a key to retrieve all resources needed for a project:\n",
    "\n",
    "The data set contains the following label (the value you will attempt to predict):\n",
    "\n",
    "Label | Description\n",
    "----------|---------------\n",
    "`project_is_approved` | A binary flag indicating whether DonorsChoose approved the project. A value of `0` indicates the project was not approved, and a value of `1` indicates the project was approved."
   ]
  },
  {
   "cell_type": "markdown",
   "metadata": {},
   "source": [
    "### Notes on the Essay Data\n",
    "\n",
    "<ul>\n",
    "Prior to May 17, 2016, the prompts for the essays were as follows:\n",
    "<li>__project_essay_1:__ \"Introduce us to your classroom\"</li>\n",
    "<li>__project_essay_2:__ \"Tell us more about your students\"</li>\n",
    "<li>__project_essay_3:__ \"Describe how your students will use the materials you're requesting\"</li>\n",
    "<li>__project_essay_3:__ \"Close by sharing why your project will make a difference\"</li>\n",
    "</ul>\n",
    "\n",
    "\n",
    "<ul>\n",
    "Starting on May 17, 2016, the number of essays was reduced from 4 to 2, and the prompts for the first 2 essays were changed to the following:<br>\n",
    "<li>__project_essay_1:__ \"Describe your students: What makes your students special? Specific details about their background, your neighborhood, and your school are all helpful.\"</li>\n",
    "<li>__project_essay_2:__ \"About your project: How will these materials make a difference in your students' learning and improve their school lives?\"</li>\n",
    "<br>For all projects with project_submitted_datetime of 2016-05-17 and later, the values of project_essay_3 and project_essay_4 will be NaN.\n",
    "</ul>\n"
   ]
  },
  {
   "cell_type": "code",
   "execution_count": 1,
   "metadata": {},
   "outputs": [],
   "source": [
    "## import all the modules\n",
    "%matplotlib inline\n",
    "import warnings\n",
    "warnings.filterwarnings(\"ignore\")\n",
    "\n",
    "import sqlite3\n",
    "import pandas as pd\n",
    "import numpy as np\n",
    "import nltk\n",
    "import string\n",
    "import matplotlib.pyplot as plt\n",
    "import seaborn as sns\n",
    "from sklearn.feature_extraction.text import TfidfTransformer\n",
    "from sklearn.feature_extraction.text import TfidfVectorizer\n",
    "from scipy.sparse import hstack\n",
    "from sklearn.feature_extraction.text import CountVectorizer\n",
    "from sklearn.metrics import confusion_matrix\n",
    "from sklearn import metrics\n",
    "from sklearn.metrics import roc_curve, auc\n",
    "from nltk.stem.porter import PorterStemmer\n",
    "from sklearn.preprocessing import Normalizer\n",
    "from sklearn.linear_model import LogisticRegression\n",
    "from sklearn.metrics import roc_auc_score\n",
    "import re\n",
    "# Tutorial about Python regular expressions: https://pymotw.com/2/re/\n",
    "import string\n",
    "from nltk.corpus import stopwords\n",
    "from nltk.stem import PorterStemmer\n",
    "from nltk.stem.wordnet import WordNetLemmatizer\n",
    "from nltk.sentiment import SentimentIntensityAnalyzer\n",
    "from gensim.models import Word2Vec\n",
    "from gensim.models import KeyedVectors\n",
    "import pickle\n",
    "\n",
    "from tqdm import tqdm\n",
    "import os\n",
    "\n",
    "# from plotly import plotly\n",
    "# import plotly.offline as offline\n",
    "# import plotly.graph_objs as gobb\n",
    "# offline.init_notebook_mode()\n",
    "from collections import Counter"
   ]
  },
  {
   "cell_type": "markdown",
   "metadata": {},
   "source": [
    "### 1.1 Reading the Data"
   ]
  },
  {
   "cell_type": "code",
   "execution_count": 2,
   "metadata": {},
   "outputs": [],
   "source": [
    "project_data = pd.read_csv('train_data.csv')\n",
    "resource_data = pd.read_csv('resources.csv')"
   ]
  },
  {
   "cell_type": "code",
   "execution_count": 3,
   "metadata": {},
   "outputs": [
    {
     "name": "stdout",
     "output_type": "stream",
     "text": [
      "Number of data points in project train data (109248, 17)\n",
      "--------------------------------------------------\n",
      "The attributes of data : ['Unnamed: 0' 'id' 'teacher_id' 'teacher_prefix' 'school_state'\n",
      " 'project_submitted_datetime' 'project_grade_category'\n",
      " 'project_subject_categories' 'project_subject_subcategories'\n",
      " 'project_title' 'project_essay_1' 'project_essay_2' 'project_essay_3'\n",
      " 'project_essay_4' 'project_resource_summary'\n",
      " 'teacher_number_of_previously_posted_projects' 'project_is_approved']\n"
     ]
    }
   ],
   "source": [
    "print(\"Number of data points in project train data\", project_data.shape)\n",
    "print('-'*50)\n",
    "print(\"The attributes of data :\", project_data.columns.values)"
   ]
  },
  {
   "cell_type": "code",
   "execution_count": 4,
   "metadata": {},
   "outputs": [
    {
     "name": "stdout",
     "output_type": "stream",
     "text": [
      "Number of data points in resource train data (1541272, 4)\n",
      "['id' 'description' 'quantity' 'price']\n"
     ]
    },
    {
     "data": {
      "text/html": [
       "<div>\n",
       "<style scoped>\n",
       "    .dataframe tbody tr th:only-of-type {\n",
       "        vertical-align: middle;\n",
       "    }\n",
       "\n",
       "    .dataframe tbody tr th {\n",
       "        vertical-align: top;\n",
       "    }\n",
       "\n",
       "    .dataframe thead th {\n",
       "        text-align: right;\n",
       "    }\n",
       "</style>\n",
       "<table border=\"1\" class=\"dataframe\">\n",
       "  <thead>\n",
       "    <tr style=\"text-align: right;\">\n",
       "      <th></th>\n",
       "      <th>id</th>\n",
       "      <th>description</th>\n",
       "      <th>quantity</th>\n",
       "      <th>price</th>\n",
       "    </tr>\n",
       "  </thead>\n",
       "  <tbody>\n",
       "    <tr>\n",
       "      <th>0</th>\n",
       "      <td>p233245</td>\n",
       "      <td>LC652 - Lakeshore Double-Space Mobile Drying Rack</td>\n",
       "      <td>1</td>\n",
       "      <td>149.00</td>\n",
       "    </tr>\n",
       "    <tr>\n",
       "      <th>1</th>\n",
       "      <td>p069063</td>\n",
       "      <td>Bouncy Bands for Desks (Blue support pipes)</td>\n",
       "      <td>3</td>\n",
       "      <td>14.95</td>\n",
       "    </tr>\n",
       "  </tbody>\n",
       "</table>\n",
       "</div>"
      ],
      "text/plain": [
       "        id                                        description  quantity  \\\n",
       "0  p233245  LC652 - Lakeshore Double-Space Mobile Drying Rack         1   \n",
       "1  p069063        Bouncy Bands for Desks (Blue support pipes)         3   \n",
       "\n",
       "    price  \n",
       "0  149.00  \n",
       "1   14.95  "
      ]
     },
     "execution_count": 4,
     "metadata": {},
     "output_type": "execute_result"
    }
   ],
   "source": [
    "print(\"Number of data points in resource train data\", resource_data.shape)\n",
    "print(resource_data.columns.values)\n",
    "resource_data.head(2)"
   ]
  },
  {
   "cell_type": "markdown",
   "metadata": {},
   "source": [
    "### 1.1 Preprocessing Categorical Features: project_grade_category"
   ]
  },
  {
   "cell_type": "code",
   "execution_count": 5,
   "metadata": {},
   "outputs": [
    {
     "name": "stdout",
     "output_type": "stream",
     "text": [
      "Project grade Grades PreK-2    44225\n",
      "Grades 3-5       37137\n",
      "Grades 6-8       16923\n",
      "Grades 9-12      10963\n",
      "Name: project_grade_category, dtype: int64\n",
      "--------------------------------------------------\n",
      "Grades 3-5\n",
      "Grades PreK-2\n"
     ]
    }
   ],
   "source": [
    "print(\"Project grade\" ,project_data['project_grade_category'].value_counts(dropna=False))\n",
    "## visulaize how project grade looks like\n",
    "print('-'*50)\n",
    "print(project_data['project_grade_category'].values[1000])\n",
    "print(project_data['project_grade_category'].values[1500])"
   ]
  },
  {
   "cell_type": "code",
   "execution_count": 6,
   "metadata": {},
   "outputs": [
    {
     "data": {
      "text/plain": [
       "prek_2    44225\n",
       "3_5       37137\n",
       "6_8       16923\n",
       "9_12      10963\n",
       "Name: project_grade_category, dtype: int64"
      ]
     },
     "execution_count": 6,
     "metadata": {},
     "output_type": "execute_result"
    }
   ],
   "source": [
    "# https://stackoverflow.com/questions/36383821/pandas-dataframe-apply-function-to-column-strings-based-on-other-column-value\n",
    "project_data['project_grade_category'] = project_data['project_grade_category'].str.replace('Grades ','')\n",
    "project_data['project_grade_category'] = project_data['project_grade_category'].str.replace(' ','_')\n",
    "project_data['project_grade_category'] = project_data['project_grade_category'].str.replace('-','_')\n",
    "project_data['project_grade_category'] = project_data['project_grade_category'].str.lower()\n",
    "project_data['project_grade_category'].value_counts()"
   ]
  },
  {
   "cell_type": "markdown",
   "metadata": {},
   "source": [
    "### 1.2 Preprocessing Categorical Features: project_subject_category"
   ]
  },
  {
   "cell_type": "code",
   "execution_count": 7,
   "metadata": {},
   "outputs": [],
   "source": [
    "catogories = list(project_data['project_subject_categories'].values)\n",
    "# remove special characters from list of strings python: https://stackoverflow.com/a/47301924/4084039\n",
    "# reference from course material : reference_EDA.ipynb  \n",
    "# https://www.geeksforgeeks.org/removing-stop-words-nltk-python/\n",
    "# https://stackoverflow.com/questions/23669024/how-to-strip-a-specific-word-from-a-string\n",
    "# https://stackoverflow.com/questions/8270092/remove-all-whitespace-in-a-string-in-python\n",
    "cat_list = []\n",
    "for i in catogories:\n",
    "    temp = \"\"\n",
    "    # consider we have text like this \"Math & Science, Warmth, Care & Hunger\"\n",
    "    for j in i.split(','): # it will split it in three parts [\"Math & Science\", \"Warmth\", \"Care & Hunger\"]\n",
    "        if 'The' in j.split(): # this will split each of the catogory based on space \"Math & Science\"=> \"Math\",\"&\", \"Science\"\n",
    "            j=j.replace('The','') # if we have the words \"The\" we are going to replace it with ''(i.e removing 'The')\n",
    "        j = j.replace(' ','') # we are placeing all the ' '(space) with ''(empty) ex:\"Math & Science\"=>\"Math&Science\"\n",
    "        temp+=j.strip()+\" \" #\" abc \".strip() will return \"abc\", remove the trailing spaces\n",
    "        temp = temp.replace('&','_') # we are replacing the & value into \n",
    "    cat_list.append(temp.strip())\n",
    "    \n",
    "project_data['clean_categories'] = cat_list\n",
    "project_data.drop(['project_subject_categories'], axis=1, inplace=True)\n",
    "project_data.head(2)\n",
    "\n",
    "\n",
    "### maintain a dict that \n",
    "my_counter=Counter()\n",
    "\n",
    "for word in project_data['clean_categories'].values:\n",
    "    my_counter.update(word.split())\n",
    "cat_dict=dict(my_counter)\n",
    "\n",
    "sorted_cat_dict = dict(sorted(cat_dict.items(), key=lambda kv: kv[1]))"
   ]
  },
  {
   "cell_type": "markdown",
   "metadata": {},
   "source": [
    "### 1.3 Preprocessing Categorical Features: project_subject_subcategory"
   ]
  },
  {
   "cell_type": "code",
   "execution_count": 8,
   "metadata": {},
   "outputs": [],
   "source": [
    "sub_catogories = list(project_data['project_subject_subcategories'].values)\n",
    "# remove special characters from list of strings python: https://stackoverflow.com/a/47301924/4084039\n",
    "\n",
    "# https://www.geeksforgeeks.org/removing-stop-words-nltk-python/\n",
    "# https://stackoverflow.com/questions/23669024/how-to-strip-a-specific-word-from-a-string\n",
    "# https://stackoverflow.com/questions/8270092/remove-all-whitespace-in-a-string-in-python\n",
    "\n",
    "sub_cat_list = []\n",
    "for i in sub_catogories:\n",
    "    temp = \"\"\n",
    "    # consider we have text like this \"Math & Science, Warmth, Care & Hunger\"\n",
    "    for j in i.split(','): # it will split it in three parts [\"Math & Science\", \"Warmth\", \"Care & Hunger\"]\n",
    "        if 'The' in j.split(): # this will split each of the catogory based on space \"Math & Science\"=> \"Math\",\"&\", \"Science\"\n",
    "            j=j.replace('The','') # if we have the words \"The\" we are going to replace it with ''(i.e removing 'The')\n",
    "        j = j.replace(' ','') # we are placeing all the ' '(space) with ''(empty) ex:\"Math & Science\"=>\"Math&Science\"\n",
    "        temp +=j.strip()+\" \"#\" abc \".strip() will return \"abc\", remove the trailing spaces\n",
    "        temp = temp.replace('&','_')\n",
    "    sub_cat_list.append(temp.strip())\n",
    "\n",
    "project_data['clean_subcategories'] = sub_cat_list\n",
    "project_data.drop(['project_subject_subcategories'], axis=1, inplace=True)\n",
    "\n",
    "# count of all the words in corpus python: https://stackoverflow.com/a/22898595/4084039\n",
    "my_counter = Counter()\n",
    "for word in project_data['clean_subcategories'].values:\n",
    "    my_counter.update(word.split())\n",
    "    \n",
    "sub_cat_dict = dict(my_counter)\n",
    "sorted_sub_cat_dict = dict(sorted(sub_cat_dict.items(), key=lambda kv: kv[1]))"
   ]
  },
  {
   "cell_type": "markdown",
   "metadata": {},
   "source": [
    "## 1.3  Preprocessing Categorical Features: school_state"
   ]
  },
  {
   "cell_type": "code",
   "execution_count": 9,
   "metadata": {
    "scrolled": false
   },
   "outputs": [
    {
     "data": {
      "text/plain": [
       "ca    15388\n",
       "tx     7396\n",
       "ny     7318\n",
       "fl     6185\n",
       "nc     5091\n",
       "il     4350\n",
       "ga     3963\n",
       "sc     3936\n",
       "mi     3161\n",
       "pa     3109\n",
       "in     2620\n",
       "mo     2576\n",
       "oh     2467\n",
       "la     2394\n",
       "ma     2389\n",
       "wa     2334\n",
       "ok     2276\n",
       "nj     2237\n",
       "az     2147\n",
       "va     2045\n",
       "wi     1827\n",
       "al     1762\n",
       "ut     1731\n",
       "tn     1688\n",
       "ct     1663\n",
       "md     1514\n",
       "nv     1367\n",
       "ms     1323\n",
       "ky     1304\n",
       "or     1242\n",
       "mn     1208\n",
       "co     1111\n",
       "ar     1049\n",
       "id      693\n",
       "ia      666\n",
       "ks      634\n",
       "nm      557\n",
       "dc      516\n",
       "hi      507\n",
       "me      505\n",
       "wv      503\n",
       "nh      348\n",
       "ak      345\n",
       "de      343\n",
       "ne      309\n",
       "sd      300\n",
       "ri      285\n",
       "mt      245\n",
       "nd      143\n",
       "wy       98\n",
       "vt       80\n",
       "Name: school_state, dtype: int64"
      ]
     },
     "execution_count": 9,
     "metadata": {},
     "output_type": "execute_result"
    }
   ],
   "source": [
    "project_data['school_state'].value_counts()\n",
    "## Convert it to lower\n",
    "project_data['school_state'] = project_data['school_state'].str.lower()\n",
    "project_data['school_state'].value_counts(dropna=False)"
   ]
  },
  {
   "cell_type": "markdown",
   "metadata": {},
   "source": [
    "  ## 1.4  Preprocessing Categorical Features: Teacher_prefix"
   ]
  },
  {
   "cell_type": "code",
   "execution_count": 10,
   "metadata": {},
   "outputs": [
    {
     "name": "stdout",
     "output_type": "stream",
     "text": [
      "Mrs.       57269\n",
      "Ms.        38955\n",
      "Mr.        10648\n",
      "Teacher     2360\n",
      "Dr.           13\n",
      "NaN            3\n",
      "Name: teacher_prefix, dtype: int64\n"
     ]
    }
   ],
   "source": [
    "print(project_data['teacher_prefix'].value_counts(dropna=False))\n",
    "# try to remove the dots from the teacher prefix and replace nan with mrs.\n",
    "project_data['teacher_prefix']=project_data['teacher_prefix'].fillna('Mrs.')\n",
    "project_data['teacher_prefix']=project_data['teacher_prefix'].str.replace('.','')\n",
    "project_data['teacher_prefix']=project_data['teacher_prefix'].str.lower()\n",
    "project_data['teacher_prefix']=project_data['teacher_prefix'].str.strip()"
   ]
  },
  {
   "cell_type": "markdown",
   "metadata": {},
   "source": [
    "### 1.5  Combining all the essays"
   ]
  },
  {
   "cell_type": "code",
   "execution_count": 11,
   "metadata": {},
   "outputs": [],
   "source": [
    "# merge two column text dataframe: \n",
    "project_data[\"essay\"] = project_data[\"project_essay_1\"].map(str) +\\\n",
    "                        project_data[\"project_essay_2\"].map(str) + \\\n",
    "                        project_data[\"project_essay_3\"].map(str) + \\\n",
    "                        project_data[\"project_essay_4\"].map(str)"
   ]
  },
  {
   "cell_type": "markdown",
   "metadata": {},
   "source": [
    "#### 1.6  Number of Words in the Essay and Title"
   ]
  },
  {
   "cell_type": "code",
   "execution_count": 12,
   "metadata": {},
   "outputs": [],
   "source": [
    "source:''''https://www.geeksforgeeks.org/python-program-to-count-words-in-a-sentence/'''\n",
    "words_counter=[]\n",
    "for string in project_data['essay']:\n",
    "    res = len(re.findall(r'\\w+', string))\n",
    "    words_counter.append(res)\n",
    "    \n",
    "project_data[\"words_in_essay\"] = words_counter\n",
    "\n",
    "words_counter=[]\n",
    "\n",
    "for string in project_data['project_title']:\n",
    "    res = len(re.findall(r'\\w+', string))\n",
    "    words_counter.append(res)\n",
    "project_data[\"words_in_title\"] = words_counter    "
   ]
  },
  {
   "cell_type": "markdown",
   "metadata": {},
   "source": [
    "## 1.7. Preprocessing Numerical Values: price"
   ]
  },
  {
   "cell_type": "code",
   "execution_count": 13,
   "metadata": {},
   "outputs": [],
   "source": [
    "## calculate the overall count of resources and the total price for each project id \n",
    "price_data=resource_data.groupby('id').agg({'price':'sum','quantity':'sum' })\n"
   ]
  },
  {
   "cell_type": "code",
   "execution_count": 14,
   "metadata": {},
   "outputs": [],
   "source": [
    "project_data=pd.merge(project_data, price_data, on='id', how='left')"
   ]
  },
  {
   "cell_type": "markdown",
   "metadata": {},
   "source": [
    "## 1.8 Preprocessing Text Features: project_title"
   ]
  },
  {
   "cell_type": "code",
   "execution_count": 15,
   "metadata": {},
   "outputs": [],
   "source": [
    "# https://stackoverflow.com/a/47091490/4084039\n",
    "import re\n",
    "\n",
    "def decontracted(phrase):\n",
    "    # specific\n",
    "    phrase = re.sub(r\"won't\", \"will not\", phrase)\n",
    "    phrase = re.sub(r\"can\\'t\", \"can not\", phrase)\n",
    "\n",
    "    # general\n",
    "    phrase = re.sub(r\"n\\'t\", \" not\", phrase)\n",
    "    phrase = re.sub(r\"\\'re\", \" are\", phrase)\n",
    "    phrase = re.sub(r\"\\'s\", \" is\", phrase)\n",
    "    phrase = re.sub(r\"\\'d\", \" would\", phrase)\n",
    "    phrase = re.sub(r\"\\'ll\", \" will\", phrase)\n",
    "    phrase = re.sub(r\"\\'t\", \" not\", phrase)\n",
    "    phrase = re.sub(r\"\\'ve\", \" have\", phrase)\n",
    "    phrase = re.sub(r\"\\'m\", \" am\", phrase)\n",
    "    return phrase"
   ]
  },
  {
   "cell_type": "code",
   "execution_count": 16,
   "metadata": {},
   "outputs": [],
   "source": [
    "# https://gist.github.com/sebleier/554280\n",
    "# we are removing the words from the stop words list: 'no', 'nor', 'not'\n",
    "stopwords= ['i', 'me', 'my', 'myself', 'we', 'our', 'ours', 'ourselves', 'you', \"you're\", \"you've\",\\\n",
    "            \"you'll\", \"you'd\", 'your', 'yours', 'yourself', 'yourselves', 'he', 'him', 'his', 'himself', \\\n",
    "            'she', \"she's\", 'her', 'hers', 'herself', 'it', \"it's\", 'its', 'itself', 'they', 'them', 'their',\\\n",
    "            'theirs', 'themselves', 'what', 'which', 'who', 'whom', 'this', 'that', \"that'll\", 'these', 'those', \\\n",
    "            'am', 'is', 'are', 'was', 'were', 'be', 'been', 'being', 'have', 'has', 'had', 'having', 'do', 'does', \\\n",
    "            'did', 'doing', 'a', 'an', 'the', 'and', 'but', 'if', 'or', 'because', 'as', 'until', 'while', 'of', \\\n",
    "            'at', 'by', 'for', 'with', 'about', 'against', 'between', 'into', 'through', 'during', 'before', 'after',\\\n",
    "            'above', 'below', 'to', 'from', 'up', 'down', 'in', 'out', 'on', 'off', 'over', 'under', 'again', 'further',\\\n",
    "            'then', 'once', 'here', 'there', 'when', 'where', 'why', 'how', 'all', 'any', 'both', 'each', 'few', 'more',\\\n",
    "            'most', 'other', 'some', 'such', 'only', 'own', 'same', 'so', 'than', 'too', 'very', \\\n",
    "            's', 't', 'can', 'will', 'just', 'don', \"don't\", 'should', \"should've\", 'now', 'd', 'll', 'm', 'o', 're', \\\n",
    "            've', 'y', 'ain', 'aren', \"aren't\", 'couldn', \"couldn't\", 'didn', \"didn't\", 'doesn', \"doesn't\", 'hadn',\\\n",
    "            \"hadn't\", 'hasn', \"hasn't\", 'haven', \"haven't\", 'isn', \"isn't\", 'ma', 'mightn', \"mightn't\", 'mustn',\\\n",
    "            \"mustn't\", 'needn', \"needn't\", 'shan', \"shan't\", 'shouldn', \"shouldn't\", 'wasn', \"wasn't\", 'weren', \"weren't\", \\\n",
    "            'won', \"won't\", 'wouldn', \"wouldn't\"]"
   ]
  },
  {
   "cell_type": "code",
   "execution_count": 17,
   "metadata": {},
   "outputs": [
    {
     "name": "stdout",
     "output_type": "stream",
     "text": [
      "printing some random reviews\n",
      "9 Just For the Love of Reading--\\r\\nPure Pleasure\n",
      "34 \\\"Have A Ball!!!\\\"\n",
      "147 Who needs a Chromebook?\\r\\nWE DO!!\n"
     ]
    }
   ],
   "source": [
    "print(\"printing some random reviews\")\n",
    "print(9, project_data['project_title'].values[9])\n",
    "print(34, project_data['project_title'].values[34])\n",
    "print(147, project_data['project_title'].values[147])"
   ]
  },
  {
   "cell_type": "code",
   "execution_count": 18,
   "metadata": {},
   "outputs": [],
   "source": [
    "# Combining all the above stundents \n",
    "from tqdm import tqdm\n",
    "def preprocess_text(text_data):\n",
    "    preprocessed_text = []\n",
    "    # tqdm is for printing the status bar\n",
    "    for sentance in tqdm(text_data):\n",
    "        sent = decontracted(sentance)\n",
    "        sent = sent.replace('\\\\r', ' ')\n",
    "        sent = sent.replace('\\\\n', ' ')\n",
    "        sent = sent.replace('\\\\\"', ' ')\n",
    "        sent = re.sub('[^A-Za-z0-9]+', ' ', sent)\n",
    "        # https://gist.github.com/sebleier/554280\n",
    "        sent = ' '.join(e for e in sent.split() if e.lower() not in stopwords)\n",
    "        preprocessed_text.append(sent.lower().strip())\n",
    "    return preprocessed_text"
   ]
  },
  {
   "cell_type": "code",
   "execution_count": 19,
   "metadata": {},
   "outputs": [
    {
     "name": "stderr",
     "output_type": "stream",
     "text": [
      "100%|██████████████████████████████████████████████| 109248/109248 [00:02<00:00, 36843.35it/s]\n"
     ]
    }
   ],
   "source": [
    "preprocessed_titles = preprocess_text(project_data['project_title'].values)"
   ]
  },
  {
   "cell_type": "code",
   "execution_count": 20,
   "metadata": {},
   "outputs": [
    {
     "name": "stdout",
     "output_type": "stream",
     "text": [
      "printing some random reviews\n",
      "9 love reading pure pleasure\n",
      "34 ball\n",
      "147 needs chromebook\n"
     ]
    }
   ],
   "source": [
    "print(\"printing some random reviews\")\n",
    "print(9, preprocessed_titles[9])\n",
    "print(34, preprocessed_titles[34])\n",
    "print(147, preprocessed_titles[147])"
   ]
  },
  {
   "cell_type": "markdown",
   "metadata": {},
   "source": [
    "## 1.9 Preprocessing Text Features: essay"
   ]
  },
  {
   "cell_type": "code",
   "execution_count": 21,
   "metadata": {},
   "outputs": [
    {
     "name": "stdout",
     "output_type": "stream",
     "text": [
      "printing some random essay\n",
      "9 Over 95% of my students are on free or reduced lunch.  I have a few who are homeless, but despite that, they come to school with an eagerness to learn.  My students are inquisitive eager learners who  embrace the challenge of not having great books and other resources  every day.  Many of them are not afforded the opportunity to engage with these big colorful pages of a book on a regular basis at home and they don't travel to the public library.  \\r\\nIt is my duty as a teacher to do all I can to provide each student an opportunity to succeed in every aspect of life. \\r\\nReading is Fundamental! My students will read these books over and over again while boosting their comprehension skills. These books will be used for read alouds, partner reading and for Independent reading. \\r\\nThey will engage in reading to build their \\\"Love for Reading\\\" by reading for pure enjoyment. They will be introduced to some new authors as well as some old favorites. I want my students to be ready for the 21st Century and know the pleasure of holding a good hard back book in hand. There's nothing like a good book to read!  \\r\\nMy students will soar in Reading, and more because of your consideration and generous funding contribution. This will help build stamina and prepare for 3rd grade. Thank you so much for reading our proposal!nannan\n",
      "--------------------------------------------------\n",
      "34 My students mainly come from extremely low-income families, and the majority of them come from homes where both parents work full time. Most of my students are at school from 7:30 am to 6:00 pm (2:30 to 6:00 pm in the after-school program), and they all receive free and reduced meals for breakfast and lunch. \\r\\n\\r\\n\\r\\nI want my students to feel  as comfortable in my classroom as they do at home. Many of my students take on multiple roles both at home as well as in school. They are sometimes the caretakers of younger siblings, cooks, babysitters, academics, friends, and most of all, they are developing who they are going to become as adults.  I consider it an essential part of my job to model helping others gain knowledge in a positive manner. As a result, I have a community of students who love helping each other in and outside of the classroom. They consistently look for opportunities to support each other's learning in a kind and helpful way.I am excited to be experimenting with alternative seating in my classroom this school year. Studies have shown that giving students the option of where they sit in a classroom increases focus as well as motivation.  \\r\\n\\r\\nBy allowing students choice in the classroom, they are able to explore and create in a welcoming environment. Alternative classroom seating has been experimented with more frequently in recent years. I believe (along with many others), that every child learns differently. This does not only apply to how multiplication is memorized, or a paper is written, but applies to the space in which they are asked to work. I have had students in the past ask \\\"Can I work in the library? Can I work on the carpet?\\\" My answer was always, \\\"As long as you're learning, you can work wherever you want!\\\" \\r\\n\\r\\nWith the yoga balls and the lap-desks, I will be able to increase the options for seating in my classroom and expand its imaginable space.nannan\n",
      "--------------------------------------------------\n",
      "147 My students are eager to learn and make their mark on the world.\\r\\n\\r\\nThey come from a Title 1 school and need extra love.\\r\\n\\r\\nMy fourth grade students are in a high poverty area and still come to school every day to get their education. I am trying to make it fun and educational for them so they can get the most out of their schooling. I created a caring environment for the students to bloom! They deserve the best.\\r\\nThank you!\\r\\nI am requesting 1 Chromebook to access online interventions, differentiate instruction, and get extra practice. The Chromebook will be used to supplement ELA and math instruction. Students will play ELA and math games that are engaging and fun, as well as participate in assignments online. This in turn will help my students improve their skills. Having a Chromebook in the classroom would not only allow students to use the programs at their own pace, but would ensure more students are getting adequate time to use the programs. The online programs have been especially beneficial to my students with special needs. They are able to work at their level as well as be challenged with some different materials. This is making these students more confident in their abilities.\\r\\n\\r\\nThe Chromebook would allow my students to have daily access to computers and increase their computing skills.\\r\\nThis will change their lives for the better as they become more successful in school. Having access to technology in the classroom would help bridge the achievement gap.nannan\n"
     ]
    }
   ],
   "source": [
    "print(\"printing some random essay\")\n",
    "print(9, project_data['essay'].values[9])\n",
    "print('-'*50)\n",
    "print(34, project_data['essay'].values[34])\n",
    "print('-'*50)\n",
    "print(147, project_data['essay'].values[147])"
   ]
  },
  {
   "cell_type": "code",
   "execution_count": 22,
   "metadata": {},
   "outputs": [
    {
     "name": "stderr",
     "output_type": "stream",
     "text": [
      "100%|███████████████████████████████████████████████| 109248/109248 [01:13<00:00, 1484.64it/s]\n"
     ]
    }
   ],
   "source": [
    "preprocessed_essays = preprocess_text(project_data['essay'].values)"
   ]
  },
  {
   "cell_type": "code",
   "execution_count": 23,
   "metadata": {},
   "outputs": [
    {
     "name": "stdout",
     "output_type": "stream",
     "text": [
      "printing some random essay\n",
      "9 95 students free reduced lunch homeless despite come school eagerness learn students inquisitive eager learners embrace challenge not great books resources every day many not afforded opportunity engage big colorful pages book regular basis home not travel public library duty teacher provide student opportunity succeed every aspect life reading fundamental students read books boosting comprehension skills books used read alouds partner reading independent reading engage reading build love reading reading pure enjoyment introduced new authors well old favorites want students ready 21st century know pleasure holding good hard back book hand nothing like good book read students soar reading consideration generous funding contribution help build stamina prepare 3rd grade thank much reading proposal nannan\n",
      "--------------------------------------------------\n",
      "34 students mainly come extremely low income families majority come homes parents work full time students school 7 30 6 00 pm 2 30 6 00 pm school program receive free reduced meals breakfast lunch want students feel comfortable classroom home many students take multiple roles home well school sometimes caretakers younger siblings cooks babysitters academics friends developing going become adults consider essential part job model helping others gain knowledge positive manner result community students love helping outside classroom consistently look opportunities support learning kind helpful way excited experimenting alternative seating classroom school year studies shown giving students option sit classroom increases focus well motivation allowing students choice classroom able explore create welcoming environment alternative classroom seating experimented frequently recent years believe along many others every child learns differently not apply multiplication memorized paper written applies space asked work students past ask work library work carpet answer always long learning work wherever want yoga balls lap desks able increase options seating classroom expand imaginable space nannan\n",
      "--------------------------------------------------\n",
      "147 students eager learn make mark world come title 1 school need extra love fourth grade students high poverty area still come school every day get education trying make fun educational get schooling created caring environment students bloom deserve best thank requesting 1 chromebook access online interventions differentiate instruction get extra practice chromebook used supplement ela math instruction students play ela math games engaging fun well participate assignments online turn help students improve skills chromebook classroom would not allow students use programs pace would ensure students getting adequate time use programs online programs especially beneficial students special needs able work level well challenged different materials making students confident abilities chromebook would allow students daily access computers increase computing skills change lives better become successful school access technology classroom would help bridge achievement gap nannan\n"
     ]
    }
   ],
   "source": [
    "print(\"printing some random essay\")\n",
    "print(9, preprocessed_essays[9])\n",
    "print('-'*50)\n",
    "print(34, preprocessed_essays[34])\n",
    "print('-'*50)\n",
    "print(147, preprocessed_essays[147])\n",
    "\n",
    "#merge the column in the project_data\n",
    "project_data['processed_essay']=preprocessed_essays"
   ]
  },
  {
   "cell_type": "markdown",
   "metadata": {},
   "source": [
    "## 1.10 Preprocessing Text Features: Project Title"
   ]
  },
  {
   "cell_type": "code",
   "execution_count": 24,
   "metadata": {},
   "outputs": [
    {
     "name": "stdout",
     "output_type": "stream",
     "text": [
      "printing some random project_titles\n",
      "9 Just For the Love of Reading--\\r\\nPure Pleasure\n",
      "--------------------------------------------------\n",
      "34 \\\"Have A Ball!!!\\\"\n",
      "--------------------------------------------------\n",
      "147 Who needs a Chromebook?\\r\\nWE DO!!\n"
     ]
    }
   ],
   "source": [
    "print(\"printing some random project_titles\")\n",
    "print(9, project_data['project_title'].values[9])\n",
    "print('-'*50)\n",
    "print(34, project_data['project_title'].values[34])\n",
    "print('-'*50)\n",
    "print(147, project_data['project_title'].values[147])"
   ]
  },
  {
   "cell_type": "code",
   "execution_count": 25,
   "metadata": {},
   "outputs": [
    {
     "name": "stderr",
     "output_type": "stream",
     "text": [
      "100%|██████████████████████████████████████████████| 109248/109248 [00:05<00:00, 21518.70it/s]\n"
     ]
    }
   ],
   "source": [
    "processed_title = preprocess_text(project_data['project_title'].values)"
   ]
  },
  {
   "cell_type": "code",
   "execution_count": 26,
   "metadata": {},
   "outputs": [
    {
     "name": "stdout",
     "output_type": "stream",
     "text": [
      "printing some random title\n",
      "9 love reading pure pleasure\n",
      "--------------------------------------------------\n",
      "34 ball\n",
      "--------------------------------------------------\n",
      "147 needs chromebook\n"
     ]
    }
   ],
   "source": [
    "print(\"printing some random title\")\n",
    "print(9, preprocessed_titles[9])\n",
    "print('-'*50)\n",
    "print(34, preprocessed_titles[34])\n",
    "print('-'*50)\n",
    "print(147, preprocessed_titles[147])\n",
    "\n",
    "#merge the column in the project_data\n",
    "project_data['processed_title']=preprocessed_titles"
   ]
  },
  {
   "cell_type": "markdown",
   "metadata": {},
   "source": [
    "## Creating sentiment columns "
   ]
  },
  {
   "cell_type": "code",
   "execution_count": 27,
   "metadata": {},
   "outputs": [
    {
     "name": "stderr",
     "output_type": "stream",
     "text": [
      "100%|████████████████████████████████████████████████| 109248/109248 [06:24<00:00, 284.07it/s]\n"
     ]
    }
   ],
   "source": [
    "## craete the sentiment columns using  \n",
    "\n",
    "neg=[]\n",
    "pos=[]\n",
    "neu=[]\n",
    "compound=[]\n",
    "sentiment_model=SentimentIntensityAnalyzer()\n",
    "for text in tqdm(project_data['processed_essay']):\n",
    "    pol_scores = sentiment_model.polarity_scores(text)\n",
    "    neg.append(pol_scores['neg'])\n",
    "    pos.append(pol_scores['pos'])\n",
    "    neu.append(pol_scores['neu'])\n",
    "    compound.append(pol_scores['compound'])\n",
    "    \n",
    "project_data['pos']=pos\n",
    "project_data['neg']=neg\n",
    "project_data['neu']=neu\n",
    "project_data['compound']=compound"
   ]
  },
  {
   "cell_type": "markdown",
   "metadata": {},
   "source": [
    "## 2 Train,Test,CV Split"
   ]
  },
  {
   "cell_type": "code",
   "execution_count": 28,
   "metadata": {},
   "outputs": [],
   "source": [
    "# train test split using sklearn.model selection\n",
    "from sklearn.model_selection import train_test_split\n",
    "X_train, X_test, y_train, y_test = train_test_split(project_data, project_data['project_is_approved'], test_size=0.33, stratify = project_data['project_is_approved'],random_state=0)\n",
    "X_train, X_cv, y_train, y_cv = train_test_split(X_train, y_train, test_size=0.33, stratify=y_train,random_state=0)"
   ]
  },
  {
   "cell_type": "code",
   "execution_count": 29,
   "metadata": {},
   "outputs": [],
   "source": [
    "## drop the y labels from splits\n",
    "X_train.drop(['project_is_approved'], axis=1, inplace=True)\n",
    "X_test.drop(['project_is_approved'], axis=1, inplace=True)\n",
    "X_cv.drop(['project_is_approved'], axis=1, inplace=True)"
   ]
  },
  {
   "cell_type": "code",
   "execution_count": 30,
   "metadata": {},
   "outputs": [
    {
     "data": {
      "text/html": [
       "<div>\n",
       "<style scoped>\n",
       "    .dataframe tbody tr th:only-of-type {\n",
       "        vertical-align: middle;\n",
       "    }\n",
       "\n",
       "    .dataframe tbody tr th {\n",
       "        vertical-align: top;\n",
       "    }\n",
       "\n",
       "    .dataframe thead th {\n",
       "        text-align: right;\n",
       "    }\n",
       "</style>\n",
       "<table border=\"1\" class=\"dataframe\">\n",
       "  <thead>\n",
       "    <tr style=\"text-align: right;\">\n",
       "      <th></th>\n",
       "      <th>Unnamed: 0</th>\n",
       "      <th>id</th>\n",
       "      <th>teacher_id</th>\n",
       "      <th>teacher_prefix</th>\n",
       "      <th>school_state</th>\n",
       "      <th>project_submitted_datetime</th>\n",
       "      <th>project_grade_category</th>\n",
       "      <th>project_title</th>\n",
       "      <th>project_essay_1</th>\n",
       "      <th>project_essay_2</th>\n",
       "      <th>...</th>\n",
       "      <th>words_in_essay</th>\n",
       "      <th>words_in_title</th>\n",
       "      <th>price</th>\n",
       "      <th>quantity</th>\n",
       "      <th>processed_essay</th>\n",
       "      <th>processed_title</th>\n",
       "      <th>pos</th>\n",
       "      <th>neg</th>\n",
       "      <th>neu</th>\n",
       "      <th>compound</th>\n",
       "    </tr>\n",
       "  </thead>\n",
       "  <tbody>\n",
       "    <tr>\n",
       "      <th>75742</th>\n",
       "      <td>118221</td>\n",
       "      <td>p186156</td>\n",
       "      <td>f50f55a2b44b65b54f38f03c5df21922</td>\n",
       "      <td>mrs</td>\n",
       "      <td>tx</td>\n",
       "      <td>2017-03-01 16:21:46</td>\n",
       "      <td>9_12</td>\n",
       "      <td>I-Waste:  a Multi-Media Art Installation on El...</td>\n",
       "      <td>My students are creative human beings.  They a...</td>\n",
       "      <td>It's no secret that the arts are underfunded i...</td>\n",
       "      <td>...</td>\n",
       "      <td>241</td>\n",
       "      <td>10</td>\n",
       "      <td>945.90</td>\n",
       "      <td>5</td>\n",
       "      <td>students creative human beings sculpture ceram...</td>\n",
       "      <td>waste multi media art installation electronic ...</td>\n",
       "      <td>0.179</td>\n",
       "      <td>0.112</td>\n",
       "      <td>0.709</td>\n",
       "      <td>0.8684</td>\n",
       "    </tr>\n",
       "    <tr>\n",
       "      <th>61001</th>\n",
       "      <td>57644</td>\n",
       "      <td>p180433</td>\n",
       "      <td>9e0fb5827f551d7e6966f8b3985e387b</td>\n",
       "      <td>ms</td>\n",
       "      <td>ny</td>\n",
       "      <td>2017-03-09 10:19:06</td>\n",
       "      <td>6_8</td>\n",
       "      <td>Authentic Listening and Speaking Activities fo...</td>\n",
       "      <td>The Hyde Park Central School District is locat...</td>\n",
       "      <td>One area my students struggle the most with is...</td>\n",
       "      <td>...</td>\n",
       "      <td>254</td>\n",
       "      <td>10</td>\n",
       "      <td>100.63</td>\n",
       "      <td>35</td>\n",
       "      <td>hyde park central school district located nort...</td>\n",
       "      <td>authentic listening speaking activities world ...</td>\n",
       "      <td>0.127</td>\n",
       "      <td>0.014</td>\n",
       "      <td>0.859</td>\n",
       "      <td>0.9524</td>\n",
       "    </tr>\n",
       "  </tbody>\n",
       "</table>\n",
       "<p>2 rows × 27 columns</p>\n",
       "</div>"
      ],
      "text/plain": [
       "       Unnamed: 0       id                        teacher_id teacher_prefix  \\\n",
       "75742      118221  p186156  f50f55a2b44b65b54f38f03c5df21922            mrs   \n",
       "61001       57644  p180433  9e0fb5827f551d7e6966f8b3985e387b             ms   \n",
       "\n",
       "      school_state project_submitted_datetime project_grade_category  \\\n",
       "75742           tx        2017-03-01 16:21:46                   9_12   \n",
       "61001           ny        2017-03-09 10:19:06                    6_8   \n",
       "\n",
       "                                           project_title  \\\n",
       "75742  I-Waste:  a Multi-Media Art Installation on El...   \n",
       "61001  Authentic Listening and Speaking Activities fo...   \n",
       "\n",
       "                                         project_essay_1  \\\n",
       "75742  My students are creative human beings.  They a...   \n",
       "61001  The Hyde Park Central School District is locat...   \n",
       "\n",
       "                                         project_essay_2  ... words_in_essay  \\\n",
       "75742  It's no secret that the arts are underfunded i...  ...            241   \n",
       "61001  One area my students struggle the most with is...  ...            254   \n",
       "\n",
       "      words_in_title   price  quantity  \\\n",
       "75742             10  945.90         5   \n",
       "61001             10  100.63        35   \n",
       "\n",
       "                                         processed_essay  \\\n",
       "75742  students creative human beings sculpture ceram...   \n",
       "61001  hyde park central school district located nort...   \n",
       "\n",
       "                                         processed_title    pos    neg    neu  \\\n",
       "75742  waste multi media art installation electronic ...  0.179  0.112  0.709   \n",
       "61001  authentic listening speaking activities world ...  0.127  0.014  0.859   \n",
       "\n",
       "       compound  \n",
       "75742    0.8684  \n",
       "61001    0.9524  \n",
       "\n",
       "[2 rows x 27 columns]"
      ]
     },
     "execution_count": 30,
     "metadata": {},
     "output_type": "execute_result"
    }
   ],
   "source": [
    "X_train.head(2)"
   ]
  },
  {
   "cell_type": "markdown",
   "metadata": {},
   "source": [
    "### 3.  VECTORIZING DATA"
   ]
  },
  {
   "cell_type": "markdown",
   "metadata": {},
   "source": [
    "### 3.1 One hot encoding on Categorical"
   ]
  },
  {
   "cell_type": "code",
   "execution_count": 31,
   "metadata": {},
   "outputs": [
    {
     "name": "stdout",
     "output_type": "stream",
     "text": [
      "['AppliedLearning', 'Care_Hunger', 'Health_Sports', 'History_Civics', 'Literacy_Language', 'Math_Science', 'Music_Arts', 'SpecialNeeds', 'Warmth']\n",
      "Shape of matrix of Train data after one hot encoding  (49041, 9)\n",
      "Shape of matrix of Test data after one hot encoding  (36052, 9)\n",
      "Shape of matrix of CV data after one hot encoding  (24155, 9)\n"
     ]
    }
   ],
   "source": [
    "# we use count vectorizer to convert the values into one hot vectors \n",
    "## clean categories\n",
    "\n",
    "cat_vectorize = CountVectorizer(lowercase=False, binary=True)\n",
    "cat_vectorize.fit(X_train['clean_categories'].values)\n",
    "\n",
    "train_categories = cat_vectorize.transform(X_train['clean_categories'].values)\n",
    "test_categories = cat_vectorize.transform(X_test['clean_categories'].values)\n",
    "cv_categories = cat_vectorize.transform(X_cv['clean_categories'].values)\n",
    "\n",
    "print(cat_vectorize.get_feature_names())\n",
    "print(\"Shape of matrix of Train data after one hot encoding \",train_categories.shape)\n",
    "print(\"Shape of matrix of Test data after one hot encoding \",test_categories.shape)\n",
    "print(\"Shape of matrix of CV data after one hot encoding \",cv_categories.shape)"
   ]
  },
  {
   "cell_type": "code",
   "execution_count": 32,
   "metadata": {},
   "outputs": [
    {
     "name": "stdout",
     "output_type": "stream",
     "text": [
      "['AppliedSciences', 'Care_Hunger', 'CharacterEducation', 'Civics_Government', 'College_CareerPrep', 'CommunityService', 'ESL', 'EarlyDevelopment', 'Economics', 'EnvironmentalScience', 'Extracurricular', 'FinancialLiteracy', 'ForeignLanguages', 'Gym_Fitness', 'Health_LifeScience', 'Health_Wellness', 'History_Geography', 'Literacy', 'Literature_Writing', 'Mathematics', 'Music', 'NutritionEducation', 'Other', 'ParentInvolvement', 'PerformingArts', 'SocialSciences', 'SpecialNeeds', 'TeamSports', 'VisualArts', 'Warmth']\n",
      "Shape of matrix of Train data after one hot encoding  (49041, 30)\n",
      "Shape of matrix of Test data after one hot encoding  (36052, 30)\n",
      "Shape of matrix of CV data after one hot encoding  (24155, 30)\n"
     ]
    }
   ],
   "source": [
    "# we use count vectorizer to convert the values into one hot vectors \n",
    "## clean subcategories\n",
    "\n",
    "subcat_vectorize = CountVectorizer(lowercase=False, binary=True)\n",
    "subcat_vectorize.fit(X_train['clean_subcategories'].values)\n",
    "\n",
    "train_subcategories = subcat_vectorize.transform(X_train['clean_subcategories'].values)\n",
    "test_subcategories = subcat_vectorize.transform(X_test['clean_subcategories'].values)\n",
    "cv_subcategories = subcat_vectorize.transform(X_cv['clean_subcategories'].values)\n",
    "\n",
    "print(subcat_vectorize.get_feature_names())\n",
    "print(\"Shape of matrix of Train data after one hot encoding \",train_subcategories.shape)\n",
    "print(\"Shape of matrix of Test data after one hot encoding \",test_subcategories.shape)\n",
    "print(\"Shape of matrix of CV data after one hot encoding \",cv_subcategories.shape)\n"
   ]
  },
  {
   "cell_type": "code",
   "execution_count": 33,
   "metadata": {},
   "outputs": [
    {
     "name": "stdout",
     "output_type": "stream",
     "text": [
      "['ak', 'al', 'ar', 'az', 'ca', 'co', 'ct', 'dc', 'de', 'fl', 'ga', 'hi', 'ia', 'id', 'il', 'in', 'ks', 'ky', 'la', 'ma', 'md', 'me', 'mi', 'mn', 'mo', 'ms', 'mt', 'nc', 'nd', 'ne', 'nh', 'nj', 'nm', 'nv', 'ny', 'oh', 'ok', 'or', 'pa', 'ri', 'sc', 'sd', 'tn', 'tx', 'ut', 'va', 'vt', 'wa', 'wi', 'wv', 'wy']\n",
      "Shape of matrix of Train data after one hot encoding  (49041, 51)\n",
      "Shape of matrix of Test data after one hot encoding  (36052, 51)\n",
      "Shape of matrix of CV data after one hot encoding  (24155, 51)\n"
     ]
    }
   ],
   "source": [
    "# we use count vectorizer to convert the values into one hot vectors \n",
    "##  school state\n",
    "\n",
    "\n",
    "sklstate_vectorize = CountVectorizer(lowercase=False, binary=True)\n",
    "sklstate_vectorize.fit(X_train['school_state'].values)\n",
    "\n",
    "sklstate_train = sklstate_vectorize.transform(X_train['school_state'].values)\n",
    "sklstate_test = sklstate_vectorize.transform(X_test['school_state'].values)\n",
    "sklstate_cv = sklstate_vectorize.transform(X_cv['school_state'].values)\n",
    "\n",
    "print(sklstate_vectorize.get_feature_names())\n",
    "print(\"Shape of matrix of Train data after one hot encoding \",sklstate_train.shape)\n",
    "print(\"Shape of matrix of Test data after one hot encoding \",sklstate_test.shape)\n",
    "print(\"Shape of matrix of CV data after one hot encoding \",sklstate_cv.shape)"
   ]
  },
  {
   "cell_type": "code",
   "execution_count": 34,
   "metadata": {},
   "outputs": [
    {
     "name": "stdout",
     "output_type": "stream",
     "text": [
      "['dr', 'mr', 'mrs', 'ms', 'teacher']\n",
      "Shape of matrix of Train data after one hot encoding  (49041, 5)\n",
      "Shape of matrix of Test data after one hot encoding  (36052, 5)\n",
      "Shape of matrix of CV data after one hot encoding  (24155, 5)\n"
     ]
    }
   ],
   "source": [
    "# we use count vectorizer to convert the values into one hot vectors \n",
    "## teacher_prefix\n",
    "from sklearn.feature_extraction.text import CountVectorizer\n",
    "\n",
    "teacher_prefix_vectorize = CountVectorizer(lowercase=False, binary=True)\n",
    "teacher_prefix_vectorize.fit(X_train['teacher_prefix'].values)\n",
    "\n",
    "teacher_prefix_train = teacher_prefix_vectorize.transform(X_train['teacher_prefix'].values)\n",
    "teacher_prefix_test = teacher_prefix_vectorize.transform(X_test['teacher_prefix'].values)\n",
    "teacher_prefix_cv = teacher_prefix_vectorize.transform(X_cv['teacher_prefix'].values)\n",
    "\n",
    "print(teacher_prefix_vectorize.get_feature_names())\n",
    "print(\"Shape of matrix of Train data after one hot encoding \",teacher_prefix_train.shape)\n",
    "print(\"Shape of matrix of Test data after one hot encoding \",teacher_prefix_test.shape)\n",
    "print(\"Shape of matrix of CV data after one hot encoding \",teacher_prefix_cv.shape)"
   ]
  },
  {
   "cell_type": "code",
   "execution_count": 35,
   "metadata": {},
   "outputs": [
    {
     "name": "stdout",
     "output_type": "stream",
     "text": [
      "['3_5', '6_8', '9_12', 'prek_2']\n",
      "Shape of matrix of Train data after one hot encoding  (49041, 4)\n",
      "Shape of matrix of Test data after one hot encoding  (36052, 4)\n",
      "Shape of matrix of CV data after one hot encoding  (24155, 4)\n"
     ]
    }
   ],
   "source": [
    "# we use count vectorizer to convert the values into one hot vectors \n",
    "## project_grade\n",
    "\n",
    "proj_grade_vectorize = CountVectorizer(lowercase=False, binary=True)\n",
    "proj_grade_vectorize.fit(X_train['project_grade_category'].values)\n",
    "\n",
    "proj_grade_train = proj_grade_vectorize.transform(X_train['project_grade_category'].values)\n",
    "proj_grade_test = proj_grade_vectorize.transform(X_test['project_grade_category'].values)\n",
    "proj_grade_cv = proj_grade_vectorize.transform(X_cv['project_grade_category'].values)\n",
    "\n",
    "print(proj_grade_vectorize.get_feature_names())\n",
    "print(\"Shape of matrix of Train data after one hot encoding \",proj_grade_train.shape)\n",
    "print(\"Shape of matrix of Test data after one hot encoding \",proj_grade_test.shape)\n",
    "print(\"Shape of matrix of CV data after one hot encoding \",proj_grade_cv.shape)"
   ]
  },
  {
   "cell_type": "markdown",
   "metadata": {},
   "source": [
    "## 3.2 Vectorizing Text data"
   ]
  },
  {
   "cell_type": "markdown",
   "metadata": {},
   "source": [
    "##### 3.2.1 BOW on Essay data"
   ]
  },
  {
   "cell_type": "code",
   "execution_count": 36,
   "metadata": {},
   "outputs": [
    {
     "name": "stdout",
     "output_type": "stream",
     "text": [
      "Shape of matrix after one hot encoding  (49041, 5000)\n",
      "Shape of matrix after one hot encoding  (36052, 5000)\n",
      "Shape of matrix after one hot encoding  (24155, 5000)\n"
     ]
    }
   ],
   "source": [
    " ##Considering the words that appeared in atleast 10 documents \n",
    "\n",
    "bow_essay = CountVectorizer(min_df=10,max_features=5000,ngram_range=(1,2))  \n",
    "bow_essay.fit(X_train['processed_essay'])\n",
    "\n",
    "bow_essay_train = bow_essay.transform(X_train['processed_essay'])\n",
    "\n",
    "print(\"Shape of matrix after one hot encoding \",bow_essay_train.shape)   \n",
    "\n",
    "## tranform Test data\n",
    "\n",
    "bow_essay_test = bow_essay.transform(X_test['processed_essay'])\n",
    "\n",
    "print(\"Shape of matrix after one hot encoding \",bow_essay_test.shape)  \n",
    "\n",
    "\n",
    "## Teansform cv data\n",
    "\n",
    "bow_essay_cv = bow_essay.transform(X_cv['processed_essay'])\n",
    "print(\"Shape of matrix after one hot encoding \",bow_essay_cv.shape)  "
   ]
  },
  {
   "cell_type": "markdown",
   "metadata": {},
   "source": [
    "##### 3.2.2 BOW on Title data"
   ]
  },
  {
   "cell_type": "code",
   "execution_count": 37,
   "metadata": {},
   "outputs": [
    {
     "name": "stdout",
     "output_type": "stream",
     "text": [
      "Shape of matrix after one hot encoding  (49041, 3244)\n",
      "Shape of matrix after one hot encoding  (36052, 3244)\n",
      "Shape of matrix after one hot encoding  (24155, 3244)\n"
     ]
    }
   ],
   "source": [
    " ##Considering the words that appeared in atleast 10 documents \n",
    "\n",
    "bow_title = CountVectorizer(min_df=10,max_features=5000,ngram_range=(1,2))  \n",
    "bow_title.fit(X_train['processed_title'])\n",
    "\n",
    "bow_title_train = bow_title.transform(X_train['processed_title'])\n",
    "\n",
    "print(\"Shape of matrix after one hot encoding \",bow_title_train.shape)   \n",
    "\n",
    "## tranform Test data\n",
    "\n",
    "bow_title_test = bow_title.transform(X_test['processed_title'])\n",
    "\n",
    "print(\"Shape of matrix after one hot encoding \",bow_title_test.shape)  \n",
    "\n",
    "\n",
    "## Teansform cv data\n",
    "\n",
    "bow_title_cv = bow_title.transform(X_cv['processed_title'])\n",
    "print(\"Shape of matrix after one hot encoding \",bow_title_cv.shape)  "
   ]
  },
  {
   "cell_type": "markdown",
   "metadata": {},
   "source": [
    "##### 3.2.3 TFIDF on Essay data"
   ]
  },
  {
   "cell_type": "code",
   "execution_count": 38,
   "metadata": {},
   "outputs": [
    {
     "name": "stdout",
     "output_type": "stream",
     "text": [
      "Shape of matrix after one hot encoding  (49041, 5000)\n",
      "Shape of matrix after one hot encoding  (36052, 5000)\n",
      "Shape of matrix after one hot encoding  (24155, 5000)\n"
     ]
    }
   ],
   "source": [
    " ##Considering the words that appeared in atleast 10 documents \n",
    "\n",
    "tfidf_essay = TfidfVectorizer(min_df=10,max_features=5000,ngram_range=(1,2))  \n",
    "tfidf_essay.fit(X_train['processed_essay'])\n",
    "\n",
    "tfidf_essay_train = tfidf_essay.transform(X_train['processed_essay'])\n",
    "\n",
    "print(\"Shape of matrix after one hot encoding \",tfidf_essay_train.shape)   \n",
    "\n",
    "## tranform Test data\n",
    "\n",
    "tfidf_essay_test = tfidf_essay.transform(X_test['processed_essay'])\n",
    "\n",
    "print(\"Shape of matrix after one hot encoding \",tfidf_essay_test.shape)  \n",
    "\n",
    "\n",
    "## Teansform cv data\n",
    "\n",
    "tfidf_essay_cv = tfidf_essay.transform(X_cv['processed_essay'])\n",
    "print(\"Shape of matrix after one hot encoding \",tfidf_essay_cv.shape)  "
   ]
  },
  {
   "cell_type": "markdown",
   "metadata": {},
   "source": [
    "##### 3.2.4 TFIDF on Title data"
   ]
  },
  {
   "cell_type": "code",
   "execution_count": 39,
   "metadata": {},
   "outputs": [
    {
     "name": "stdout",
     "output_type": "stream",
     "text": [
      "Shape of matrix after one hot encoding  (49041, 3244)\n",
      "Shape of matrix after one hot encoding  (36052, 3244)\n",
      "Shape of matrix after one hot encoding  (24155, 3244)\n"
     ]
    }
   ],
   "source": [
    " ##Considering the words that appeared in atleast 10 documents \n",
    "\n",
    "tfidf_title = TfidfVectorizer(min_df=10,max_features=5000,ngram_range=(1,2))   \n",
    "tfidf_title.fit(X_train['processed_title'])\n",
    "\n",
    "tfidf_title_train = tfidf_title.transform(X_train['processed_title'])\n",
    "\n",
    "print(\"Shape of matrix after one hot encoding \",tfidf_title_train.shape)   \n",
    "\n",
    "## tranform Test data\n",
    "\n",
    "tfidf_title_test = tfidf_title.transform(X_test['processed_title'])\n",
    "\n",
    "print(\"Shape of matrix after one hot encoding \",tfidf_title_test.shape)  \n",
    "\n",
    "\n",
    "## Teansform cv data\n",
    "\n",
    "tfidf_title_cv = tfidf_title.transform(X_cv['processed_title'])\n",
    "print(\"Shape of matrix after one hot encoding \",tfidf_title_cv.shape)  "
   ]
  },
  {
   "cell_type": "markdown",
   "metadata": {},
   "source": [
    "##### 3.2.5 Avg W2V on Essay data using Pretrained Models"
   ]
  },
  {
   "cell_type": "code",
   "execution_count": 40,
   "metadata": {},
   "outputs": [],
   "source": [
    "# stronging variables into pickle files python: http://www.jessicayung.com/how-to-use-pickle-to-save-and-load-variables-in-python/\n",
    "# make sure you have the glove_vectors file\n",
    "## Glove vectors are global vectors for words which has vector every word in 300d .\n",
    "## for read more :https://nlp.stanford.edu/projects/glove/\n",
    "with open('glove_vectors', 'rb') as f:\n",
    "    model = pickle.load(f)\n",
    "    glove_words =  set(model.keys())"
   ]
  },
  {
   "cell_type": "code",
   "execution_count": 41,
   "metadata": {
    "scrolled": true
   },
   "outputs": [
    {
     "name": "stderr",
     "output_type": "stream",
     "text": [
      "100%|█████████████████████████████████████████████████| 49041/49041 [00:24<00:00, 1965.82it/s]\n"
     ]
    },
    {
     "name": "stdout",
     "output_type": "stream",
     "text": [
      "49041\n",
      "300\n"
     ]
    },
    {
     "name": "stderr",
     "output_type": "stream",
     "text": [
      "100%|█████████████████████████████████████████████████| 24155/24155 [00:12<00:00, 1998.78it/s]\n"
     ]
    },
    {
     "name": "stdout",
     "output_type": "stream",
     "text": [
      "24155\n",
      "300\n"
     ]
    },
    {
     "name": "stderr",
     "output_type": "stream",
     "text": [
      "100%|█████████████████████████████████████████████████| 36052/36052 [00:17<00:00, 2037.32it/s]\n"
     ]
    },
    {
     "name": "stdout",
     "output_type": "stream",
     "text": [
      "36052\n",
      "300\n"
     ]
    }
   ],
   "source": [
    "# average Word2Vec on train\n",
    "# compute average word2vec for each review.\n",
    "\n",
    "avg_w2v_vectors_train = []; \n",
    "\n",
    "for sentence in tqdm(X_train[\"processed_essay\"]): # for each review/sentence\n",
    "    vector = np.zeros(300) # as word vectors are of zero length\n",
    "    cnt_words =0; # num of words with a valid vector in the sentence/review\n",
    "    for word in sentence.split(): # for each word in a review/sentence\n",
    "        if word in glove_words:\n",
    "            vector += model[word]\n",
    "            cnt_words += 1\n",
    "    if cnt_words != 0:\n",
    "        vector /= cnt_words\n",
    "    avg_w2v_vectors_train.append(vector)\n",
    "\n",
    "print(len(avg_w2v_vectors_train))\n",
    "print(len(avg_w2v_vectors_train[0]))\n",
    "\n",
    "\n",
    "# average Word2Vec on CV\n",
    "# compute average word2vec for each review.\n",
    "\n",
    "avg_w2v_vectors_cv = []; \n",
    "\n",
    "for sentence in tqdm(X_cv[\"processed_essay\"]): # for each review/sentence\n",
    "    vector = np.zeros(300) # as word vectors are of zero length\n",
    "    cnt_words =0; # num of words with a valid vector in the sentence/review\n",
    "    for word in sentence.split(): # for each word in a review/sentence\n",
    "        if word in glove_words:\n",
    "            vector += model[word]\n",
    "            cnt_words += 1\n",
    "    if cnt_words != 0:\n",
    "        vector /= cnt_words\n",
    "    avg_w2v_vectors_cv.append(vector)\n",
    "\n",
    "print(len(avg_w2v_vectors_cv))\n",
    "print(len(avg_w2v_vectors_cv[0]))\n",
    "\n",
    "\n",
    "# average Word2Vec on test\n",
    "# compute average word2vec for each review.\n",
    "\n",
    "avg_w2v_vectors_test = []; \n",
    "\n",
    "for sentence in tqdm(X_test[\"processed_essay\"]): # for each review/sentence\n",
    "    vector = np.zeros(300) # as word vectors are of zero length\n",
    "    cnt_words =0; # num of words with a valid vector in the sentence/review\n",
    "    for word in sentence.split(): # for each word in a review/sentence\n",
    "        if word in glove_words:\n",
    "            vector += model[word]\n",
    "            cnt_words += 1\n",
    "    if cnt_words != 0:\n",
    "        vector /= cnt_words\n",
    "    avg_w2v_vectors_test.append(vector)\n",
    "\n",
    "print(len(avg_w2v_vectors_test))\n",
    "print(len(avg_w2v_vectors_test[0]))"
   ]
  },
  {
   "cell_type": "markdown",
   "metadata": {},
   "source": [
    "##### 3.2.6 Avg W2V on Title data using Pretrained Models"
   ]
  },
  {
   "cell_type": "code",
   "execution_count": 42,
   "metadata": {
    "scrolled": true
   },
   "outputs": [
    {
     "name": "stderr",
     "output_type": "stream",
     "text": [
      "100%|████████████████████████████████████████████████| 49041/49041 [00:01<00:00, 46388.13it/s]\n"
     ]
    },
    {
     "name": "stdout",
     "output_type": "stream",
     "text": [
      "49041\n",
      "300\n"
     ]
    },
    {
     "name": "stderr",
     "output_type": "stream",
     "text": [
      "100%|████████████████████████████████████████████████| 24155/24155 [00:00<00:00, 39886.92it/s]\n"
     ]
    },
    {
     "name": "stdout",
     "output_type": "stream",
     "text": [
      "24155\n",
      "300\n"
     ]
    },
    {
     "name": "stderr",
     "output_type": "stream",
     "text": [
      "100%|████████████████████████████████████████████████| 36052/36052 [00:00<00:00, 41644.95it/s]\n"
     ]
    },
    {
     "name": "stdout",
     "output_type": "stream",
     "text": [
      "36052\n",
      "300\n"
     ]
    }
   ],
   "source": [
    "# average Word2Vec on train\n",
    "# compute average word2vec for each review.\n",
    "\n",
    "avg_w2v_vectors_title_train = []; \n",
    "\n",
    "for sentence in tqdm(X_train[\"processed_title\"]): # for each review/sentence\n",
    "    vector = np.zeros(300) # as word vectors are of zero length\n",
    "    cnt_words =0; # num of words with a valid vector in the sentence/review\n",
    "    for word in sentence.split(): # for each word in a review/sentence\n",
    "        if word in glove_words:\n",
    "            vector += model[word]\n",
    "            cnt_words += 1\n",
    "    if cnt_words != 0:\n",
    "        vector /= cnt_words\n",
    "    avg_w2v_vectors_title_train.append(vector)\n",
    "\n",
    "print(len(avg_w2v_vectors_title_train))\n",
    "print(len(avg_w2v_vectors_title_train[0]))\n",
    "\n",
    "\n",
    "# average Word2Vec on CV\n",
    "# compute average word2vec for each review.\n",
    "\n",
    "avg_w2v_vectors_title_cv = []; \n",
    "\n",
    "for sentence in tqdm(X_cv[\"processed_title\"]): # for each review/sentence\n",
    "    vector = np.zeros(300) # as word vectors are of zero length\n",
    "    cnt_words =0; # num of words with a valid vector in the sentence/review\n",
    "    for word in sentence.split(): # for each word in a review/sentence\n",
    "        if word in glove_words:\n",
    "            vector += model[word]\n",
    "            cnt_words += 1\n",
    "    if cnt_words != 0:\n",
    "        vector /= cnt_words\n",
    "    avg_w2v_vectors_title_cv.append(vector)\n",
    "\n",
    "print(len(avg_w2v_vectors_title_cv))\n",
    "print(len(avg_w2v_vectors_title_cv[0]))\n",
    "\n",
    "\n",
    "# average Word2Vec on test\n",
    "# compute average word2vec for each review.\n",
    "\n",
    "avg_w2v_vectors_title_test = []; \n",
    "\n",
    "for sentence in tqdm(X_test[\"processed_title\"]): # for each review/sentence\n",
    "    vector = np.zeros(300) # as word vectors are of zero length\n",
    "    cnt_words =0; # num of words with a valid vector in the sentence/review\n",
    "    for word in sentence.split(): # for each word in a review/sentence\n",
    "        if word in glove_words:\n",
    "            vector += model[word]\n",
    "            cnt_words += 1\n",
    "    if cnt_words != 0:\n",
    "        vector /= cnt_words\n",
    "    avg_w2v_vectors_title_test.append(vector)\n",
    "\n",
    "print(len(avg_w2v_vectors_test))\n",
    "print(len(avg_w2v_vectors_title_test[0]))"
   ]
  },
  {
   "cell_type": "markdown",
   "metadata": {},
   "source": [
    "##### 3.2.7 Weighted tfidf  on Essay data using Pretrained Models"
   ]
  },
  {
   "cell_type": "code",
   "execution_count": 43,
   "metadata": {
    "scrolled": false
   },
   "outputs": [
    {
     "name": "stderr",
     "output_type": "stream",
     "text": [
      "100%|██████████████████████████████████████████████████| 49041/49041 [03:10<00:00, 257.66it/s]\n"
     ]
    },
    {
     "name": "stdout",
     "output_type": "stream",
     "text": [
      "49041\n",
      "300\n"
     ]
    },
    {
     "name": "stderr",
     "output_type": "stream",
     "text": [
      "100%|██████████████████████████████████████████████████| 24155/24155 [01:31<00:00, 265.00it/s]\n"
     ]
    },
    {
     "name": "stdout",
     "output_type": "stream",
     "text": [
      "24155\n",
      "300\n"
     ]
    },
    {
     "name": "stderr",
     "output_type": "stream",
     "text": [
      "100%|██████████████████████████████████████████████████| 36052/36052 [02:21<00:00, 255.42it/s]\n"
     ]
    },
    {
     "name": "stdout",
     "output_type": "stream",
     "text": [
      "36052\n",
      "300\n"
     ]
    }
   ],
   "source": [
    "# average Word2Vec on train\n",
    "# compute average word2vec for each review.\n",
    "# S = [\"abc def pqr\", \"def def def abc\", \"pqr pqr def\"]\n",
    "\n",
    "tfidf_model = TfidfVectorizer()\n",
    "tfidf_model.fit(X_train[\"processed_essay\"])\n",
    "# we are converting a dictionary with word as a key, and the idf as a value\n",
    "dictionary = dict(zip(tfidf_model.get_feature_names(), list(tfidf_model.idf_)))\n",
    "tfidf_words = set(tfidf_model.get_feature_names())\n",
    "\n",
    "tfidf_w2v_vectors_train  = []; \n",
    "\n",
    "for sentence in tqdm(X_train[\"processed_essay\"]): # for each review/sentence\n",
    "    vector = np.zeros(300) # as word vectors are of zero length\n",
    "    tf_idf_weight =0; # num of words with a valid vector in the sentence/review\n",
    "    for word in sentence.split(): # for each word in a review/sentence\n",
    "        if (word in glove_words) and (word in tfidf_words):\n",
    "            vec = model[word] # getting the vector for each word\n",
    "            # here we are multiplying idf value(dictionary[word]) and the tf value((sentence.count(word)/len(sentence.split())))\n",
    "            tf_idf = dictionary[word]*(sentence.count(word)/len(sentence.split())) # getting the tfidf value for each word\n",
    "            vector += (vec * tf_idf) # calculating tfidf weighted w2v\n",
    "            tf_idf_weight += tf_idf\n",
    "    if tf_idf_weight != 0:\n",
    "        vector /= tf_idf_weight\n",
    "    tfidf_w2v_vectors_train.append(vector)\n",
    "\n",
    "print(len(tfidf_w2v_vectors_train))\n",
    "print(len(tfidf_w2v_vectors_train[0]))\n",
    "\n",
    "\n",
    "# average Word2Vec on CV\n",
    "# compute average word2vec for each review.\n",
    "\n",
    "tfidf_w2v_vectors_cv = []; \n",
    "\n",
    "for sentence in tqdm(X_cv[\"processed_essay\"]): # for each review/sentence\n",
    "    vector = np.zeros(300) # as word vectors are of zero length\n",
    "    tf_idf_weight =0; # num of words with a valid vector in the sentence/review\n",
    "    for word in sentence.split(): # for each word in a review/sentence\n",
    "        if (word in glove_words) and (word in tfidf_words):\n",
    "            vec = model[word] # getting the vector for each word\n",
    "            # here we are multiplying idf value(dictionary[word]) and the tf value((sentence.count(word)/len(sentence.split())))\n",
    "            tf_idf = dictionary[word]*(sentence.count(word)/len(sentence.split())) # getting the tfidf value for each word\n",
    "            vector += (vec * tf_idf) # calculating tfidf weighted w2v\n",
    "            tf_idf_weight += tf_idf\n",
    "    if tf_idf_weight != 0:\n",
    "        vector /= tf_idf_weight\n",
    "    tfidf_w2v_vectors_cv.append(vector)\n",
    "\n",
    "\n",
    "print(len(tfidf_w2v_vectors_cv))\n",
    "print(len(tfidf_w2v_vectors_cv[0]))\n",
    "\n",
    "\n",
    "# average Word2Vec on test\n",
    "# compute average word2vec for each review.\n",
    "\n",
    "tfidf_w2v_vectors_test = []; \n",
    "\n",
    "for sentence in tqdm(X_test[\"processed_essay\"]): # for each review/sentence\n",
    "    vector = np.zeros(300) # as word vectors are of zero length\n",
    "    tf_idf_weight =0; # num of words with a valid vector in the sentence/review\n",
    "    for word in sentence.split(): # for each word in a review/sentence\n",
    "        if (word in glove_words) and (word in tfidf_words):\n",
    "            vec = model[word] # getting the vector for each word\n",
    "            # here we are multiplying idf value(dictionary[word]) and the tf value((sentence.count(word)/len(sentence.split())))\n",
    "            tf_idf = dictionary[word]*(sentence.count(word)/len(sentence.split())) # getting the tfidf value for each word\n",
    "            vector += (vec * tf_idf) # calculating tfidf weighted w2v\n",
    "            tf_idf_weight += tf_idf\n",
    "    if tf_idf_weight != 0:\n",
    "        vector /= tf_idf_weight\n",
    "    tfidf_w2v_vectors_test.append(vector)\n",
    "\n",
    "\n",
    "print(len(tfidf_w2v_vectors_test))\n",
    "print(len(tfidf_w2v_vectors_test[0]))"
   ]
  },
  {
   "cell_type": "markdown",
   "metadata": {},
   "source": [
    "##### 3.2.7 Weighted tfidf  on Title data using Pretrained Models"
   ]
  },
  {
   "cell_type": "code",
   "execution_count": 44,
   "metadata": {},
   "outputs": [
    {
     "name": "stderr",
     "output_type": "stream",
     "text": [
      "100%|████████████████████████████████████████████████| 49041/49041 [00:02<00:00, 19513.53it/s]\n"
     ]
    },
    {
     "name": "stdout",
     "output_type": "stream",
     "text": [
      "49041\n",
      "300\n"
     ]
    },
    {
     "name": "stderr",
     "output_type": "stream",
     "text": [
      "100%|████████████████████████████████████████████████| 24155/24155 [00:01<00:00, 22377.67it/s]\n"
     ]
    },
    {
     "name": "stdout",
     "output_type": "stream",
     "text": [
      "24155\n",
      "300\n"
     ]
    },
    {
     "name": "stderr",
     "output_type": "stream",
     "text": [
      "100%|████████████████████████████████████████████████| 36052/36052 [00:01<00:00, 19622.08it/s]\n"
     ]
    },
    {
     "name": "stdout",
     "output_type": "stream",
     "text": [
      "36052\n",
      "300\n"
     ]
    }
   ],
   "source": [
    "# average Word2Vec on train\n",
    "# compute average word2vec for each review.\n",
    "# S = [\"abc def pqr\", \"def def def abc\", \"pqr pqr def\"]\n",
    "\n",
    "tfidf_model = TfidfVectorizer()\n",
    "tfidf_model.fit(X_train[\"processed_title\"])\n",
    "# we are converting a dictionary with word as a key, and the idf as a value\n",
    "dictionary = dict(zip(tfidf_model.get_feature_names(), list(tfidf_model.idf_)))\n",
    "tfidf_words = set(tfidf_model.get_feature_names())\n",
    "\n",
    "tfidf_w2v_vectors_title_train  = []; \n",
    "\n",
    "for sentence in tqdm(X_train[\"processed_title\"]): # for each review/sentence\n",
    "    vector = np.zeros(300) # as word vectors are of zero length\n",
    "    tf_idf_weight =0; # num of words with a valid vector in the sentence/review\n",
    "    for word in sentence.split(): # for each word in a review/sentence\n",
    "        if (word in glove_words) and (word in tfidf_words):\n",
    "            vec = model[word] # getting the vector for each word\n",
    "            # here we are multiplying idf value(dictionary[word]) and the tf value((sentence.count(word)/len(sentence.split())))\n",
    "            tf_idf = dictionary[word]*(sentence.count(word)/len(sentence.split())) # getting the tfidf value for each word\n",
    "            vector += (vec * tf_idf) # calculating tfidf weighted w2v\n",
    "            tf_idf_weight += tf_idf\n",
    "    if tf_idf_weight != 0:\n",
    "        vector /= tf_idf_weight\n",
    "    tfidf_w2v_vectors_title_train.append(vector)\n",
    "\n",
    "print(len(tfidf_w2v_vectors_title_train))\n",
    "print(len(tfidf_w2v_vectors_title_train[0]))\n",
    "\n",
    "\n",
    "# average Word2Vec on CV\n",
    "# compute average word2vec for each review.\n",
    "\n",
    "tfidf_w2v_vectors_title_cv = []; \n",
    "\n",
    "for sentence in tqdm(X_cv[\"processed_title\"]): # for each review/sentence\n",
    "    vector = np.zeros(300) # as word vectors are of zero length\n",
    "    tf_idf_weight =0; # num of words with a valid vector in the sentence/review\n",
    "    for word in sentence.split(): # for each word in a review/sentence\n",
    "        if (word in glove_words) and (word in tfidf_words):\n",
    "            vec = model[word] # getting the vector for each word\n",
    "            # here we are multiplying idf value(dictionary[word]) and the tf value((sentence.count(word)/len(sentence.split())))\n",
    "            tf_idf = dictionary[word]*(sentence.count(word)/len(sentence.split())) # getting the tfidf value for each word\n",
    "            vector += (vec * tf_idf) # calculating tfidf weighted w2v\n",
    "            tf_idf_weight += tf_idf\n",
    "    if tf_idf_weight != 0:\n",
    "        vector /= tf_idf_weight\n",
    "    tfidf_w2v_vectors_title_cv.append(vector)\n",
    "\n",
    "\n",
    "print(len(tfidf_w2v_vectors_title_cv))\n",
    "print(len(tfidf_w2v_vectors_title_cv[0]))\n",
    "\n",
    "\n",
    "# average Word2Vec on test\n",
    "# compute average word2vec for each review.\n",
    "\n",
    "tfidf_w2v_vectors_title_test = []; \n",
    "\n",
    "for sentence in tqdm(X_test[\"processed_title\"]): # for each review/sentence\n",
    "    vector = np.zeros(300) # as word vectors are of zero length\n",
    "    tf_idf_weight =0; # num of words with a valid vector in the sentence/review\n",
    "    for word in sentence.split(): # for each word in a review/sentence\n",
    "        if (word in glove_words) and (word in tfidf_words):\n",
    "            vec = model[word] # getting the vector for each word\n",
    "            # here we are multiplying idf value(dictionary[word]) and the tf value((sentence.count(word)/len(sentence.split())))\n",
    "            tf_idf = dictionary[word]*(sentence.count(word)/len(sentence.split())) # getting the tfidf value for each word\n",
    "            vector += (vec * tf_idf) # calculating tfidf weighted w2v\n",
    "            tf_idf_weight += tf_idf\n",
    "    if tf_idf_weight != 0:\n",
    "        vector /= tf_idf_weight\n",
    "    tfidf_w2v_vectors_title_test.append(vector)\n",
    "\n",
    "\n",
    "print(len(tfidf_w2v_vectors_title_test))\n",
    "print(len(tfidf_w2v_vectors_title_test[0]))"
   ]
  },
  {
   "cell_type": "markdown",
   "metadata": {},
   "source": [
    "### 4. Vectorizing Numerical Features"
   ]
  },
  {
   "cell_type": "markdown",
   "metadata": {},
   "source": [
    "### 4.1 Price"
   ]
  },
  {
   "cell_type": "code",
   "execution_count": 45,
   "metadata": {},
   "outputs": [
    {
     "name": "stdout",
     "output_type": "stream",
     "text": [
      "After vectorizations\n",
      "(1, 49041) (49041,)\n",
      "(1, 24155) (24155,)\n",
      "(1, 36052) (36052,)\n",
      "====================================================================================================\n"
     ]
    }
   ],
   "source": [
    "normalizer = Normalizer()\n",
    "# normalizer.fit(X_train['price'].values)\n",
    "# this will rise an error Expected 2D array, got 1D array instead: \n",
    "# array=[105.22 215.96  96.01 ... 368.98  80.53 709.67].\n",
    "# Reshape your data either using \n",
    "# array.reshape(-1, 1) if your data has a single feature \n",
    "# array.reshape(1, -1)  if it contains a single sample.\n",
    "normalizer.fit(X_train['price'].values.reshape(1,-1))\n",
    "\n",
    "X_train_price_norm = normalizer.transform(X_train['price'].values.reshape(1,-1))\n",
    "X_cv_price_norm = normalizer.transform(X_cv['price'].values.reshape(1,-1))\n",
    "X_test_price_norm = normalizer.transform(X_test['price'].values.reshape(1,-1))\n",
    "\n",
    "print(\"After vectorizations\")\n",
    "print(X_train_price_norm.shape, y_train.shape)\n",
    "print(X_cv_price_norm.shape, y_cv.shape)\n",
    "print(X_test_price_norm.shape, y_test.shape)\n",
    "print(\"=\"*100)\n",
    "\n",
    "## reshaping \n",
    "X_train_price_norm=X_train_price_norm.reshape(-1,1)\n",
    "X_cv_price_norm=X_cv_price_norm.reshape(-1,1)\n",
    "X_test_price_norm=X_test_price_norm.reshape(-1,1)"
   ]
  },
  {
   "cell_type": "markdown",
   "metadata": {},
   "source": [
    "### 4.2 Quantity"
   ]
  },
  {
   "cell_type": "code",
   "execution_count": 46,
   "metadata": {},
   "outputs": [
    {
     "name": "stdout",
     "output_type": "stream",
     "text": [
      "After vectorizations\n",
      "(1, 49041) (49041,)\n",
      "(1, 24155) (24155,)\n",
      "(1, 36052) (36052,)\n",
      "====================================================================================================\n"
     ]
    }
   ],
   "source": [
    "\n",
    "normalizer = Normalizer()\n",
    "\n",
    "# normalizer.fit(X_train['price'].values)\n",
    "# this will rise an error Expected 2D array, got 1D array instead: \n",
    "# array=[105.22 215.96  96.01 ... 368.98  80.53 709.67].\n",
    "# Reshape your data either using \n",
    "# array.reshape(-1, 1) if your data has a single feature \n",
    "# array.reshape(1, -1)  if it contains a single sample.\n",
    "\n",
    "normalizer.fit(X_train['quantity'].values.reshape(1,-1))\n",
    "\n",
    "quantity_train_norm = normalizer.transform(X_train['quantity'].values.reshape(1,-1))\n",
    "quantity_cv_norm = normalizer.transform(X_cv['quantity'].values.reshape(1,-1))\n",
    "quantity_test_norm = normalizer.transform(X_test['quantity'].values.reshape(1,-1))\n",
    "\n",
    "print(\"After vectorizations\")\n",
    "print(quantity_train_norm.shape, y_train.shape)\n",
    "print(quantity_cv_norm.shape, y_cv.shape)\n",
    "print(quantity_test_norm.shape, y_test.shape)\n",
    "print(\"=\"*100)\n",
    "\n",
    "## reshaping \n",
    "quantity_train_norm=quantity_train_norm.reshape(-1,1)\n",
    "quantity_cv_norm=quantity_cv_norm.reshape(-1,1)\n",
    "quantity_test_norm=quantity_test_norm.reshape(-1,1)"
   ]
  },
  {
   "cell_type": "markdown",
   "metadata": {},
   "source": [
    "### 4.3 Number of Previously posted projects"
   ]
  },
  {
   "cell_type": "code",
   "execution_count": 47,
   "metadata": {},
   "outputs": [
    {
     "name": "stdout",
     "output_type": "stream",
     "text": [
      "After vectorizations\n",
      "(1, 49041) (49041,)\n",
      "(1, 24155) (24155,)\n",
      "(1, 36052) (36052,)\n",
      "====================================================================================================\n"
     ]
    }
   ],
   "source": [
    "normalizer = Normalizer()\n",
    "\n",
    "# normalizer.fit(X_train['price'].values)\n",
    "# this will rise an error Expected 2D array, got 1D array instead: \n",
    "# array=[105.22 215.96  96.01 ... 368.98  80.53 709.67].\n",
    "# Reshape your data either using \n",
    "# array.reshape(-1, 1) if your data has a single feature \n",
    "# array.reshape(1, -1)  if it contains a single sample.\n",
    "\n",
    "normalizer.fit(X_train['teacher_number_of_previously_posted_projects'].values.reshape(1,-1))\n",
    "\n",
    "prev_projects_train_norm = normalizer.transform(X_train['teacher_number_of_previously_posted_projects'].values.reshape(1,-1))\n",
    "prev_projects_cv_norm = normalizer.transform(X_cv['teacher_number_of_previously_posted_projects'].values.reshape(1,-1))\n",
    "prev_projects_test_norm = normalizer.transform(X_test['teacher_number_of_previously_posted_projects'].values.reshape(1,-1))\n",
    "\n",
    "print(\"After vectorizations\")\n",
    "print(prev_projects_train_norm.shape, y_train.shape)\n",
    "print(prev_projects_cv_norm.shape, y_cv.shape)\n",
    "print(prev_projects_test_norm.shape, y_test.shape)\n",
    "print(\"=\"*100)\n",
    "\n",
    "## reshaping \n",
    "prev_projects_train_norm=prev_projects_train_norm.reshape(-1,1)\n",
    "prev_projects_cv_norm=prev_projects_cv_norm.reshape(-1,1)\n",
    "prev_projects_test_norm=prev_projects_test_norm.reshape(-1,1)"
   ]
  },
  {
   "cell_type": "markdown",
   "metadata": {},
   "source": [
    "### 4.4 Title Word counts"
   ]
  },
  {
   "cell_type": "code",
   "execution_count": 48,
   "metadata": {},
   "outputs": [
    {
     "name": "stdout",
     "output_type": "stream",
     "text": [
      "After vectorizations\n",
      "(1, 49041) (49041,)\n",
      "(1, 24155) (24155,)\n",
      "(1, 36052) (36052,)\n",
      "====================================================================================================\n"
     ]
    }
   ],
   "source": [
    "normalizer = Normalizer()\n",
    "\n",
    "normalizer.fit(X_train['words_in_title'].values.reshape(1,-1))\n",
    "\n",
    "title_word_count_train_norm = normalizer.transform(X_train['words_in_title'].values.reshape(1,-1))\n",
    "title_word_count_cv_norm = normalizer.transform(X_cv['words_in_title'].values.reshape(1,-1))\n",
    "title_word_count_test_norm = normalizer.transform(X_test['words_in_title'].values.reshape(1,-1))\n",
    "\n",
    "print(\"After vectorizations\")\n",
    "print(title_word_count_train_norm.shape, y_train.shape)\n",
    "print(title_word_count_cv_norm.shape, y_cv.shape)\n",
    "print(title_word_count_test_norm.shape, y_test.shape)\n",
    "print(\"=\"*100)\n",
    "\n",
    "## reshaping \n",
    "title_word_count_train_norm=title_word_count_train_norm.reshape(-1,1)\n",
    "title_word_count_cv_norm=title_word_count_cv_norm.reshape(-1,1)\n",
    "title_word_count_test_norm=title_word_count_test_norm.reshape(-1,1)"
   ]
  },
  {
   "cell_type": "markdown",
   "metadata": {},
   "source": [
    "### 4.5 Essay Words Counts"
   ]
  },
  {
   "cell_type": "code",
   "execution_count": 49,
   "metadata": {},
   "outputs": [
    {
     "name": "stdout",
     "output_type": "stream",
     "text": [
      "After vectorizations\n",
      "(1, 49041) (49041,)\n",
      "(1, 24155) (24155,)\n",
      "(1, 36052) (36052,)\n"
     ]
    }
   ],
   "source": [
    "normalizer = Normalizer()\n",
    "\n",
    "normalizer.fit(X_train['words_in_essay'].values.reshape(1,-1))\n",
    "\n",
    "essay_word_count_train_norm = normalizer.transform(X_train['words_in_essay'].values.reshape(1,-1))\n",
    "essay_word_count_cv_norm = normalizer.transform(X_cv['words_in_essay'].values.reshape(1,-1))\n",
    "essay_word_count_test_norm = normalizer.transform(X_test['words_in_essay'].values.reshape(1,-1))\n",
    "\n",
    "print(\"After vectorizations\")\n",
    "print(essay_word_count_train_norm.shape, y_train.shape)\n",
    "print(essay_word_count_cv_norm.shape, y_cv.shape)\n",
    "print(essay_word_count_test_norm.shape, y_test.shape)\n",
    "\n",
    "## reshaping \n",
    "essay_word_count_train_norm=essay_word_count_train_norm.reshape(-1,1)\n",
    "essay_word_count_cv_norm=essay_word_count_cv_norm.reshape(-1,1)\n",
    "essay_word_count_test_norm=essay_word_count_test_norm.reshape(-1,1)"
   ]
  },
  {
   "cell_type": "markdown",
   "metadata": {},
   "source": [
    "## 4.6 Vectorizing sentiment Columns"
   ]
  },
  {
   "cell_type": "code",
   "execution_count": 50,
   "metadata": {},
   "outputs": [],
   "source": [
    "### vectorize pos\n",
    "Normalize=Normalizer()\n",
    "Normalize.fit(X_train['pos'].values.reshape(1,-1))\n",
    "sentiment_pos_train_norm=Normalize.transform(X_train['pos'].values.reshape(1,-1))\n",
    "sentiment_pos_test_norm=Normalize.transform(X_test['pos'].values.reshape(1,-1))\n",
    "sentiment_pos_cv_norm=Normalize.transform(X_cv['pos'].values.reshape(1,-1))\n",
    "sentiment_pos_train_norm=sentiment_pos_train_norm.reshape(-1,1)\n",
    "sentiment_pos_test_norm=sentiment_pos_test_norm.reshape(-1,1)\n",
    "sentiment_pos_cv_norm=sentiment_pos_cv_norm.reshape(-1,1)"
   ]
  },
  {
   "cell_type": "code",
   "execution_count": 51,
   "metadata": {},
   "outputs": [],
   "source": [
    "### vectorize neg\n",
    "Normalize=Normalizer()\n",
    "Normalize.fit(X_train['neg'].values.reshape(1,-1))\n",
    "sentiment_neg_train_norm=Normalize.transform(X_train['neg'].values.reshape(1,-1))\n",
    "sentiment_neg_test_norm=Normalize.transform(X_test['neg'].values.reshape(1,-1))\n",
    "sentiment_neg_cv_norm=Normalize.transform(X_cv['neg'].values.reshape(1,-1))\n",
    "sentiment_neg_train_norm=sentiment_neg_train_norm.reshape(-1,1)\n",
    "sentiment_neg_test_norm=sentiment_neg_test_norm.reshape(-1,1)\n",
    "sentiment_neg_cv_norm=sentiment_neg_cv_norm.reshape(-1,1)"
   ]
  },
  {
   "cell_type": "code",
   "execution_count": 52,
   "metadata": {},
   "outputs": [],
   "source": [
    "### vectorize compound\n",
    "Normalize=Normalizer()\n",
    "Normalize.fit(X_train['compound'].values.reshape(1,-1))\n",
    "sentiment_compound_train_norm=Normalize.transform(X_train['compound'].values.reshape(1,-1))\n",
    "sentiment_compound_test_norm=Normalize.transform(X_test['compound'].values.reshape(1,-1))\n",
    "sentiment_compound_cv_norm=Normalize.transform(X_cv['compound'].values.reshape(1,-1))\n",
    "sentiment_compound_train_norm=sentiment_compound_train_norm.reshape(-1,1)\n",
    "sentiment_compound_test_norm=sentiment_compound_test_norm.reshape(-1,1)\n",
    "sentiment_compound_cv_norm=sentiment_compound_cv_norm.reshape(-1,1)"
   ]
  },
  {
   "cell_type": "code",
   "execution_count": 53,
   "metadata": {},
   "outputs": [],
   "source": [
    "### vectorize neu\n",
    "Normalize=Normalizer()\n",
    "Normalize.fit(X_train['neu'].values.reshape(1,-1))\n",
    "sentiment_neu_train_norm=Normalize.transform(X_train['neu'].values.reshape(1,-1))\n",
    "sentiment_neu_test_norm=Normalize.transform(X_test['neu'].values.reshape(1,-1))\n",
    "sentiment_neu_cv_norm=Normalize.transform(X_cv['neu'].values.reshape(1,-1))\n",
    "sentiment_neu_train_norm=sentiment_neu_train_norm.reshape(-1,1)\n",
    "sentiment_neu_test_norm=sentiment_neu_test_norm.reshape(-1,1)\n",
    "sentiment_neu_cv_norm=sentiment_neu_cv_norm.reshape(-1,1)"
   ]
  },
  {
   "cell_type": "markdown",
   "metadata": {},
   "source": [
    "# Assignment 7: Logistic Regression"
   ]
  },
  {
   "cell_type": "markdown",
   "metadata": {},
   "source": [
    "<ol>\n",
    "    <li><strong>[Task-1] Logistic Regression(either SGDClassifier with log loss, or LogisticRegression) on these feature sets</strong>\n",
    "        <ul>\n",
    "            <li><font color='red'>Set 1</font>: categorical, numerical features + project_title(BOW) + preprocessed_eassay (`BOW with bi-grams` with `min_df=10` and `max_features=5000`)</li>\n",
    "            <li><font color='red'>Set 2</font>: categorical, numerical features + project_title(TFIDF)+  preprocessed_eassay (`TFIDF with bi-grams` with `min_df=10` and `max_features=5000`)</li>\n",
    "            <li><font color='red'>Set 3</font>: categorical, numerical features + project_title(AVG W2V)+  preprocessed_eassay (AVG W2V)</li>\n",
    "            <li><font color='red'>Set 4</font>: categorical, numerical features + project_title(TFIDF W2V)+  preprocessed_essay (TFIDF W2V)</li>        </ul>\n",
    "    </li>\n",
    "    <br>\n",
    "    <li><strong>Hyper paramter tuning (find best hyper parameters corresponding the algorithm that you choose)</strong>\n",
    "        <ul>\n",
    "    <li>Find the best hyper parameter which will give the maximum <a href='https://www.appliedaicourse.com/course/applied-ai-course-online/lessons/receiver-operating-characteristic-curve-roc-curve-and-auc-1/'>AUC</a> value</li>\n",
    "    <li>Find the best hyper paramter using k-fold cross validation or simple cross validation data</li>\n",
    "    <li>Use gridsearch cv or randomsearch cv or you can also write your own for loops to do this task of hyperparameter tuning</li>          \n",
    "        </ul>\n",
    "    </li>\n",
    "    <br>\n",
    "    <li><strong>Representation of results</strong>\n",
    "        <ul>\n",
    "    <li>You need to plot the performance of model both on train data and cross validation data for each hyper parameter, like shown in the figure.\n",
    "    <img src='train_cv_auc.JPG' width=300px></li>\n",
    "    <li>Once after you found the best hyper parameter, you need to train your model with it, and find the AUC on test data and plot the ROC curve on both train and test.\n",
    "    <img src='train_test_auc.JPG' width=300px></li>\n",
    "    <li>Along with plotting ROC curve, you need to print the <a href='https://www.appliedaicourse.com/course/applied-ai-course-online/lessons/confusion-matrix-tpr-fpr-fnr-tnr-1/'>confusion matrix</a> with predicted and original labels of test data points. Please visualize your confusion matrices using <a href='https://seaborn.pydata.org/generated/seaborn.heatmap.html'>seaborn heatmaps.\n",
    "    <img src='confusion_matrix.png' width=300px></li>\n",
    "        </ul>\n",
    "    </li>\n",
    "    <br>\n",
    "    <li><strong>[Task-2] Apply Logistic Regression on the below feature set <font color='red'> Set 5 </font> by finding the best hyper parameter as suggested in step 2 and step 3.</strong>\n",
    "    <li> Consider these set of features <font color='red'> Set 5 :</font>\n",
    "            <ul>\n",
    "                <li><strong>school_state</strong> : categorical data</li>\n",
    "                <li><strong>clean_categories</strong> : categorical data</li>\n",
    "                <li><strong>clean_subcategories</strong> : categorical data</li>\n",
    "                <li><strong>project_grade_category</strong> :categorical data</li>\n",
    "                <li><strong>teacher_prefix</strong> : categorical data</li>\n",
    "                <li><strong>quantity</strong> : numerical data</li>\n",
    "                <li><strong>teacher_number_of_previously_posted_projects</strong> : numerical data</li>\n",
    "                <li><strong>price</strong> : numerical data</li>\n",
    "                <li><strong>sentiment score's of each of the essay</strong> : numerical data</li>\n",
    "                <li><strong>number of words in the title</strong> : numerical data</li>\n",
    "                <li><strong>number of words in the combine essays</strong> : numerical data</li>\n",
    "            </ul>\n",
    "        And apply the Logistic regression on these features by finding the best hyper paramter as suggested in step 2 and step 3 <br>\n",
    "    </li>\n",
    "    <br>\n",
    "    <li><strong>Conclusion</strong>\n",
    "        <ul>\n",
    "    <li>You need to summarize the results at the end of the notebook, summarize it in the table format. To print out a table please refer to this prettytable library<a href='http://zetcode.com/python/prettytable/'>  link</a> \n",
    "        <img src='summary.JPG' width=400px>\n",
    "    </li>\n",
    "        </ul>\n",
    "</ol>"
   ]
  },
  {
   "cell_type": "markdown",
   "metadata": {},
   "source": [
    "### 5.  SET 1 : categorical, numerical features + project_title(BOW) + preprocessed_eassay (BOW with bi-grams with min_df=10 and max_features=5000)"
   ]
  },
  {
   "cell_type": "code",
   "execution_count": 54,
   "metadata": {},
   "outputs": [
    {
     "name": "stdout",
     "output_type": "stream",
     "text": [
      "(49041, 8348)\n",
      "(36052, 8348)\n",
      "(24155, 8348)\n"
     ]
    }
   ],
   "source": [
    "# merge two sparse matrices: https://stackoverflow.com/a/19710648/4084039\n",
    "\n",
    "\n",
    "X_tr = hstack((train_categories, train_subcategories,sklstate_train,teacher_prefix_train,\n",
    "            proj_grade_train,bow_essay_train,bow_title_train,\n",
    "            X_train_price_norm,quantity_train_norm,prev_projects_train_norm,title_word_count_train_norm,\n",
    "            essay_word_count_train_norm)).tocsr()\n",
    "\n",
    "X_te = hstack((test_categories, test_subcategories,sklstate_test,teacher_prefix_test,\n",
    "            proj_grade_test,bow_essay_test,bow_title_test,\n",
    "            X_test_price_norm,quantity_test_norm,prev_projects_test_norm,title_word_count_test_norm,\n",
    "            essay_word_count_test_norm)).tocsr()\n",
    "\n",
    "X_cr = hstack((cv_categories, cv_subcategories,sklstate_cv,teacher_prefix_cv,\n",
    "            proj_grade_cv,bow_essay_cv,bow_title_cv,\n",
    "            X_cv_price_norm,quantity_cv_norm,prev_projects_cv_norm,title_word_count_cv_norm,\n",
    "            essay_word_count_cv_norm)).tocsr()\n",
    "\n",
    "\n",
    "print(X_tr.shape)\n",
    "print(X_te.shape)\n",
    "print(X_cr.shape)"
   ]
  },
  {
   "cell_type": "code",
   "execution_count": 55,
   "metadata": {},
   "outputs": [
    {
     "name": "stdout",
     "output_type": "stream",
     "text": [
      "Final Data matrix\n",
      "(49041, 8348) (49041,)\n",
      "(24155, 8348) (24155,)\n",
      "(36052, 8348) (36052,)\n",
      "====================================================================================================\n"
     ]
    }
   ],
   "source": [
    "print(\"Final Data matrix\")\n",
    "print(X_tr.shape, y_train.shape)\n",
    "print(X_cr.shape, y_cv.shape)\n",
    "print(X_te.shape, y_test.shape)\n",
    "print(\"=\"*100)"
   ]
  },
  {
   "cell_type": "markdown",
   "metadata": {},
   "source": [
    "### 5.1 Write own function to find which alpha gives maximum auc"
   ]
  },
  {
   "cell_type": "code",
   "execution_count": 56,
   "metadata": {},
   "outputs": [
    {
     "name": "stderr",
     "output_type": "stream",
     "text": [
      "100%|███████████████████████████████████████████████████████████| 8/8 [00:35<00:00,  4.40s/it]\n"
     ]
    }
   ],
   "source": [
    "\n",
    "## Lets consider a set of alphas from 10 ** -4 to to 10 ** 4\n",
    "def batch_predict(clf, data):\n",
    "    # roc_auc_score(y_true, y_score) the 2nd parameter should be probability estimates of the positive class\n",
    "    # not the predicted outputs\n",
    "\n",
    "    y_data_pred = []\n",
    "    tr_loop = data.shape[0] - data.shape[0]%1000\n",
    "    # consider you X_tr shape is 49041, then your cr_loop will be 49041 - 49041%1000 = 49000\n",
    "    # in this for loop we will iterate unti the last 1000 multiplier\n",
    "    for i in range(0, tr_loop, 1000):\n",
    "        y_data_pred.extend(clf.predict_proba(data[i:i+1000])[:,1])\n",
    "    # we will be predicting for the last data points\n",
    "    y_data_pred.extend(clf.predict_proba(data[tr_loop:])[:,1])\n",
    "    \n",
    "    return y_data_pred\n",
    "\n",
    "c= [0.00001,0.0001,0.001,0.01,0.1,1,10,100]\n",
    "train_auc=[]\n",
    "cv_auc=[]\n",
    "## for each alpha now train the model multiple times and store the cv and train auc for plotting it later.\n",
    "for i in tqdm(c):\n",
    "    LR=LogisticRegression(penalty='l2',C=i,n_jobs=3)\n",
    "    LR.fit(X_tr,y_train)\n",
    "    y_train_pred=batch_predict(LR,X_tr)\n",
    "    y_cv_pred=batch_predict(LR,X_cr)\n",
    "    train_auc.append(roc_auc_score(y_train,y_train_pred))\n",
    "    cv_auc.append(roc_auc_score(y_cv,y_cv_pred))"
   ]
  },
  {
   "cell_type": "code",
   "execution_count": 57,
   "metadata": {},
   "outputs": [
    {
     "data": {
      "image/png": "[encoded data removed]",
      "text/plain": [
       "<Figure size 432x432 with 1 Axes>"
      ]
     },
     "metadata": {
      "needs_background": "light"
     },
     "output_type": "display_data"
    }
   ],
   "source": [
    "\n",
    "plt.figure(figsize=(6,6))\n",
    "\n",
    "plt.plot(c, train_auc, label='Train AUC')\n",
    "plt.plot(c, cv_auc, label='CV AUC')\n",
    "\n",
    "plt.scatter(c, train_auc, label='Train AUC points')\n",
    "plt.scatter(c, cv_auc, label='CV AUC points')\n",
    "\n",
    "\n",
    "plt.legend()\n",
    "plt.xlabel(\"C: hyperparameter\")\n",
    "plt.ylabel(\"AUC\")\n",
    "plt.title(\"C: hyperparameter v/s AUC\")\n",
    "plt.grid(which='major', alpha=0.5)\n",
    "plt.grid(which='minor', alpha=0.2)\n",
    "plt.show()"
   ]
  },
  {
   "cell_type": "markdown",
   "metadata": {},
   "source": [
    "## Observations\n",
    "    1. The c values are taken in the range of 10 ** -5 to 10 ** \n",
    "    2. We can see a steep drop in AUC as the c value increases above 0.1  \n",
    "    3. We can see as the c values increase in train data AUC also increases.While it is opposite in the case of cv data implying the case of overfitting .\n",
    "    4. with a c value less than 1 we can see both cv and train data AUC converge.\n",
    "    5.Optimal c value which can be selected in this can be 0.001"
   ]
  },
  {
   "cell_type": "markdown",
   "metadata": {},
   "source": [
    "### 5.2 GridSearch CV using K-fold Crossvalidation with k=10"
   ]
  },
  {
   "cell_type": "code",
   "execution_count": 58,
   "metadata": {},
   "outputs": [
    {
     "name": "stdout",
     "output_type": "stream",
     "text": [
      "Fitting 5 folds for each of 9 candidates, totalling 45 fits\n"
     ]
    },
    {
     "name": "stderr",
     "output_type": "stream",
     "text": [
      "[Parallel(n_jobs=3)]: Using backend LokyBackend with 3 concurrent workers.\n",
      "[Parallel(n_jobs=3)]: Done  45 out of  45 | elapsed:   59.7s finished\n"
     ]
    }
   ],
   "source": [
    "from sklearn.model_selection import GridSearchCV\n",
    "from scipy.stats import randint as sp_randint\n",
    "from sklearn.model_selection import RandomizedSearchCV\n",
    "\n",
    "## As we are seeing steady decreasing in AUC value in CV as c value increases more than 1 .Hence keep more values less \n",
    "## than 1 \n",
    "parameters={\"C\" : [0.0001,0.001,0.01,0.1,0.6,1,5,10,20] }\n",
    "\n",
    "clf = GridSearchCV(LR,parameters, cv=5, scoring='roc_auc',verbose=1,n_jobs=3,return_train_score=True)\n",
    "clf.fit(X_tr, y_train)\n",
    "results = pd.DataFrame.from_dict(clf.cv_results_)\n"
   ]
  },
  {
   "cell_type": "code",
   "execution_count": 59,
   "metadata": {},
   "outputs": [],
   "source": [
    "results = results.sort_values(['param_C'])\n",
    "RS_alphas=results['param_C']\n",
    "train_auc= results['mean_train_score']\n",
    "train_auc_std= results['std_train_score']\n",
    "cv_auc = results['mean_test_score'] \n",
    "cv_auc_std= results['std_test_score']"
   ]
  },
  {
   "cell_type": "code",
   "execution_count": 60,
   "metadata": {},
   "outputs": [
    {
     "data": {
      "image/png": "[encoded data removed]",
      "text/plain": [
       "<Figure size 432x288 with 1 Axes>"
      ]
     },
     "metadata": {
      "needs_background": "light"
     },
     "output_type": "display_data"
    },
    {
     "data": {
      "text/html": [
       "<div>\n",
       "<style scoped>\n",
       "    .dataframe tbody tr th:only-of-type {\n",
       "        vertical-align: middle;\n",
       "    }\n",
       "\n",
       "    .dataframe tbody tr th {\n",
       "        vertical-align: top;\n",
       "    }\n",
       "\n",
       "    .dataframe thead th {\n",
       "        text-align: right;\n",
       "    }\n",
       "</style>\n",
       "<table border=\"1\" class=\"dataframe\">\n",
       "  <thead>\n",
       "    <tr style=\"text-align: right;\">\n",
       "      <th></th>\n",
       "      <th>mean_fit_time</th>\n",
       "      <th>std_fit_time</th>\n",
       "      <th>mean_score_time</th>\n",
       "      <th>std_score_time</th>\n",
       "      <th>param_C</th>\n",
       "      <th>params</th>\n",
       "      <th>split0_test_score</th>\n",
       "      <th>split1_test_score</th>\n",
       "      <th>split2_test_score</th>\n",
       "      <th>split3_test_score</th>\n",
       "      <th>...</th>\n",
       "      <th>mean_test_score</th>\n",
       "      <th>std_test_score</th>\n",
       "      <th>rank_test_score</th>\n",
       "      <th>split0_train_score</th>\n",
       "      <th>split1_train_score</th>\n",
       "      <th>split2_train_score</th>\n",
       "      <th>split3_train_score</th>\n",
       "      <th>split4_train_score</th>\n",
       "      <th>mean_train_score</th>\n",
       "      <th>std_train_score</th>\n",
       "    </tr>\n",
       "  </thead>\n",
       "  <tbody>\n",
       "    <tr>\n",
       "      <th>0</th>\n",
       "      <td>1.193842</td>\n",
       "      <td>0.053759</td>\n",
       "      <td>0.013450</td>\n",
       "      <td>0.001847</td>\n",
       "      <td>0.0001</td>\n",
       "      <td>{'C': 0.0001}</td>\n",
       "      <td>0.676880</td>\n",
       "      <td>0.679327</td>\n",
       "      <td>0.663630</td>\n",
       "      <td>0.675099</td>\n",
       "      <td>...</td>\n",
       "      <td>0.672731</td>\n",
       "      <td>0.005749</td>\n",
       "      <td>4</td>\n",
       "      <td>0.688840</td>\n",
       "      <td>0.688777</td>\n",
       "      <td>0.689520</td>\n",
       "      <td>0.689274</td>\n",
       "      <td>0.690130</td>\n",
       "      <td>0.689308</td>\n",
       "      <td>0.000494</td>\n",
       "    </tr>\n",
       "    <tr>\n",
       "      <th>1</th>\n",
       "      <td>2.556824</td>\n",
       "      <td>0.103688</td>\n",
       "      <td>0.013152</td>\n",
       "      <td>0.001134</td>\n",
       "      <td>0.001</td>\n",
       "      <td>{'C': 0.001}</td>\n",
       "      <td>0.711388</td>\n",
       "      <td>0.713364</td>\n",
       "      <td>0.703465</td>\n",
       "      <td>0.709601</td>\n",
       "      <td>...</td>\n",
       "      <td>0.708885</td>\n",
       "      <td>0.003504</td>\n",
       "      <td>2</td>\n",
       "      <td>0.753144</td>\n",
       "      <td>0.752655</td>\n",
       "      <td>0.754121</td>\n",
       "      <td>0.753828</td>\n",
       "      <td>0.753824</td>\n",
       "      <td>0.753514</td>\n",
       "      <td>0.000536</td>\n",
       "    </tr>\n",
       "    <tr>\n",
       "      <th>2</th>\n",
       "      <td>4.170823</td>\n",
       "      <td>0.068766</td>\n",
       "      <td>0.014387</td>\n",
       "      <td>0.001301</td>\n",
       "      <td>0.01</td>\n",
       "      <td>{'C': 0.01}</td>\n",
       "      <td>0.716206</td>\n",
       "      <td>0.717785</td>\n",
       "      <td>0.707984</td>\n",
       "      <td>0.713126</td>\n",
       "      <td>...</td>\n",
       "      <td>0.713403</td>\n",
       "      <td>0.003427</td>\n",
       "      <td>1</td>\n",
       "      <td>0.822465</td>\n",
       "      <td>0.822110</td>\n",
       "      <td>0.823521</td>\n",
       "      <td>0.822839</td>\n",
       "      <td>0.822399</td>\n",
       "      <td>0.822667</td>\n",
       "      <td>0.000486</td>\n",
       "    </tr>\n",
       "    <tr>\n",
       "      <th>3</th>\n",
       "      <td>4.167730</td>\n",
       "      <td>0.080110</td>\n",
       "      <td>0.014416</td>\n",
       "      <td>0.001293</td>\n",
       "      <td>0.1</td>\n",
       "      <td>{'C': 0.1}</td>\n",
       "      <td>0.691922</td>\n",
       "      <td>0.688252</td>\n",
       "      <td>0.679283</td>\n",
       "      <td>0.686546</td>\n",
       "      <td>...</td>\n",
       "      <td>0.685731</td>\n",
       "      <td>0.004391</td>\n",
       "      <td>3</td>\n",
       "      <td>0.866793</td>\n",
       "      <td>0.868801</td>\n",
       "      <td>0.867318</td>\n",
       "      <td>0.866669</td>\n",
       "      <td>0.865235</td>\n",
       "      <td>0.866963</td>\n",
       "      <td>0.001149</td>\n",
       "    </tr>\n",
       "    <tr>\n",
       "      <th>4</th>\n",
       "      <td>4.098698</td>\n",
       "      <td>0.033398</td>\n",
       "      <td>0.013387</td>\n",
       "      <td>0.002114</td>\n",
       "      <td>0.6</td>\n",
       "      <td>{'C': 0.6}</td>\n",
       "      <td>0.674811</td>\n",
       "      <td>0.674728</td>\n",
       "      <td>0.665261</td>\n",
       "      <td>0.672970</td>\n",
       "      <td>...</td>\n",
       "      <td>0.670699</td>\n",
       "      <td>0.004303</td>\n",
       "      <td>5</td>\n",
       "      <td>0.874682</td>\n",
       "      <td>0.874874</td>\n",
       "      <td>0.872250</td>\n",
       "      <td>0.873351</td>\n",
       "      <td>0.869892</td>\n",
       "      <td>0.873010</td>\n",
       "      <td>0.001827</td>\n",
       "    </tr>\n",
       "  </tbody>\n",
       "</table>\n",
       "<p>5 rows × 21 columns</p>\n",
       "</div>"
      ],
      "text/plain": [
       "   mean_fit_time  std_fit_time  mean_score_time  std_score_time param_C  \\\n",
       "0       1.193842      0.053759         0.013450        0.001847  0.0001   \n",
       "1       2.556824      0.103688         0.013152        0.001134   0.001   \n",
       "2       4.170823      0.068766         0.014387        0.001301    0.01   \n",
       "3       4.167730      0.080110         0.014416        0.001293     0.1   \n",
       "4       4.098698      0.033398         0.013387        0.002114     0.6   \n",
       "\n",
       "          params  split0_test_score  split1_test_score  split2_test_score  \\\n",
       "0  {'C': 0.0001}           0.676880           0.679327           0.663630   \n",
       "1   {'C': 0.001}           0.711388           0.713364           0.703465   \n",
       "2    {'C': 0.01}           0.716206           0.717785           0.707984   \n",
       "3     {'C': 0.1}           0.691922           0.688252           0.679283   \n",
       "4     {'C': 0.6}           0.674811           0.674728           0.665261   \n",
       "\n",
       "   split3_test_score  ...  mean_test_score  std_test_score  rank_test_score  \\\n",
       "0           0.675099  ...         0.672731        0.005749                4   \n",
       "1           0.709601  ...         0.708885        0.003504                2   \n",
       "2           0.713126  ...         0.713403        0.003427                1   \n",
       "3           0.686546  ...         0.685731        0.004391                3   \n",
       "4           0.672970  ...         0.670699        0.004303                5   \n",
       "\n",
       "   split0_train_score  split1_train_score  split2_train_score  \\\n",
       "0            0.688840            0.688777            0.689520   \n",
       "1            0.753144            0.752655            0.754121   \n",
       "2            0.822465            0.822110            0.823521   \n",
       "3            0.866793            0.868801            0.867318   \n",
       "4            0.874682            0.874874            0.872250   \n",
       "\n",
       "   split3_train_score  split4_train_score  mean_train_score  std_train_score  \n",
       "0            0.689274            0.690130          0.689308         0.000494  \n",
       "1            0.753828            0.753824          0.753514         0.000536  \n",
       "2            0.822839            0.822399          0.822667         0.000486  \n",
       "3            0.866669            0.865235          0.866963         0.001149  \n",
       "4            0.873351            0.869892          0.873010         0.001827  \n",
       "\n",
       "[5 rows x 21 columns]"
      ]
     },
     "execution_count": 60,
     "metadata": {},
     "output_type": "execute_result"
    }
   ],
   "source": [
    "plt.plot(RS_alphas, train_auc, label='Train AUC')\n",
    "# this code is copied from here: https://stackoverflow.com/a/48803361/4084039\n",
    "# plt.gca().fill_between(K, train_auc - train_auc_std,train_auc + train_auc_std,alpha=0.2,color='darkblue')\n",
    "\n",
    "plt.plot(RS_alphas, cv_auc, label='CV AUC')\n",
    "# this code is copied from here: https://stackoverflow.com/a/48803361/4084039\n",
    "# plt.gca().fill_between(K, cv_auc - cv_auc_std,cv_auc + cv_auc_std,alpha=0.2,color='darkorange')\n",
    "\n",
    "plt.scatter(RS_alphas, train_auc, label='Train AUC points')\n",
    "plt.scatter(RS_alphas, cv_auc, label='CV AUC points')\n",
    "\n",
    "plt.legend()\n",
    "plt.xlabel(\"C: hyperparameter\")\n",
    "plt.ylabel(\"AUC\")\n",
    "plt.title(\"Hyper parameter Vs AUC plot  (BOW Vectorizing)\")\n",
    "plt.grid()\n",
    "plt.show()\n",
    "\n",
    "results.head()"
   ]
  },
  {
   "cell_type": "markdown",
   "metadata": {},
   "source": [
    "## Observations\n",
    "    1.Using Grid Search technique we find that as C values increase after 0.001,AUC decreases steeply and maintains a steadiness beyond that.\n",
    "    2.Clearly we see the case of overfit from the graph when C values are beyond 1 (i.e very high train AUC and low CV AUC)\n",
    "    3.Both Train and CV auc converge below 0.01."
   ]
  },
  {
   "cell_type": "markdown",
   "metadata": {},
   "source": [
    "### 5.3 Train the model using the best Hyperparameter value"
   ]
  },
  {
   "cell_type": "code",
   "execution_count": 61,
   "metadata": {},
   "outputs": [
    {
     "name": "stdout",
     "output_type": "stream",
     "text": [
      "Best Alpha as a result of Grid Search {'C': 0.01}\n"
     ]
    }
   ],
   "source": [
    "### https://forums.fast.ai/t/hyperparameter-random-search-interpretation/8591 ---to get the best hyper parameter as a reuslt of Random search\n",
    "best_C = clf.best_params_\n",
    "print('Best Alpha as a result of Grid Search',best_C)"
   ]
  },
  {
   "cell_type": "code",
   "execution_count": 63,
   "metadata": {},
   "outputs": [
    {
     "data": {
      "image/png": "[encoded data removed]",
      "text/plain": [
       "<Figure size 432x288 with 1 Axes>"
      ]
     },
     "metadata": {
      "needs_background": "light"
     },
     "output_type": "display_data"
    }
   ],
   "source": [
    "# https://scikit-learn.org/stable/modules/generated/sklearn.metrics.roc_curve.html#sklearn.metrics.roc_curve\n",
    "from sklearn.metrics import roc_curve, auc\n",
    "\n",
    "LR=LogisticRegression(penalty=\"l2\",C=best_C['C'],n_jobs=3)\n",
    "LR.fit(X_tr, y_train)\n",
    "# roc_auc_score(y_true, y_score) the 2nd parameter should be probability estimates of the positive class\n",
    "# not the predicted outputs\n",
    "\n",
    "y_train_pred = batch_predict(LR, X_tr)    \n",
    "y_test_pred = batch_predict(LR, X_te)\n",
    "\n",
    "train_fpr, train_tpr, tr_thresholds = roc_curve(y_train, y_train_pred)\n",
    "test_fpr, test_tpr, te_thresholds = roc_curve(y_test, y_test_pred)\n",
    "\n",
    "plt.plot(train_fpr, train_tpr, label=\"train AUC =\"+str(auc(train_fpr, train_tpr)))\n",
    "plt.plot(test_fpr, test_tpr, label=\"test AUC =\"+str(auc(test_fpr, test_tpr)))\n",
    "plt.legend()\n",
    "plt.xlabel(\"False Possitive Rate (FPR)\")\n",
    "plt.ylabel(\"True Possitive Rate (TPR)\")\n",
    "plt.title(\"ERROR PLOTS (BOW Vectorizing)\")\n",
    "plt.grid()\n",
    "plt.show()"
   ]
  },
  {
   "cell_type": "markdown",
   "metadata": {},
   "source": [
    "## Observations : \n",
    "    1. Test AUC found to be 0.78 and Train AUC as 0.81 after training model using best hyperparameter 0.01 and vectorizing text data using Bag Of Words .\n",
    "  "
   ]
  },
  {
   "cell_type": "markdown",
   "metadata": {},
   "source": [
    "## 5.4 Confusion Matrix"
   ]
  },
  {
   "cell_type": "code",
   "execution_count": 64,
   "metadata": {},
   "outputs": [],
   "source": [
    "## Finding best threshold for predictions\n",
    "def best_threshold(thresholds,fpr,tpr):\n",
    "    t=thresholds[np.argmax(tpr*(1-fpr))]\n",
    "    # (tpr*(1-fpr)) will be maximum if your fpr is very low and tpr is very high\n",
    "    print(\"the maximum value of tpr*(1-fpr)\", max(tpr*(1-fpr)), \"for threshold\", np.round(t,3))\n",
    "    return t\n",
    "\n",
    "def predict_with_best_t(proba, threshould):\n",
    "    predictions = []\n",
    "    for i in proba:\n",
    "        if i>=threshould:\n",
    "            predictions.append(1)\n",
    "        else:\n",
    "            predictions.append(0)\n",
    "    return predictions"
   ]
  },
  {
   "cell_type": "code",
   "execution_count": 65,
   "metadata": {},
   "outputs": [
    {
     "name": "stdout",
     "output_type": "stream",
     "text": [
      "====================================================================================================\n",
      "the maximum value of tpr*(1-fpr) 0.548061596919 for threshold 0.821\n",
      "Train confusion matrix\n",
      "[[ 5371  2055]\n",
      " [10081 31534]]\n",
      "Test confusion matrix\n",
      "[[ 3173  2286]\n",
      " [ 8177 22416]]\n"
     ]
    }
   ],
   "source": [
    "print(\"=\"*100)\n",
    "from sklearn.metrics import confusion_matrix\n",
    "best_t=best_threshold(tr_thresholds,train_fpr, train_tpr)\n",
    "print(\"Train confusion matrix\")\n",
    "print(confusion_matrix(y_train, predict_with_best_t(y_train_pred, best_t)))\n",
    "print(\"Test confusion matrix\")\n",
    "print(confusion_matrix(y_test, predict_with_best_t(y_test_pred, best_t)))"
   ]
  },
  {
   "cell_type": "markdown",
   "metadata": {},
   "source": [
    "#### 5.4.1 Ploting Confusion Matrix on Train data"
   ]
  },
  {
   "cell_type": "code",
   "execution_count": 66,
   "metadata": {},
   "outputs": [
    {
     "data": {
      "image/png": "[encoded data removed]",
      "text/plain": [
       "<Figure size 432x288 with 2 Axes>"
      ]
     },
     "metadata": {},
     "output_type": "display_data"
    }
   ],
   "source": [
    "### PLOT the matrix for Train\n",
    "# source : https://stackoverflow.com/questions/35572000/how-can-i-plot-a-confusion-matrix\n",
    "df_cm = pd.DataFrame(confusion_matrix(y_train, predict_with_best_t(y_train_pred, best_t)), range(2), range(2))\n",
    "# plt.figure(figsize=(10,7))\n",
    "sns.set(font_scale=1.4) # for label size\n",
    "sns.heatmap(df_cm, annot=True, annot_kws={\"size\": 16},fmt='g') # font size\n",
    "plt.show()"
   ]
  },
  {
   "cell_type": "markdown",
   "metadata": {},
   "source": [
    "#### 5.4.2 Ploting Confusion Matrix on Test data"
   ]
  },
  {
   "cell_type": "code",
   "execution_count": 67,
   "metadata": {},
   "outputs": [
    {
     "data": {
      "image/png": "[encoded data removed]",
      "text/plain": [
       "<Figure size 432x288 with 2 Axes>"
      ]
     },
     "metadata": {},
     "output_type": "display_data"
    }
   ],
   "source": [
    "### PLOT the matrix for Train\n",
    "# source : https://stackoverflow.com/questions/35572000/how-can-i-plot-a-confusion-matrix\n",
    "df_cm = pd.DataFrame(confusion_matrix(y_test, predict_with_best_t(y_test_pred, best_t)), range(2), range(2))\n",
    "# plt.figure(figsize=(10,7))\n",
    "sns.set(font_scale=1.4) # for label size\n",
    "sns.heatmap(df_cm, annot=True, annot_kws={\"size\": 16},fmt='g') # font size\n",
    "plt.show()"
   ]
  },
  {
   "cell_type": "markdown",
   "metadata": {},
   "source": [
    "## Observations :\n",
    "         1.We can observe from train and test we are getting majority True positives\n",
    "         2.Least number of data falls in False negative,which refers as least number of projects were incorrectly predicted as not approved in both Test and Train.\n",
    "         3.For a model to perform well we need High True Positive Rate and Low False Positive Rate.From the above our train data has True Positive Rate as 91% and False Positive Rate as 75%\n",
    "         4.In our test data : True Positive Rate as 90% and False Positive Rate as 76.7%. \n",
    "         5.Test data is nearly accurate as train data."
   ]
  },
  {
   "cell_type": "markdown",
   "metadata": {},
   "source": [
    "### 6.  SET 2 : categorical, numerical features + project_title(TFIDF) + preprocessed_eassay (TFIDF with bi-grams with min_df=10 and max_features=5000)"
   ]
  },
  {
   "cell_type": "code",
   "execution_count": 68,
   "metadata": {},
   "outputs": [
    {
     "name": "stdout",
     "output_type": "stream",
     "text": [
      "(49041, 8348)\n",
      "(36052, 8348)\n",
      "(24155, 8348)\n"
     ]
    }
   ],
   "source": [
    "# merge two sparse matrices: https://stackoverflow.com/a/19710648/4084039\n",
    "from scipy.sparse import hstack\n",
    "\n",
    "\n",
    "X_tr = hstack((train_categories, train_subcategories,sklstate_train,teacher_prefix_train,\n",
    "            proj_grade_train,tfidf_essay_train,tfidf_title_train,\n",
    "            X_train_price_norm,quantity_train_norm,prev_projects_train_norm,title_word_count_train_norm,\n",
    "            essay_word_count_train_norm)).tocsr()\n",
    "\n",
    "X_te = hstack((test_categories, test_subcategories,sklstate_test,teacher_prefix_test,\n",
    "            proj_grade_test,tfidf_essay_test,tfidf_title_test,\n",
    "            X_test_price_norm,quantity_test_norm,prev_projects_test_norm,title_word_count_test_norm,\n",
    "            essay_word_count_test_norm)).tocsr()\n",
    "\n",
    "X_cr = hstack((cv_categories, cv_subcategories,sklstate_cv,teacher_prefix_cv,\n",
    "            proj_grade_cv,tfidf_essay_cv,tfidf_title_cv,\n",
    "            X_cv_price_norm,quantity_cv_norm,prev_projects_cv_norm,title_word_count_cv_norm,\n",
    "            essay_word_count_cv_norm)).tocsr()\n",
    "\n",
    "\n",
    "print(X_tr.shape)\n",
    "print(X_te.shape)\n",
    "print(X_cr.shape)"
   ]
  },
  {
   "cell_type": "code",
   "execution_count": 69,
   "metadata": {},
   "outputs": [
    {
     "name": "stdout",
     "output_type": "stream",
     "text": [
      "Final Data matrix\n",
      "(49041, 8348) (49041,)\n",
      "(24155, 8348) (24155,)\n",
      "(36052, 8348) (36052,)\n",
      "====================================================================================================\n"
     ]
    }
   ],
   "source": [
    "print(\"Final Data matrix\")\n",
    "print(X_tr.shape, y_train.shape)\n",
    "print(X_cr.shape, y_cv.shape)\n",
    "print(X_te.shape, y_test.shape)\n",
    "print(\"=\"*100)"
   ]
  },
  {
   "cell_type": "markdown",
   "metadata": {},
   "source": [
    "### 6.1 Write own function to find which alpha gives maximum auc"
   ]
  },
  {
   "cell_type": "code",
   "execution_count": 71,
   "metadata": {},
   "outputs": [
    {
     "name": "stderr",
     "output_type": "stream",
     "text": [
      "100%|███████████████████████████████████████████████████████████| 8/8 [00:30<00:00,  3.84s/it]\n"
     ]
    }
   ],
   "source": [
    "from sklearn.linear_model import LogisticRegression\n",
    "from sklearn.metrics import roc_auc_score\n",
    "## Lets consider a set of alphas from 10 ** -4 to to 10 ** 4\n",
    "\n",
    "c= [0.00001,0.0001,0.001,0.01,0.1,1,10,100]\n",
    "train_auc=[]\n",
    "cv_auc=[]\n",
    "## for each alpha now train the model multiple times and store the cv and train auc for plotting it later.\n",
    "for i in tqdm(c):\n",
    "    LR=LogisticRegression(penalty=\"l2\",C=i,n_jobs=3)\n",
    "    LR.fit(X_tr,y_train)\n",
    "    y_train_pred=batch_predict(LR,X_tr)\n",
    "    y_cv_pred=batch_predict(LR,X_cr)\n",
    "    train_auc.append(roc_auc_score(y_train,y_train_pred))\n",
    "    cv_auc.append(roc_auc_score(y_cv,y_cv_pred))"
   ]
  },
  {
   "cell_type": "code",
   "execution_count": 72,
   "metadata": {},
   "outputs": [
    {
     "data": {
      "image/png": "[encoded data removed]",
      "text/plain": [
       "<Figure size 432x432 with 1 Axes>"
      ]
     },
     "metadata": {},
     "output_type": "display_data"
    }
   ],
   "source": [
    "\n",
    "plt.figure(figsize=(6,6))\n",
    "\n",
    "plt.plot(c, train_auc, label='Train AUC')\n",
    "plt.plot(c, cv_auc, label='CV AUC')\n",
    "\n",
    "plt.scatter(c, train_auc, label='Train AUC points')\n",
    "plt.scatter(c, cv_auc, label='CV AUC points')\n",
    "\n",
    "\n",
    "plt.legend()\n",
    "plt.xlabel(\"C: hyperparameter\")\n",
    "plt.ylabel(\"AUC\")\n",
    "plt.title(\"C: hyperparameter v/s AUC (BOW vectorizing)\")\n",
    "plt.grid(which='major', alpha=0.5)\n",
    "plt.grid(which='minor', alpha=0.2)\n",
    "plt.show()"
   ]
  },
  {
   "cell_type": "markdown",
   "metadata": {},
   "source": [
    "## Observations\n",
    "    1. The c values are taken in the range of 10 ** -5 to 10 ** 2\n",
    "    2. We can see a steep drop in AUC as the c value increases above 0.1  \n",
    "    3. We can see as the c values increase in train data AUC also increases.While it is opposite in the case of cv data implying the case of overfitting .\n",
    "    4. with a c value less than 1 we can see both cv and train data AUC converge.\n",
    "    5.Optimal c value which can be selected in this can be 0.001 /0.01 ."
   ]
  },
  {
   "cell_type": "markdown",
   "metadata": {},
   "source": [
    "### 6.2 GridSearch CV using K-fold Crossvalidation with k=10"
   ]
  },
  {
   "cell_type": "code",
   "execution_count": 77,
   "metadata": {},
   "outputs": [
    {
     "name": "stdout",
     "output_type": "stream",
     "text": [
      "Fitting 5 folds for each of 9 candidates, totalling 45 fits\n"
     ]
    },
    {
     "name": "stderr",
     "output_type": "stream",
     "text": [
      "[Parallel(n_jobs=3)]: Using backend LokyBackend with 3 concurrent workers.\n",
      "[Parallel(n_jobs=3)]: Done  45 out of  45 | elapsed:   51.5s finished\n"
     ]
    }
   ],
   "source": [
    "from sklearn.model_selection import GridSearchCV\n",
    "from scipy.stats import randint as sp_randint\n",
    "from sklearn.model_selection import RandomizedSearchCV\n",
    "\n",
    "## As we are seeing steady decreasing in AUC value in CV as c value increases more than 1 .Hence keep more values less \n",
    "## than 1 \n",
    "parameters={\"C\" : [0.0001,0.001,0.01,0.1,0.6,1,5,10,20] }\n",
    "\n",
    "clf = GridSearchCV(LR, parameters,return_train_score=True,cv=5, scoring='roc_auc',verbose=1,n_jobs=3)\n",
    "clf.fit(X_tr, y_train)\n",
    "results = pd.DataFrame.from_dict(clf.cv_results_)\n",
    "    "
   ]
  },
  {
   "cell_type": "code",
   "execution_count": 78,
   "metadata": {},
   "outputs": [],
   "source": [
    "results = results.sort_values(['param_C'])\n",
    "RS_alphas=results['param_C']\n",
    "train_auc= results['mean_train_score']\n",
    "train_auc_std= results['std_train_score']\n",
    "cv_auc = results['mean_test_score'] \n",
    "cv_auc_std= results['std_test_score']"
   ]
  },
  {
   "cell_type": "code",
   "execution_count": 79,
   "metadata": {},
   "outputs": [
    {
     "data": {
      "image/png": "[encoded data removed]",
      "text/plain": [
       "<Figure size 432x288 with 1 Axes>"
      ]
     },
     "metadata": {},
     "output_type": "display_data"
    },
    {
     "data": {
      "text/html": [
       "<div>\n",
       "<style scoped>\n",
       "    .dataframe tbody tr th:only-of-type {\n",
       "        vertical-align: middle;\n",
       "    }\n",
       "\n",
       "    .dataframe tbody tr th {\n",
       "        vertical-align: top;\n",
       "    }\n",
       "\n",
       "    .dataframe thead th {\n",
       "        text-align: right;\n",
       "    }\n",
       "</style>\n",
       "<table border=\"1\" class=\"dataframe\">\n",
       "  <thead>\n",
       "    <tr style=\"text-align: right;\">\n",
       "      <th></th>\n",
       "      <th>mean_fit_time</th>\n",
       "      <th>std_fit_time</th>\n",
       "      <th>mean_score_time</th>\n",
       "      <th>std_score_time</th>\n",
       "      <th>param_C</th>\n",
       "      <th>params</th>\n",
       "      <th>split0_test_score</th>\n",
       "      <th>split1_test_score</th>\n",
       "      <th>split2_test_score</th>\n",
       "      <th>split3_test_score</th>\n",
       "      <th>...</th>\n",
       "      <th>mean_test_score</th>\n",
       "      <th>std_test_score</th>\n",
       "      <th>rank_test_score</th>\n",
       "      <th>split0_train_score</th>\n",
       "      <th>split1_train_score</th>\n",
       "      <th>split2_train_score</th>\n",
       "      <th>split3_train_score</th>\n",
       "      <th>split4_train_score</th>\n",
       "      <th>mean_train_score</th>\n",
       "      <th>std_train_score</th>\n",
       "    </tr>\n",
       "  </thead>\n",
       "  <tbody>\n",
       "    <tr>\n",
       "      <th>0</th>\n",
       "      <td>0.546082</td>\n",
       "      <td>0.027421</td>\n",
       "      <td>0.013334</td>\n",
       "      <td>0.003953</td>\n",
       "      <td>0.0001</td>\n",
       "      <td>{'C': 0.0001}</td>\n",
       "      <td>0.570097</td>\n",
       "      <td>0.558643</td>\n",
       "      <td>0.564393</td>\n",
       "      <td>0.562584</td>\n",
       "      <td>...</td>\n",
       "      <td>0.563047</td>\n",
       "      <td>0.004089</td>\n",
       "      <td>9</td>\n",
       "      <td>0.565737</td>\n",
       "      <td>0.568826</td>\n",
       "      <td>0.567795</td>\n",
       "      <td>0.567953</td>\n",
       "      <td>0.568791</td>\n",
       "      <td>0.567821</td>\n",
       "      <td>0.001124</td>\n",
       "    </tr>\n",
       "    <tr>\n",
       "      <th>1</th>\n",
       "      <td>0.638051</td>\n",
       "      <td>0.160989</td>\n",
       "      <td>0.013557</td>\n",
       "      <td>0.001385</td>\n",
       "      <td>0.001</td>\n",
       "      <td>{'C': 0.001}</td>\n",
       "      <td>0.588894</td>\n",
       "      <td>0.573337</td>\n",
       "      <td>0.580318</td>\n",
       "      <td>0.578605</td>\n",
       "      <td>...</td>\n",
       "      <td>0.578912</td>\n",
       "      <td>0.005712</td>\n",
       "      <td>8</td>\n",
       "      <td>0.585099</td>\n",
       "      <td>0.587746</td>\n",
       "      <td>0.587481</td>\n",
       "      <td>0.587743</td>\n",
       "      <td>0.588845</td>\n",
       "      <td>0.587383</td>\n",
       "      <td>0.001235</td>\n",
       "    </tr>\n",
       "    <tr>\n",
       "      <th>2</th>\n",
       "      <td>1.859549</td>\n",
       "      <td>0.119618</td>\n",
       "      <td>0.017579</td>\n",
       "      <td>0.001035</td>\n",
       "      <td>0.01</td>\n",
       "      <td>{'C': 0.01}</td>\n",
       "      <td>0.648677</td>\n",
       "      <td>0.633101</td>\n",
       "      <td>0.636064</td>\n",
       "      <td>0.636344</td>\n",
       "      <td>...</td>\n",
       "      <td>0.636536</td>\n",
       "      <td>0.006696</td>\n",
       "      <td>7</td>\n",
       "      <td>0.662225</td>\n",
       "      <td>0.661695</td>\n",
       "      <td>0.664037</td>\n",
       "      <td>0.662114</td>\n",
       "      <td>0.663800</td>\n",
       "      <td>0.662774</td>\n",
       "      <td>0.000954</td>\n",
       "    </tr>\n",
       "    <tr>\n",
       "      <th>3</th>\n",
       "      <td>4.323542</td>\n",
       "      <td>0.381404</td>\n",
       "      <td>0.013335</td>\n",
       "      <td>0.000560</td>\n",
       "      <td>0.1</td>\n",
       "      <td>{'C': 0.1}</td>\n",
       "      <td>0.711483</td>\n",
       "      <td>0.701515</td>\n",
       "      <td>0.698013</td>\n",
       "      <td>0.703077</td>\n",
       "      <td>...</td>\n",
       "      <td>0.702781</td>\n",
       "      <td>0.004668</td>\n",
       "      <td>3</td>\n",
       "      <td>0.774243</td>\n",
       "      <td>0.773753</td>\n",
       "      <td>0.775575</td>\n",
       "      <td>0.774964</td>\n",
       "      <td>0.774664</td>\n",
       "      <td>0.774640</td>\n",
       "      <td>0.000620</td>\n",
       "    </tr>\n",
       "    <tr>\n",
       "      <th>4</th>\n",
       "      <td>4.528854</td>\n",
       "      <td>0.160870</td>\n",
       "      <td>0.014351</td>\n",
       "      <td>0.001719</td>\n",
       "      <td>0.6</td>\n",
       "      <td>{'C': 0.6}</td>\n",
       "      <td>0.716366</td>\n",
       "      <td>0.710137</td>\n",
       "      <td>0.704070</td>\n",
       "      <td>0.706579</td>\n",
       "      <td>...</td>\n",
       "      <td>0.709298</td>\n",
       "      <td>0.004133</td>\n",
       "      <td>1</td>\n",
       "      <td>0.843535</td>\n",
       "      <td>0.843586</td>\n",
       "      <td>0.843726</td>\n",
       "      <td>0.844635</td>\n",
       "      <td>0.843522</td>\n",
       "      <td>0.843801</td>\n",
       "      <td>0.000423</td>\n",
       "    </tr>\n",
       "  </tbody>\n",
       "</table>\n",
       "<p>5 rows × 21 columns</p>\n",
       "</div>"
      ],
      "text/plain": [
       "   mean_fit_time  std_fit_time  mean_score_time  std_score_time param_C  \\\n",
       "0       0.546082      0.027421         0.013334        0.003953  0.0001   \n",
       "1       0.638051      0.160989         0.013557        0.001385   0.001   \n",
       "2       1.859549      0.119618         0.017579        0.001035    0.01   \n",
       "3       4.323542      0.381404         0.013335        0.000560     0.1   \n",
       "4       4.528854      0.160870         0.014351        0.001719     0.6   \n",
       "\n",
       "          params  split0_test_score  split1_test_score  split2_test_score  \\\n",
       "0  {'C': 0.0001}           0.570097           0.558643           0.564393   \n",
       "1   {'C': 0.001}           0.588894           0.573337           0.580318   \n",
       "2    {'C': 0.01}           0.648677           0.633101           0.636064   \n",
       "3     {'C': 0.1}           0.711483           0.701515           0.698013   \n",
       "4     {'C': 0.6}           0.716366           0.710137           0.704070   \n",
       "\n",
       "   split3_test_score  ...  mean_test_score  std_test_score  rank_test_score  \\\n",
       "0           0.562584  ...         0.563047        0.004089                9   \n",
       "1           0.578605  ...         0.578912        0.005712                8   \n",
       "2           0.636344  ...         0.636536        0.006696                7   \n",
       "3           0.703077  ...         0.702781        0.004668                3   \n",
       "4           0.706579  ...         0.709298        0.004133                1   \n",
       "\n",
       "   split0_train_score  split1_train_score  split2_train_score  \\\n",
       "0            0.565737            0.568826            0.567795   \n",
       "1            0.585099            0.587746            0.587481   \n",
       "2            0.662225            0.661695            0.664037   \n",
       "3            0.774243            0.773753            0.775575   \n",
       "4            0.843535            0.843586            0.843726   \n",
       "\n",
       "   split3_train_score  split4_train_score  mean_train_score  std_train_score  \n",
       "0            0.567953            0.568791          0.567821         0.001124  \n",
       "1            0.587743            0.588845          0.587383         0.001235  \n",
       "2            0.662114            0.663800          0.662774         0.000954  \n",
       "3            0.774964            0.774664          0.774640         0.000620  \n",
       "4            0.844635            0.843522          0.843801         0.000423  \n",
       "\n",
       "[5 rows x 21 columns]"
      ]
     },
     "execution_count": 79,
     "metadata": {},
     "output_type": "execute_result"
    }
   ],
   "source": [
    "plt.plot(RS_alphas, train_auc, label='Train AUC')\n",
    "# this code is copied from here: https://stackoverflow.com/a/48803361/4084039\n",
    "# plt.gca().fill_between(K, train_auc - train_auc_std,train_auc + train_auc_std,alpha=0.2,color='darkblue')\n",
    "\n",
    "plt.plot(RS_alphas, cv_auc, label='CV AUC')\n",
    "# this code is copied from here: https://stackoverflow.com/a/48803361/4084039\n",
    "# plt.gca().fill_between(K, cv_auc - cv_auc_std,cv_auc + cv_auc_std,alpha=0.2,color='darkorange')\n",
    "\n",
    "plt.scatter(RS_alphas, train_auc, label='Train AUC points')\n",
    "plt.scatter(RS_alphas, cv_auc, label='CV AUC points')\n",
    "\n",
    "plt.legend()\n",
    "plt.xlabel(\"C: hyperparameter\")\n",
    "plt.ylabel(\"AUC\")\n",
    "plt.title(\"Hyper parameter Vs AUC plot (TFIDF vectorizing)\")\n",
    "plt.grid()\n",
    "plt.show()\n",
    "\n",
    "results.head()"
   ]
  },
  {
   "cell_type": "markdown",
   "metadata": {},
   "source": [
    "## Observations\n",
    "     1.Using Grid Search technique we find that as C values increase after 0.001,AUC decreases steeply and maintains a steadiness beyond that.\n",
    "    2.Clearly we see the case of overfit from the graph when C values are beyond 1 (i.e very high train AUC and low CV AUC)\n"
   ]
  },
  {
   "cell_type": "markdown",
   "metadata": {},
   "source": [
    "### 6.3 Train the model using the best Hyperparameter value"
   ]
  },
  {
   "cell_type": "code",
   "execution_count": 81,
   "metadata": {},
   "outputs": [
    {
     "name": "stdout",
     "output_type": "stream",
     "text": [
      "Best Alpha as a result of Grid Search {'C': 0.6}\n"
     ]
    }
   ],
   "source": [
    "### https://forums.fast.ai/t/hyperparameter-random-search-interpretation/8591 ---to get the best hyper parameter as a reuslt of Random search\n",
    "best_C = clf.best_params_\n",
    "print('Best Alpha as a result of Grid Search',best_C)"
   ]
  },
  {
   "cell_type": "code",
   "execution_count": 83,
   "metadata": {},
   "outputs": [
    {
     "data": {
      "image/png": "[encoded data removed]",
      "text/plain": [
       "<Figure size 432x288 with 1 Axes>"
      ]
     },
     "metadata": {},
     "output_type": "display_data"
    }
   ],
   "source": [
    "# https://scikit-learn.org/stable/modules/generated/sklearn.metrics.roc_curve.html#sklearn.metrics.roc_curve\n",
    "from sklearn.metrics import roc_curve, auc\n",
    "\n",
    "\n",
    "LR=LogisticRegression(penalty=\"l2\",C=0.6,n_jobs=3)\n",
    "LR.fit(X_tr, y_train)\n",
    "# roc_auc_score(y_true, y_score) the 2nd parameter should be probability estimates of the positive class\n",
    "# not the predicted outputs\n",
    "\n",
    "y_train_pred = batch_predict(LR, X_tr)    \n",
    "y_test_pred = batch_predict(LR, X_te)\n",
    "\n",
    "train_fpr, train_tpr, tr_thresholds = roc_curve(y_train, y_train_pred)\n",
    "test_fpr, test_tpr, te_thresholds = roc_curve(y_test, y_test_pred)\n",
    "\n",
    "plt.plot(train_fpr, train_tpr, label=\"train AUC =\"+str(auc(train_fpr, train_tpr)))\n",
    "plt.plot(test_fpr, test_tpr, label=\"test AUC =\"+str(auc(test_fpr, test_tpr)))\n",
    "plt.legend()\n",
    "plt.xlabel(\"False Possitive Rate (FPR)\")\n",
    "plt.ylabel(\"True Possitive Rate (TPR)\")\n",
    "plt.title(\"ERROR PLOTS (tfidf Vectorizing)\")\n",
    "plt.grid()\n",
    "plt.show()"
   ]
  },
  {
   "cell_type": "markdown",
   "metadata": {},
   "source": [
    "## Observations : \n",
    "    1. Test AUC found to be 0.71 and Train AUC as 0.83 after training model using best hyperparameter 1 and vectorizing\n",
    "        text data using TFIDF\n",
    "    2. TFIDF performs better than Bag of Words .     "
   ]
  },
  {
   "cell_type": "markdown",
   "metadata": {},
   "source": [
    "## 6.4 Confusion Matrix"
   ]
  },
  {
   "cell_type": "code",
   "execution_count": 84,
   "metadata": {
    "scrolled": false
   },
   "outputs": [
    {
     "name": "stdout",
     "output_type": "stream",
     "text": [
      "====================================================================================================\n",
      "the maximum value of tpr*(1-fpr) 0.570870854274 for threshold 0.829\n",
      "Train confusion matrix\n",
      "[[ 5647  1779]\n",
      " [10374 31241]]\n",
      "Test confusion matrix\n",
      "[[ 3189  2270]\n",
      " [ 8580 22013]]\n"
     ]
    }
   ],
   "source": [
    "print(\"=\"*100)\n",
    "from sklearn.metrics import confusion_matrix\n",
    "best_t=best_threshold(tr_thresholds,train_fpr, train_tpr)\n",
    "print(\"Train confusion matrix\")\n",
    "print(confusion_matrix(y_train, predict_with_best_t(y_train_pred, best_t)))\n",
    "print(\"Test confusion matrix\")\n",
    "print(confusion_matrix(y_test, predict_with_best_t(y_test_pred, best_t)))"
   ]
  },
  {
   "cell_type": "markdown",
   "metadata": {},
   "source": [
    "#### 6.4.1 Ploting Confusion Matrix on Train data"
   ]
  },
  {
   "cell_type": "code",
   "execution_count": 85,
   "metadata": {},
   "outputs": [
    {
     "data": {
      "image/png": "[encoded data removed]",
      "text/plain": [
       "<Figure size 432x288 with 2 Axes>"
      ]
     },
     "metadata": {},
     "output_type": "display_data"
    }
   ],
   "source": [
    "### PLOT the matrix for Train\n",
    "# source : https://stackoverflow.com/questions/35572000/how-can-i-plot-a-confusion-matrix\n",
    "df_cm = pd.DataFrame(confusion_matrix(y_train, predict_with_best_t(y_train_pred, best_t)), range(2), range(2))\n",
    "# plt.figure(figsize=(10,7))\n",
    "sns.set(font_scale=1.4) # for label size\n",
    "sns.heatmap(df_cm, annot=True, annot_kws={\"size\": 16},fmt='g') # font size\n",
    "plt.show()"
   ]
  },
  {
   "cell_type": "markdown",
   "metadata": {},
   "source": [
    "#### 6.4.2 Ploting Confusion Matrix on Test data"
   ]
  },
  {
   "cell_type": "code",
   "execution_count": 86,
   "metadata": {},
   "outputs": [
    {
     "data": {
      "image/png": "[encoded data removed]",
      "text/plain": [
       "<Figure size 432x288 with 2 Axes>"
      ]
     },
     "metadata": {},
     "output_type": "display_data"
    }
   ],
   "source": [
    "### PLOT the matrix for Train\n",
    "# source : https://stackoverflow.com/questions/35572000/how-can-i-plot-a-confusion-matrix\n",
    "df_cm = pd.DataFrame(confusion_matrix(y_test, predict_with_best_t(y_test_pred, best_t)), range(2), range(2))\n",
    "# plt.figure(figsize=(10,7))\n",
    "sns.set(font_scale=1.4) # for label size\n",
    "sns.heatmap(df_cm, annot=True, annot_kws={\"size\": 16},fmt='g') # font size\n",
    "plt.show()"
   ]
  },
  {
   "cell_type": "markdown",
   "metadata": {},
   "source": [
    "## Observations :\n",
    "         1.We can observe from train and test we are getting majority True positives\n",
    "         2.Least number of data falls in False negative,which refers as least number of projects were incorrectly predicted as not approved in both Test and Train.\n",
    "         3.For a model to perform well we need High True Positive Rate and Low False Positive Rate.From the above our train data has True Positive Rate as 95% and False Positive Rate as 65%\n",
    "         4.In our test data : True Positive Rate as 91% and False Positive Rate as 73%. \n",
    "         5.Test data AUC is not close to train AUC.\n",
    "         6.TFIDF performs better than Bag of words as it has higher % of true positives rate and lower % of False positive rates .\n",
    "         "
   ]
  },
  {
   "cell_type": "markdown",
   "metadata": {},
   "source": [
    "### 7.  SET 3 : categorical, numerical features + project_titleAVG W2V)+ preprocessed_eassay (AVG W2V)"
   ]
  },
  {
   "cell_type": "code",
   "execution_count": 87,
   "metadata": {},
   "outputs": [
    {
     "name": "stdout",
     "output_type": "stream",
     "text": [
      "(49041, 704)\n",
      "(36052, 704)\n",
      "(24155, 704)\n"
     ]
    }
   ],
   "source": [
    "# merge two sparse matrices: https://stackoverflow.com/a/19710648/4084039\n",
    "from scipy.sparse import hstack\n",
    "\n",
    "\n",
    "X_tr = hstack((train_categories, train_subcategories,sklstate_train,teacher_prefix_train,\n",
    "            proj_grade_train,avg_w2v_vectors_train,avg_w2v_vectors_title_train,\n",
    "            X_train_price_norm,quantity_train_norm,prev_projects_train_norm,title_word_count_train_norm,\n",
    "            essay_word_count_train_norm)).tocsr()\n",
    "\n",
    "X_te = hstack((test_categories, test_subcategories,sklstate_test,teacher_prefix_test,\n",
    "            proj_grade_test,avg_w2v_vectors_test,avg_w2v_vectors_title_test,\n",
    "            X_test_price_norm,quantity_test_norm,prev_projects_test_norm,title_word_count_test_norm,\n",
    "            essay_word_count_test_norm)).tocsr()\n",
    "\n",
    "X_cr = hstack((cv_categories, cv_subcategories,sklstate_cv,teacher_prefix_cv,\n",
    "            proj_grade_cv,avg_w2v_vectors_cv,avg_w2v_vectors_title_cv,\n",
    "            X_cv_price_norm,quantity_cv_norm,prev_projects_cv_norm,title_word_count_cv_norm,\n",
    "            essay_word_count_cv_norm)).tocsr()\n",
    "\n",
    "\n",
    "print(X_tr.shape)\n",
    "print(X_te.shape)\n",
    "print(X_cr.shape)"
   ]
  },
  {
   "cell_type": "code",
   "execution_count": 88,
   "metadata": {},
   "outputs": [
    {
     "name": "stdout",
     "output_type": "stream",
     "text": [
      "Final Data matrix\n",
      "(49041, 704) (49041,)\n",
      "(24155, 704) (24155,)\n",
      "(36052, 704) (36052,)\n",
      "====================================================================================================\n"
     ]
    }
   ],
   "source": [
    "print(\"Final Data matrix\")\n",
    "print(X_tr.shape, y_train.shape)\n",
    "print(X_cr.shape, y_cv.shape)\n",
    "print(X_te.shape, y_test.shape)\n",
    "print(\"=\"*100)"
   ]
  },
  {
   "cell_type": "markdown",
   "metadata": {},
   "source": [
    "### 7.1 Write own function to find which alpha gives maximum auc"
   ]
  },
  {
   "cell_type": "code",
   "execution_count": 91,
   "metadata": {},
   "outputs": [
    {
     "name": "stderr",
     "output_type": "stream",
     "text": [
      "100%|███████████████████████████████████████████████████████████| 8/8 [01:57<00:00, 14.67s/it]\n"
     ]
    }
   ],
   "source": [
    "from sklearn.linear_model import LogisticRegression\n",
    "from sklearn.metrics import roc_auc_score\n",
    "## Lets consider a set of alphas from 10 ** -4 to to 10 ** 4\n",
    "def batch_predict(clf, data):\n",
    "    # roc_auc_score(y_true, y_score) the 2nd parameter should be probability estimates of the positive class\n",
    "    # not the predicted outputs\n",
    "\n",
    "    y_data_pred = []\n",
    "    tr_loop = data.shape[0] - data.shape[0]%1000\n",
    "    # consider you X_tr shape is 49041, then your cr_loop will be 49041 - 49041%1000 = 49000\n",
    "    # in this for loop we will iterate unti the last 1000 multiplier\n",
    "    for i in range(0, tr_loop, 1000):\n",
    "        y_data_pred.extend(clf.predict_proba(data[i:i+1000])[:,1])\n",
    "    # we will be predicting for the last data points\n",
    "    y_data_pred.extend(clf.predict_proba(data[tr_loop:])[:,1])\n",
    "    \n",
    "    return y_data_pred \n",
    "c= [0.00001,0.0001,0.001,0.01,0.1,1,10,100]\n",
    "train_auc=[]\n",
    "cv_auc=[]\n",
    "## for each alpha now train the model multiple times and store the cv and train auc for plotting it later.\n",
    "for i in tqdm(c):\n",
    "    LR=LogisticRegression(penalty=\"l2\",C=i,n_jobs=3)\n",
    "    LR.fit(X_tr,y_train)\n",
    "    y_train_pred=batch_predict(LR,X_tr)\n",
    "    y_cv_pred=batch_predict(LR,X_cr)\n",
    "    train_auc.append(roc_auc_score(y_train,y_train_pred))\n",
    "    cv_auc.append(roc_auc_score(y_cv,y_cv_pred))"
   ]
  },
  {
   "cell_type": "code",
   "execution_count": 93,
   "metadata": {},
   "outputs": [
    {
     "data": {
      "image/png": "[encoded data removed]",
      "text/plain": [
       "<Figure size 432x432 with 1 Axes>"
      ]
     },
     "metadata": {},
     "output_type": "display_data"
    }
   ],
   "source": [
    "\n",
    "plt.figure(figsize=(6,6))\n",
    "\n",
    "plt.plot(c, train_auc, label='Train AUC')\n",
    "plt.plot(c, cv_auc, label='CV AUC')\n",
    "\n",
    "plt.scatter(c, train_auc, label='Train AUC points')\n",
    "plt.scatter(c, cv_auc, label='CV AUC points')\n",
    "\n",
    "\n",
    "plt.legend()\n",
    "plt.xlabel(\"C: hyperparameter\")\n",
    "plt.ylabel(\"AUC\")\n",
    "plt.title(\"C: hyperparameter v/s AUC (AvgW2V vectorizing)\")\n",
    "plt.grid(which='major', alpha=0.5)\n",
    "plt.grid(which='minor', alpha=0.2)\n",
    "plt.show()"
   ]
  },
  {
   "cell_type": "markdown",
   "metadata": {},
   "source": [
    "## Observations\n",
    "    1. The c values are taken in the range of 10 ** -5 to 10 ** 2\n",
    "    2. Model performs well in test as well unlike TFIDF and BOW as we dont see any drop in AUC as C value increases.  \n",
    "    4. As C value increases more than 10 ,we see the curve tends to maintain a constant AUC .\n",
    "    5.Optimal c value which can be selected in this can be 10 ."
   ]
  },
  {
   "cell_type": "markdown",
   "metadata": {},
   "source": [
    "### 7.2 GridSearch CV using K-fold Crossvalidation with k=10"
   ]
  },
  {
   "cell_type": "code",
   "execution_count": 98,
   "metadata": {},
   "outputs": [
    {
     "name": "stdout",
     "output_type": "stream",
     "text": [
      "Fitting 3 folds for each of 6 candidates, totalling 18 fits\n"
     ]
    },
    {
     "name": "stderr",
     "output_type": "stream",
     "text": [
      "[Parallel(n_jobs=3)]: Using backend LokyBackend with 3 concurrent workers.\n",
      "[Parallel(n_jobs=3)]: Done  18 out of  18 | elapsed:   57.0s finished\n"
     ]
    }
   ],
   "source": [
    "from sklearn.model_selection import GridSearchCV\n",
    "from scipy.stats import randint as sp_randint\n",
    "from sklearn.model_selection import RandomizedSearchCV\n",
    "from sklearn.linear_model import LogisticRegression\n",
    "## As we are seeing steady decreasing in AUC value in CV as c value increases more than 1 .Hence keep more values less \n",
    "## than 1 \n",
    "## time complexity increases as number of params increases hence reducing the cv to 3 \n",
    "## better to choose parameters below 15 as we saw as number of parameter increases beyond 10 curve maintains steadiness.\n",
    "parameters={\"C\" : [0.0001,0.001,0.01,0.1,0.6,15] }\n",
    "\n",
    "clf = GridSearchCV(LogisticRegression(),parameters,return_train_score=True, cv=3, scoring='roc_auc',verbose=2,n_jobs=3)\n",
    "clf.fit(X_tr, y_train)\n",
    "results = pd.DataFrame.from_dict(clf.cv_results_)\n"
   ]
  },
  {
   "cell_type": "code",
   "execution_count": 99,
   "metadata": {},
   "outputs": [],
   "source": [
    "results = results.sort_values(['param_C'])\n",
    "RS_alphas=results['param_C']\n",
    "train_auc= results['mean_train_score']\n",
    "train_auc_std= results['std_train_score']\n",
    "cv_auc = results['mean_test_score'] \n",
    "cv_auc_std= results['std_test_score']"
   ]
  },
  {
   "cell_type": "code",
   "execution_count": 101,
   "metadata": {},
   "outputs": [
    {
     "data": {
      "image/png": "[encoded data removed]",
      "text/plain": [
       "<Figure size 432x288 with 1 Axes>"
      ]
     },
     "metadata": {},
     "output_type": "display_data"
    },
    {
     "data": {
      "text/html": [
       "<div>\n",
       "<style scoped>\n",
       "    .dataframe tbody tr th:only-of-type {\n",
       "        vertical-align: middle;\n",
       "    }\n",
       "\n",
       "    .dataframe tbody tr th {\n",
       "        vertical-align: top;\n",
       "    }\n",
       "\n",
       "    .dataframe thead th {\n",
       "        text-align: right;\n",
       "    }\n",
       "</style>\n",
       "<table border=\"1\" class=\"dataframe\">\n",
       "  <thead>\n",
       "    <tr style=\"text-align: right;\">\n",
       "      <th></th>\n",
       "      <th>mean_fit_time</th>\n",
       "      <th>std_fit_time</th>\n",
       "      <th>mean_score_time</th>\n",
       "      <th>std_score_time</th>\n",
       "      <th>param_C</th>\n",
       "      <th>params</th>\n",
       "      <th>split0_test_score</th>\n",
       "      <th>split1_test_score</th>\n",
       "      <th>split2_test_score</th>\n",
       "      <th>mean_test_score</th>\n",
       "      <th>std_test_score</th>\n",
       "      <th>rank_test_score</th>\n",
       "      <th>split0_train_score</th>\n",
       "      <th>split1_train_score</th>\n",
       "      <th>split2_train_score</th>\n",
       "      <th>mean_train_score</th>\n",
       "      <th>std_train_score</th>\n",
       "    </tr>\n",
       "  </thead>\n",
       "  <tbody>\n",
       "    <tr>\n",
       "      <th>0</th>\n",
       "      <td>2.598803</td>\n",
       "      <td>0.076121</td>\n",
       "      <td>0.061490</td>\n",
       "      <td>3.886097e-03</td>\n",
       "      <td>0.0001</td>\n",
       "      <td>{'C': 0.0001}</td>\n",
       "      <td>0.604057</td>\n",
       "      <td>0.614561</td>\n",
       "      <td>0.597704</td>\n",
       "      <td>0.605441</td>\n",
       "      <td>0.006951</td>\n",
       "      <td>6</td>\n",
       "      <td>0.612198</td>\n",
       "      <td>0.611032</td>\n",
       "      <td>0.613297</td>\n",
       "      <td>0.612176</td>\n",
       "      <td>0.000925</td>\n",
       "    </tr>\n",
       "    <tr>\n",
       "      <th>1</th>\n",
       "      <td>3.588904</td>\n",
       "      <td>0.093584</td>\n",
       "      <td>0.064000</td>\n",
       "      <td>1.325077e-06</td>\n",
       "      <td>0.001</td>\n",
       "      <td>{'C': 0.001}</td>\n",
       "      <td>0.631559</td>\n",
       "      <td>0.639590</td>\n",
       "      <td>0.624728</td>\n",
       "      <td>0.631959</td>\n",
       "      <td>0.006074</td>\n",
       "      <td>5</td>\n",
       "      <td>0.642570</td>\n",
       "      <td>0.643187</td>\n",
       "      <td>0.644382</td>\n",
       "      <td>0.643380</td>\n",
       "      <td>0.000752</td>\n",
       "    </tr>\n",
       "    <tr>\n",
       "      <th>2</th>\n",
       "      <td>9.496942</td>\n",
       "      <td>0.752247</td>\n",
       "      <td>0.060000</td>\n",
       "      <td>7.867412e-07</td>\n",
       "      <td>0.01</td>\n",
       "      <td>{'C': 0.01}</td>\n",
       "      <td>0.670737</td>\n",
       "      <td>0.673017</td>\n",
       "      <td>0.665133</td>\n",
       "      <td>0.669629</td>\n",
       "      <td>0.003312</td>\n",
       "      <td>4</td>\n",
       "      <td>0.690365</td>\n",
       "      <td>0.692960</td>\n",
       "      <td>0.691620</td>\n",
       "      <td>0.691648</td>\n",
       "      <td>0.001060</td>\n",
       "    </tr>\n",
       "    <tr>\n",
       "      <th>3</th>\n",
       "      <td>12.769815</td>\n",
       "      <td>0.158370</td>\n",
       "      <td>0.068156</td>\n",
       "      <td>3.191006e-03</td>\n",
       "      <td>0.1</td>\n",
       "      <td>{'C': 0.1}</td>\n",
       "      <td>0.692827</td>\n",
       "      <td>0.690926</td>\n",
       "      <td>0.689305</td>\n",
       "      <td>0.691019</td>\n",
       "      <td>0.001439</td>\n",
       "      <td>3</td>\n",
       "      <td>0.721735</td>\n",
       "      <td>0.724039</td>\n",
       "      <td>0.724133</td>\n",
       "      <td>0.723302</td>\n",
       "      <td>0.001109</td>\n",
       "    </tr>\n",
       "    <tr>\n",
       "      <th>4</th>\n",
       "      <td>13.127893</td>\n",
       "      <td>0.268059</td>\n",
       "      <td>0.062734</td>\n",
       "      <td>1.547107e-02</td>\n",
       "      <td>0.6</td>\n",
       "      <td>{'C': 0.6}</td>\n",
       "      <td>0.703818</td>\n",
       "      <td>0.700155</td>\n",
       "      <td>0.697212</td>\n",
       "      <td>0.700395</td>\n",
       "      <td>0.002702</td>\n",
       "      <td>2</td>\n",
       "      <td>0.734615</td>\n",
       "      <td>0.737274</td>\n",
       "      <td>0.736277</td>\n",
       "      <td>0.736055</td>\n",
       "      <td>0.001097</td>\n",
       "    </tr>\n",
       "  </tbody>\n",
       "</table>\n",
       "</div>"
      ],
      "text/plain": [
       "   mean_fit_time  std_fit_time  mean_score_time  std_score_time param_C  \\\n",
       "0       2.598803      0.076121         0.061490    3.886097e-03  0.0001   \n",
       "1       3.588904      0.093584         0.064000    1.325077e-06   0.001   \n",
       "2       9.496942      0.752247         0.060000    7.867412e-07    0.01   \n",
       "3      12.769815      0.158370         0.068156    3.191006e-03     0.1   \n",
       "4      13.127893      0.268059         0.062734    1.547107e-02     0.6   \n",
       "\n",
       "          params  split0_test_score  split1_test_score  split2_test_score  \\\n",
       "0  {'C': 0.0001}           0.604057           0.614561           0.597704   \n",
       "1   {'C': 0.001}           0.631559           0.639590           0.624728   \n",
       "2    {'C': 0.01}           0.670737           0.673017           0.665133   \n",
       "3     {'C': 0.1}           0.692827           0.690926           0.689305   \n",
       "4     {'C': 0.6}           0.703818           0.700155           0.697212   \n",
       "\n",
       "   mean_test_score  std_test_score  rank_test_score  split0_train_score  \\\n",
       "0         0.605441        0.006951                6            0.612198   \n",
       "1         0.631959        0.006074                5            0.642570   \n",
       "2         0.669629        0.003312                4            0.690365   \n",
       "3         0.691019        0.001439                3            0.721735   \n",
       "4         0.700395        0.002702                2            0.734615   \n",
       "\n",
       "   split1_train_score  split2_train_score  mean_train_score  std_train_score  \n",
       "0            0.611032            0.613297          0.612176         0.000925  \n",
       "1            0.643187            0.644382          0.643380         0.000752  \n",
       "2            0.692960            0.691620          0.691648         0.001060  \n",
       "3            0.724039            0.724133          0.723302         0.001109  \n",
       "4            0.737274            0.736277          0.736055         0.001097  "
      ]
     },
     "execution_count": 101,
     "metadata": {},
     "output_type": "execute_result"
    }
   ],
   "source": [
    "plt.plot(RS_alphas, train_auc, label='Train AUC')\n",
    "# this code is copied from here: https://stackoverflow.com/a/48803361/4084039\n",
    "# plt.gca().fill_between(K, train_auc - train_auc_std,train_auc + train_auc_std,alpha=0.2,color='darkblue')\n",
    "\n",
    "plt.plot(RS_alphas, cv_auc, label='CV AUC')\n",
    "# this code is copied from here: https://stackoverflow.com/a/48803361/4084039\n",
    "# plt.gca().fill_between(K, cv_auc - cv_auc_std,cv_auc + cv_auc_std,alpha=0.2,color='darkorange')\n",
    "\n",
    "plt.scatter(RS_alphas, train_auc, label='Train AUC points')\n",
    "plt.scatter(RS_alphas, cv_auc, label='CV AUC points')\n",
    "\n",
    "plt.legend()\n",
    "plt.xlabel(\"C: hyperparameter\")\n",
    "plt.ylabel(\"AUC\")\n",
    "plt.title(\"Hyper parameter Vs AUC plot (AvgW2V vectorizing)\")\n",
    "plt.grid()\n",
    "plt.show()\n",
    "\n",
    "results.head()"
   ]
  },
  {
   "cell_type": "markdown",
   "metadata": {},
   "source": [
    "### 7.3 Train the model using the best Hyperparameter value"
   ]
  },
  {
   "cell_type": "code",
   "execution_count": 104,
   "metadata": {},
   "outputs": [
    {
     "name": "stdout",
     "output_type": "stream",
     "text": [
      "Best Alpha as a result of Grid Search {'C': 15}\n"
     ]
    }
   ],
   "source": [
    "### https://forums.fast.ai/t/hyperparameter-random-search-interpretation/8591 ---to get the best hyper parameter as a reuslt of Random search\n",
    "best_C = clf.best_params_\n",
    "print('Best Alpha as a result of Grid Search',best_C)"
   ]
  },
  {
   "cell_type": "code",
   "execution_count": 106,
   "metadata": {},
   "outputs": [
    {
     "data": {
      "image/png": "[encoded data removed]",
      "text/plain": [
       "<Figure size 432x288 with 1 Axes>"
      ]
     },
     "metadata": {},
     "output_type": "display_data"
    }
   ],
   "source": [
    "# https://scikit-learn.org/stable/modules/generated/sklearn.metrics.roc_curve.html#sklearn.metrics.roc_curve\n",
    "from sklearn.metrics import roc_curve, auc\n",
    "\n",
    "\n",
    "LR=LogisticRegression(penalty=\"l2\",C=15,n_jobs=3)\n",
    "LR.fit(X_tr, y_train)\n",
    "# roc_auc_score(y_true, y_score) the 2nd parameter should be probability estimates of the positive class\n",
    "# not the predicted outputs\n",
    "\n",
    "y_train_pred = batch_predict(LR, X_tr)    \n",
    "y_test_pred = batch_predict(LR, X_te)\n",
    "\n",
    "train_fpr, train_tpr, tr_thresholds = roc_curve(y_train, y_train_pred)\n",
    "test_fpr, test_tpr, te_thresholds = roc_curve(y_test, y_test_pred)\n",
    "\n",
    "plt.plot(train_fpr, train_tpr, label=\"train AUC =\"+str(auc(train_fpr, train_tpr)))\n",
    "plt.plot(test_fpr, test_tpr, label=\"test AUC =\"+str(auc(test_fpr, test_tpr)))\n",
    "plt.legend()\n",
    "plt.xlabel(\"False Possitive Rate (FPR)\")\n",
    "plt.ylabel(\"True Possitive Rate (TPR)\")\n",
    "plt.title(\"ERROR PLOTS (avgw2v Vectorizing)\")\n",
    "plt.grid()\n",
    "plt.show()"
   ]
  },
  {
   "cell_type": "markdown",
   "metadata": {},
   "source": [
    "## Observations : \n",
    "    1. Test AUC found to be 0.69 and Train AUC as 0.73 after training model using best hyperparameter 1 and vectorizing text data using AvgW2V\n",
    "    2. TFIDF performs better than Bag of Words and AvgW2V.     "
   ]
  },
  {
   "cell_type": "markdown",
   "metadata": {},
   "source": [
    "## 7.4 Confusion Matrix"
   ]
  },
  {
   "cell_type": "code",
   "execution_count": 107,
   "metadata": {
    "scrolled": false
   },
   "outputs": [
    {
     "name": "stdout",
     "output_type": "stream",
     "text": [
      "====================================================================================================\n",
      "the maximum value of tpr*(1-fpr) 0.456496841971 for threshold 0.836\n",
      "Train confusion matrix\n",
      "[[ 4801  2625]\n",
      " [12231 29384]]\n",
      "Test confusion matrix\n",
      "[[ 3282  2177]\n",
      " [ 9210 21383]]\n"
     ]
    }
   ],
   "source": [
    "print(\"=\"*100)\n",
    "from sklearn.metrics import confusion_matrix\n",
    "best_t=best_threshold(tr_thresholds,train_fpr, train_tpr)\n",
    "print(\"Train confusion matrix\")\n",
    "print(confusion_matrix(y_train, predict_with_best_t(y_train_pred, best_t)))\n",
    "print(\"Test confusion matrix\")\n",
    "print(confusion_matrix(y_test, predict_with_best_t(y_test_pred, best_t)))"
   ]
  },
  {
   "cell_type": "markdown",
   "metadata": {},
   "source": [
    "#### 7.4.1 Ploting Confusion Matrix on Train data"
   ]
  },
  {
   "cell_type": "code",
   "execution_count": 108,
   "metadata": {},
   "outputs": [
    {
     "data": {
      "image/png": "[encoded data removed]",
      "text/plain": [
       "<Figure size 432x288 with 2 Axes>"
      ]
     },
     "metadata": {},
     "output_type": "display_data"
    }
   ],
   "source": [
    "### PLOT the matrix for Train\n",
    "# source : https://stackoverflow.com/questions/35572000/how-can-i-plot-a-confusion-matrix\n",
    "df_cm = pd.DataFrame(confusion_matrix(y_train, predict_with_best_t(y_train_pred, best_t)), range(2), range(2))\n",
    "# plt.figure(figsize=(10,7))\n",
    "sns.set(font_scale=1.4) # for label size\n",
    "sns.heatmap(df_cm, annot=True, annot_kws={\"size\": 16},fmt='g') # font size\n",
    "plt.show()"
   ]
  },
  {
   "cell_type": "markdown",
   "metadata": {},
   "source": [
    "#### 7.4.2 Ploting Confusion Matrix on Test data"
   ]
  },
  {
   "cell_type": "code",
   "execution_count": 109,
   "metadata": {},
   "outputs": [
    {
     "data": {
      "image/png": "[encoded data removed]",
      "text/plain": [
       "<Figure size 432x288 with 2 Axes>"
      ]
     },
     "metadata": {},
     "output_type": "display_data"
    }
   ],
   "source": [
    "### PLOT the matrix for Train\n",
    "# source : https://stackoverflow.com/questions/35572000/how-can-i-plot-a-confusion-matrix\n",
    "df_cm = pd.DataFrame(confusion_matrix(y_test, predict_with_best_t(y_test_pred, best_t)), range(2), range(2))\n",
    "# plt.figure(figsize=(10,7))\n",
    "sns.set(font_scale=1.4) # for label size\n",
    "sns.heatmap(df_cm, annot=True, annot_kws={\"size\": 16},fmt='g') # font size\n",
    "plt.show()"
   ]
  },
  {
   "cell_type": "markdown",
   "metadata": {},
   "source": [
    "## Observations :\n",
    "         1.We can observe from train and test we are getting majority True positives\n",
    "         2.Least number of data falls in False negative,which refers as least number of projects were incorrectly predicted as not approved in both Test and Train.\n",
    "         3.For a model to perform well we need High True Positive Rate and Low False Positive Rate.From the above our train data has True Positive Rate as 91% and False Positive Rate as 71.8%\n",
    "         4.In our test data : True Positive Rate as 91% and False Positive Rate as 73.7%.  .\n",
    "         "
   ]
  },
  {
   "cell_type": "markdown",
   "metadata": {},
   "source": [
    "### 8.  SET 4 : categorical, numerical features + project_title(tfidf W2V)+ preprocessed_eassay (tfidf W2V)"
   ]
  },
  {
   "cell_type": "code",
   "execution_count": 149,
   "metadata": {},
   "outputs": [
    {
     "name": "stdout",
     "output_type": "stream",
     "text": [
      "(49041, 704)\n",
      "(36052, 704)\n",
      "(24155, 704)\n"
     ]
    }
   ],
   "source": [
    "# merge two sparse matrices: https://stackoverflow.com/a/19710648/4084039\n",
    "\n",
    "\n",
    "X_tr = hstack((train_categories, train_subcategories,sklstate_train,teacher_prefix_train,\n",
    "            proj_grade_train,tfidf_w2v_vectors_train,tfidf_w2v_vectors_title_train,\n",
    "            X_train_price_norm,quantity_train_norm,prev_projects_train_norm,title_word_count_train_norm,\n",
    "            essay_word_count_train_norm)).tocsr()\n",
    "\n",
    "X_te = hstack((test_categories, test_subcategories,sklstate_test,teacher_prefix_test,\n",
    "            proj_grade_test,tfidf_w2v_vectors_test,tfidf_w2v_vectors_title_test,\n",
    "            X_test_price_norm,quantity_test_norm,prev_projects_test_norm,title_word_count_test_norm,\n",
    "            essay_word_count_test_norm)).tocsr()\n",
    "\n",
    "X_cr = hstack((cv_categories, cv_subcategories,sklstate_cv,teacher_prefix_cv,\n",
    "            proj_grade_cv,tfidf_w2v_vectors_cv,tfidf_w2v_vectors_title_cv,\n",
    "            X_cv_price_norm,quantity_cv_norm,prev_projects_cv_norm,title_word_count_cv_norm,\n",
    "            essay_word_count_cv_norm)).tocsr()\n",
    "\n",
    "\n",
    "print(X_tr.shape)\n",
    "print(X_te.shape)\n",
    "print(X_cr.shape)"
   ]
  },
  {
   "cell_type": "code",
   "execution_count": 150,
   "metadata": {},
   "outputs": [
    {
     "name": "stdout",
     "output_type": "stream",
     "text": [
      "Final Data matrix\n",
      "(49041, 704) (49041,)\n",
      "(24155, 704) (24155,)\n",
      "(36052, 704) (36052,)\n",
      "====================================================================================================\n"
     ]
    }
   ],
   "source": [
    "print(\"Final Data matrix\")\n",
    "print(X_tr.shape, y_train.shape)\n",
    "print(X_cr.shape, y_cv.shape)\n",
    "print(X_te.shape, y_test.shape)\n",
    "print(\"=\"*100)"
   ]
  },
  {
   "cell_type": "markdown",
   "metadata": {},
   "source": [
    "### 8.1 Write own function to find which alpha gives maximum auc"
   ]
  },
  {
   "cell_type": "code",
   "execution_count": 151,
   "metadata": {},
   "outputs": [
    {
     "name": "stderr",
     "output_type": "stream",
     "text": [
      "100%|███████████████████████████████████████████████████████████| 8/8 [01:03<00:00,  7.91s/it]\n"
     ]
    }
   ],
   "source": [
    "from sklearn.linear_model import LogisticRegression\n",
    "from sklearn.metrics import roc_auc_score\n",
    "## Lets consider a set of alphas from 10 ** -5 to to 10 ** 2\n",
    "\n",
    "c= [0.00001,0.0001,0.001,0.01,0.1,1,10,100]\n",
    "train_auc=[]\n",
    "cv_auc=[]\n",
    "## for each alpha now train the model multiple times and store the cv and train auc for plotting it later.\n",
    "for i in tqdm(c):\n",
    "    LR=LogisticRegression(penalty=\"l2\",C=i,n_jobs=3)\n",
    "    LR.fit(X_tr,y_train)\n",
    "    y_train_pred=batch_predict(LR,X_tr)\n",
    "    y_cv_pred=batch_predict(LR,X_cr)\n",
    "    train_auc.append(roc_auc_score(y_train,y_train_pred))\n",
    "    cv_auc.append(roc_auc_score(y_cv,y_cv_pred))"
   ]
  },
  {
   "cell_type": "code",
   "execution_count": 153,
   "metadata": {},
   "outputs": [
    {
     "data": {
      "image/png": "[encoded data removed]",
      "text/plain": [
       "<Figure size 432x432 with 1 Axes>"
      ]
     },
     "metadata": {},
     "output_type": "display_data"
    }
   ],
   "source": [
    "\n",
    "plt.figure(figsize=(6,6))\n",
    "\n",
    "plt.plot(c, train_auc, label='Train AUC')\n",
    "plt.plot(c, cv_auc, label='CV AUC')\n",
    "\n",
    "plt.scatter(c, train_auc, label='Train AUC points')\n",
    "plt.scatter(c, cv_auc, label='CV AUC points')\n",
    "\n",
    "\n",
    "plt.legend()\n",
    "plt.xlabel(\"C: hyperparameter\")\n",
    "plt.ylabel(\"AUC\")\n",
    "plt.title(\"C: hyperparameter v/s AUC (TFIDF W2V vectorizing)\")\n",
    "plt.grid(which='major', alpha=0.5)\n",
    "plt.grid(which='minor', alpha=0.2)\n",
    "plt.show()"
   ]
  },
  {
   "cell_type": "markdown",
   "metadata": {},
   "source": [
    "## Observations\n",
    "    1. The c values are taken in the range of 10 ** -5 to 10 ** 2\n",
    "    2. Model performs well in test as well unlike TFIDF and BOW as we dont see any drop in AUC as C value increases.  \n",
    "    4. As C value increases more than 10 ,we see the curve tends to maintain a constant AUC .\n",
    " "
   ]
  },
  {
   "cell_type": "markdown",
   "metadata": {},
   "source": [
    "### 8.2 GridSearch CV using K-fold Crossvalidation with k=10"
   ]
  },
  {
   "cell_type": "code",
   "execution_count": 155,
   "metadata": {},
   "outputs": [
    {
     "name": "stdout",
     "output_type": "stream",
     "text": [
      "Fitting 3 folds for each of 8 candidates, totalling 24 fits\n"
     ]
    },
    {
     "name": "stderr",
     "output_type": "stream",
     "text": [
      "[Parallel(n_jobs=3)]: Using backend LokyBackend with 3 concurrent workers.\n",
      "[Parallel(n_jobs=3)]: Done  24 out of  24 | elapsed:  1.1min finished\n"
     ]
    }
   ],
   "source": [
    "from sklearn.model_selection import GridSearchCV\n",
    "from scipy.stats import randint as sp_randint\n",
    "from sklearn.model_selection import RandomizedSearchCV\n",
    "\n",
    "## As we are seeing steady decreasing in AUC value in CV as c value increases more than 1 .Hence keep more values less \n",
    "## than 1 \n",
    "parameters={\"C\" : [0.00001,0.0001,0.001,0.01,0.1,1,10,100] }\n",
    "\n",
    "clf = GridSearchCV(LogisticRegression(), parameters,return_train_score=True, cv=3, scoring='roc_auc',verbose=1,n_jobs=3)\n",
    "clf.fit(X_tr, y_train)\n",
    "results = pd.DataFrame.from_dict(clf.cv_results_)\n"
   ]
  },
  {
   "cell_type": "code",
   "execution_count": 156,
   "metadata": {},
   "outputs": [],
   "source": [
    "results = results.sort_values(['param_C'])\n",
    "RS_alphas=results['param_C']\n",
    "train_auc= results['mean_train_score']\n",
    "train_auc_std= results['std_train_score']\n",
    "cv_auc = results['mean_test_score'] \n",
    "cv_auc_std= results['std_test_score']"
   ]
  },
  {
   "cell_type": "code",
   "execution_count": 157,
   "metadata": {},
   "outputs": [
    {
     "data": {
      "image/png": "[encoded data removed]",
      "text/plain": [
       "<Figure size 432x288 with 1 Axes>"
      ]
     },
     "metadata": {},
     "output_type": "display_data"
    },
    {
     "data": {
      "text/html": [
       "<div>\n",
       "<style scoped>\n",
       "    .dataframe tbody tr th:only-of-type {\n",
       "        vertical-align: middle;\n",
       "    }\n",
       "\n",
       "    .dataframe tbody tr th {\n",
       "        vertical-align: top;\n",
       "    }\n",
       "\n",
       "    .dataframe thead th {\n",
       "        text-align: right;\n",
       "    }\n",
       "</style>\n",
       "<table border=\"1\" class=\"dataframe\">\n",
       "  <thead>\n",
       "    <tr style=\"text-align: right;\">\n",
       "      <th></th>\n",
       "      <th>mean_fit_time</th>\n",
       "      <th>std_fit_time</th>\n",
       "      <th>mean_score_time</th>\n",
       "      <th>std_score_time</th>\n",
       "      <th>param_C</th>\n",
       "      <th>params</th>\n",
       "      <th>split0_test_score</th>\n",
       "      <th>split1_test_score</th>\n",
       "      <th>split2_test_score</th>\n",
       "      <th>mean_test_score</th>\n",
       "      <th>std_test_score</th>\n",
       "      <th>rank_test_score</th>\n",
       "      <th>split0_train_score</th>\n",
       "      <th>split1_train_score</th>\n",
       "      <th>split2_train_score</th>\n",
       "      <th>mean_train_score</th>\n",
       "      <th>std_train_score</th>\n",
       "    </tr>\n",
       "  </thead>\n",
       "  <tbody>\n",
       "    <tr>\n",
       "      <th>0</th>\n",
       "      <td>2.221395</td>\n",
       "      <td>0.027977</td>\n",
       "      <td>0.071820</td>\n",
       "      <td>0.001628</td>\n",
       "      <td>1e-05</td>\n",
       "      <td>{'C': 1e-05}</td>\n",
       "      <td>0.614884</td>\n",
       "      <td>0.628415</td>\n",
       "      <td>0.605008</td>\n",
       "      <td>0.616102</td>\n",
       "      <td>0.009595</td>\n",
       "      <td>8</td>\n",
       "      <td>0.622798</td>\n",
       "      <td>0.621555</td>\n",
       "      <td>0.622902</td>\n",
       "      <td>0.622418</td>\n",
       "      <td>0.000612</td>\n",
       "    </tr>\n",
       "    <tr>\n",
       "      <th>1</th>\n",
       "      <td>2.273586</td>\n",
       "      <td>0.068191</td>\n",
       "      <td>0.052526</td>\n",
       "      <td>0.004630</td>\n",
       "      <td>0.0001</td>\n",
       "      <td>{'C': 0.0001}</td>\n",
       "      <td>0.622038</td>\n",
       "      <td>0.634861</td>\n",
       "      <td>0.612612</td>\n",
       "      <td>0.623170</td>\n",
       "      <td>0.009119</td>\n",
       "      <td>7</td>\n",
       "      <td>0.630641</td>\n",
       "      <td>0.629576</td>\n",
       "      <td>0.630728</td>\n",
       "      <td>0.630315</td>\n",
       "      <td>0.000524</td>\n",
       "    </tr>\n",
       "    <tr>\n",
       "      <th>2</th>\n",
       "      <td>3.858680</td>\n",
       "      <td>0.310669</td>\n",
       "      <td>0.046565</td>\n",
       "      <td>0.003304</td>\n",
       "      <td>0.001</td>\n",
       "      <td>{'C': 0.001}</td>\n",
       "      <td>0.652642</td>\n",
       "      <td>0.662772</td>\n",
       "      <td>0.645173</td>\n",
       "      <td>0.653529</td>\n",
       "      <td>0.007212</td>\n",
       "      <td>6</td>\n",
       "      <td>0.665051</td>\n",
       "      <td>0.665066</td>\n",
       "      <td>0.665835</td>\n",
       "      <td>0.665317</td>\n",
       "      <td>0.000366</td>\n",
       "    </tr>\n",
       "    <tr>\n",
       "      <th>3</th>\n",
       "      <td>9.835030</td>\n",
       "      <td>0.508514</td>\n",
       "      <td>0.053524</td>\n",
       "      <td>0.006002</td>\n",
       "      <td>0.01</td>\n",
       "      <td>{'C': 0.01}</td>\n",
       "      <td>0.684188</td>\n",
       "      <td>0.688978</td>\n",
       "      <td>0.679134</td>\n",
       "      <td>0.684100</td>\n",
       "      <td>0.004019</td>\n",
       "      <td>5</td>\n",
       "      <td>0.706368</td>\n",
       "      <td>0.706949</td>\n",
       "      <td>0.707288</td>\n",
       "      <td>0.706868</td>\n",
       "      <td>0.000380</td>\n",
       "    </tr>\n",
       "    <tr>\n",
       "      <th>4</th>\n",
       "      <td>10.519863</td>\n",
       "      <td>0.192067</td>\n",
       "      <td>0.053203</td>\n",
       "      <td>0.004717</td>\n",
       "      <td>0.1</td>\n",
       "      <td>{'C': 0.1}</td>\n",
       "      <td>0.696801</td>\n",
       "      <td>0.696148</td>\n",
       "      <td>0.690633</td>\n",
       "      <td>0.694527</td>\n",
       "      <td>0.002766</td>\n",
       "      <td>1</td>\n",
       "      <td>0.728341</td>\n",
       "      <td>0.729731</td>\n",
       "      <td>0.730609</td>\n",
       "      <td>0.729560</td>\n",
       "      <td>0.000934</td>\n",
       "    </tr>\n",
       "  </tbody>\n",
       "</table>\n",
       "</div>"
      ],
      "text/plain": [
       "   mean_fit_time  std_fit_time  mean_score_time  std_score_time param_C  \\\n",
       "0       2.221395      0.027977         0.071820        0.001628   1e-05   \n",
       "1       2.273586      0.068191         0.052526        0.004630  0.0001   \n",
       "2       3.858680      0.310669         0.046565        0.003304   0.001   \n",
       "3       9.835030      0.508514         0.053524        0.006002    0.01   \n",
       "4      10.519863      0.192067         0.053203        0.004717     0.1   \n",
       "\n",
       "          params  split0_test_score  split1_test_score  split2_test_score  \\\n",
       "0   {'C': 1e-05}           0.614884           0.628415           0.605008   \n",
       "1  {'C': 0.0001}           0.622038           0.634861           0.612612   \n",
       "2   {'C': 0.001}           0.652642           0.662772           0.645173   \n",
       "3    {'C': 0.01}           0.684188           0.688978           0.679134   \n",
       "4     {'C': 0.1}           0.696801           0.696148           0.690633   \n",
       "\n",
       "   mean_test_score  std_test_score  rank_test_score  split0_train_score  \\\n",
       "0         0.616102        0.009595                8            0.622798   \n",
       "1         0.623170        0.009119                7            0.630641   \n",
       "2         0.653529        0.007212                6            0.665051   \n",
       "3         0.684100        0.004019                5            0.706368   \n",
       "4         0.694527        0.002766                1            0.728341   \n",
       "\n",
       "   split1_train_score  split2_train_score  mean_train_score  std_train_score  \n",
       "0            0.621555            0.622902          0.622418         0.000612  \n",
       "1            0.629576            0.630728          0.630315         0.000524  \n",
       "2            0.665066            0.665835          0.665317         0.000366  \n",
       "3            0.706949            0.707288          0.706868         0.000380  \n",
       "4            0.729731            0.730609          0.729560         0.000934  "
      ]
     },
     "execution_count": 157,
     "metadata": {},
     "output_type": "execute_result"
    }
   ],
   "source": [
    "plt.plot(RS_alphas, train_auc, label='Train AUC')\n",
    "# this code is copied from here: https://stackoverflow.com/a/48803361/4084039\n",
    "# plt.gca().fill_between(K, train_auc - train_auc_std,train_auc + train_auc_std,alpha=0.2,color='darkblue')\n",
    "\n",
    "plt.plot(RS_alphas, cv_auc, label='CV AUC')\n",
    "# this code is copied from here: https://stackoverflow.com/a/48803361/4084039\n",
    "# plt.gca().fill_between(K, cv_auc - cv_auc_std,cv_auc + cv_auc_std,alpha=0.2,color='darkorange')\n",
    "\n",
    "plt.scatter(RS_alphas, train_auc, label='Train AUC points')\n",
    "plt.scatter(RS_alphas, cv_auc, label='CV AUC points')\n",
    "\n",
    "plt.legend()\n",
    "plt.xlabel(\"C: hyperparameter\")\n",
    "plt.ylabel(\"AUC\")\n",
    "plt.title(\"Hyper parameter Vs AUC plot (TFIDF W2V vectorizing)\")\n",
    "plt.grid()\n",
    "plt.show()\n",
    "\n",
    "results.head()"
   ]
  },
  {
   "cell_type": "markdown",
   "metadata": {},
   "source": [
    "### 8.3 Train the model using the best Hyperparameter value"
   ]
  },
  {
   "cell_type": "code",
   "execution_count": 158,
   "metadata": {},
   "outputs": [
    {
     "name": "stdout",
     "output_type": "stream",
     "text": [
      "Best Alpha as a result of Grid Search {'C': 0.1}\n"
     ]
    }
   ],
   "source": [
    "### https://forums.fast.ai/t/hyperparameter-random-search-interpretation/8591 ---to get the best hyper parameter as a reuslt of Random search\n",
    "best_C = clf.best_params_\n",
    "print('Best Alpha as a result of Grid Search',best_C)"
   ]
  },
  {
   "cell_type": "code",
   "execution_count": 159,
   "metadata": {},
   "outputs": [
    {
     "data": {
      "image/png": "[encoded data removed]",
      "text/plain": [
       "<Figure size 432x288 with 1 Axes>"
      ]
     },
     "metadata": {},
     "output_type": "display_data"
    }
   ],
   "source": [
    "# https://scikit-learn.org/stable/modules/generated/sklearn.metrics.roc_curve.html#sklearn.metrics.roc_curve\n",
    "from sklearn.metrics import roc_curve, auc\n",
    "\n",
    "\n",
    "LR=LogisticRegression(penalty=\"l2\",C=best_C['C'],n_jobs=3)\n",
    "LR.fit(X_tr, y_train)\n",
    "# roc_auc_score(y_true, y_score) the 2nd parameter should be probability estimates of the positive class\n",
    "# not the predicted outputs\n",
    "\n",
    "y_train_pred = batch_predict(LR, X_tr)    \n",
    "y_test_pred = batch_predict(LR, X_te)\n",
    "\n",
    "train_fpr, train_tpr, tr_thresholds = roc_curve(y_train, y_train_pred)\n",
    "test_fpr, test_tpr, te_thresholds = roc_curve(y_test, y_test_pred)\n",
    "\n",
    "plt.plot(train_fpr, train_tpr, label=\"train AUC =\"+str(auc(train_fpr, train_tpr)))\n",
    "plt.plot(test_fpr, test_tpr, label=\"test AUC =\"+str(auc(test_fpr, test_tpr)))\n",
    "plt.legend()\n",
    "plt.xlabel(\"False Possitive Rate (FPR)\")\n",
    "plt.ylabel(\"True Possitive Rate (TPR)\")\n",
    "plt.title(\"ERROR PLOTS (tfidfw2v Vectorizing)\")\n",
    "plt.grid()\n",
    "plt.show()"
   ]
  },
  {
   "cell_type": "markdown",
   "metadata": {},
   "source": [
    "## Observations : \n",
    "    1. Test AUC found to be 0.69 and Train AUC as 0.72 after training model using best hyperparameter 0.69 and vectorizing text data using TFIDF    "
   ]
  },
  {
   "cell_type": "markdown",
   "metadata": {},
   "source": [
    "## 8.4 Confusion Matrix"
   ]
  },
  {
   "cell_type": "code",
   "execution_count": 125,
   "metadata": {
    "scrolled": false
   },
   "outputs": [
    {
     "name": "stdout",
     "output_type": "stream",
     "text": [
      "====================================================================================================\n",
      "the maximum value of tpr*(1-fpr) 0.448492340575 for threshold 0.834\n",
      "Train confusion matrix\n",
      "[[ 4821  2605]\n",
      " [12866 28749]]\n",
      "Test confusion matrix\n",
      "[[ 3300  2159]\n",
      " [ 9810 20783]]\n"
     ]
    }
   ],
   "source": [
    "print(\"=\"*100)\n",
    "from sklearn.metrics import confusion_matrix\n",
    "best_t=best_threshold(tr_thresholds,train_fpr, train_tpr)\n",
    "print(\"Train confusion matrix\")\n",
    "print(confusion_matrix(y_train, predict_with_best_t(y_train_pred, best_t)))\n",
    "print(\"Test confusion matrix\")\n",
    "print(confusion_matrix(y_test, predict_with_best_t(y_test_pred, best_t)))"
   ]
  },
  {
   "cell_type": "markdown",
   "metadata": {},
   "source": [
    "#### 8.4.1 Ploting Confusion Matrix on Train data"
   ]
  },
  {
   "cell_type": "code",
   "execution_count": 126,
   "metadata": {},
   "outputs": [
    {
     "data": {
      "image/png": "[encoded data removed]",
      "text/plain": [
       "<Figure size 432x288 with 2 Axes>"
      ]
     },
     "metadata": {},
     "output_type": "display_data"
    }
   ],
   "source": [
    "### PLOT the matrix for Train\n",
    "# source : https://stackoverflow.com/questions/35572000/how-can-i-plot-a-confusion-matrix\n",
    "df_cm = pd.DataFrame(confusion_matrix(y_train, predict_with_best_t(y_train_pred, best_t)), range(2), range(2))\n",
    "# plt.figure(figsize=(10,7))\n",
    "sns.set(font_scale=1.4) # for label size\n",
    "sns.heatmap(df_cm, annot=True, annot_kws={\"size\": 16},fmt='g') # font size\n",
    "plt.show()"
   ]
  },
  {
   "cell_type": "markdown",
   "metadata": {},
   "source": [
    "#### 8.4.2 Ploting Confusion Matrix on Test data"
   ]
  },
  {
   "cell_type": "code",
   "execution_count": 127,
   "metadata": {},
   "outputs": [
    {
     "data": {
      "image/png": "[encoded data removed]",
      "text/plain": [
       "<Figure size 432x288 with 2 Axes>"
      ]
     },
     "metadata": {},
     "output_type": "display_data"
    }
   ],
   "source": [
    "### PLOT the matrix for Train\n",
    "# source : https://stackoverflow.com/questions/35572000/how-can-i-plot-a-confusion-matrix\n",
    "df_cm = pd.DataFrame(confusion_matrix(y_test, predict_with_best_t(y_test_pred, best_t)), range(2), range(2))\n",
    "# plt.figure(figsize=(10,7))\n",
    "sns.set(font_scale=1.4) # for label size\n",
    "sns.heatmap(df_cm, annot=True, annot_kws={\"size\": 16},fmt='g') # font size\n",
    "plt.show()"
   ]
  },
  {
   "cell_type": "markdown",
   "metadata": {},
   "source": [
    "## Observations :\n",
    "         1.We can observe from train and test we are getting majority True positives\n",
    "         2.Least number of data falls in False negative,which refers as least number of projects were incorrectly predicted as not approved in both Test and Train.\n",
    "         3.For a model to perform well we need High True Positive Rate and Low False Positive Rate.From the above our train data has True Positive Rate as 93% and False Positive Rate as 65%\n",
    "         4.In our test data : True Positive Rate as 91% and False Positive Rate as 71%. \n",
    "         5.TFIDF performs better than Bag of words as it has higher % of true positives rate and lower % of False positive rates .\n",
    "         "
   ]
  },
  {
   "cell_type": "markdown",
   "metadata": {},
   "source": [
    "## 9. Set5 . Apply Logistic Regression on the specified feature set Set 5 by finding the best hyper parameter as suggested in step 2 and step 3"
   ]
  },
  {
   "cell_type": "code",
   "execution_count": 128,
   "metadata": {},
   "outputs": [
    {
     "name": "stdout",
     "output_type": "stream",
     "text": [
      "(49041, 105)\n",
      "(36052, 105)\n",
      "(24155, 105)\n"
     ]
    }
   ],
   "source": [
    "# merge two sparse matrices: https://stackoverflow.com/a/19710648/4084039\n",
    "\n",
    "X_tr = hstack((train_categories, train_subcategories,sklstate_train,teacher_prefix_train,\n",
    "            proj_grade_train,sentiment_neg_train_norm,\n",
    "            X_train_price_norm,quantity_train_norm,\n",
    "            prev_projects_train_norm,title_word_count_train_norm,\n",
    "            essay_word_count_train_norm)).tocsr()\n",
    "\n",
    "X_te = hstack((test_categories, test_subcategories,sklstate_test,teacher_prefix_test,\n",
    "            proj_grade_test,sentiment_neg_test_norm,\n",
    "            X_test_price_norm,quantity_test_norm,\n",
    "            prev_projects_test_norm,title_word_count_test_norm,\n",
    "            essay_word_count_test_norm)).tocsr()\n",
    "\n",
    "X_cr = hstack((cv_categories, cv_subcategories,sklstate_cv,teacher_prefix_cv,\n",
    "            proj_grade_cv,sentiment_neg_cv_norm,\n",
    "            X_cv_price_norm,quantity_cv_norm,\n",
    "            prev_projects_cv_norm,title_word_count_cv_norm,\n",
    "            essay_word_count_cv_norm)).tocsr()\n",
    "\n",
    "\n",
    "print(X_tr.shape)\n",
    "print(X_te.shape)\n",
    "print(X_cr.shape)"
   ]
  },
  {
   "cell_type": "markdown",
   "metadata": {},
   "source": [
    "## Training model with different c values"
   ]
  },
  {
   "cell_type": "code",
   "execution_count": 130,
   "metadata": {},
   "outputs": [
    {
     "name": "stderr",
     "output_type": "stream",
     "text": [
      "100%|█████████████████████████████████████████████████████████| 12/12 [00:07<00:00,  1.60it/s]\n"
     ]
    }
   ],
   "source": [
    "\n",
    "### Train the model with loops\n",
    "train_auc=[]\n",
    "cv_auc=[]\n",
    "c=[0.00001,0.0001,0.001,0.01,0.1,1,10,20,50,100,500,1000]\n",
    "for i in tqdm(c):\n",
    "    LR=LogisticRegression(C=i,penalty='l2',n_jobs=3)\n",
    "    LR.fit(X_tr,y_train)\n",
    "    train_pred=batch_predict(LR,X_tr)\n",
    "    cv_pred=batch_predict(LR,X_cr)\n",
    "    train_auc.append(roc_auc_score(y_train,train_pred))\n",
    "    cv_auc.append(roc_auc_score(y_cv,cv_pred))"
   ]
  },
  {
   "cell_type": "code",
   "execution_count": 131,
   "metadata": {},
   "outputs": [
    {
     "data": {
      "image/png": "[encoded data removed]",
      "text/plain": [
       "<Figure size 432x432 with 1 Axes>"
      ]
     },
     "metadata": {},
     "output_type": "display_data"
    }
   ],
   "source": [
    "plt.figure(figsize=(6,6))\n",
    "\n",
    "plt.plot(c, train_auc, label='Train AUC')\n",
    "plt.plot(c, cv_auc, label='CV AUC')\n",
    "\n",
    "plt.scatter(c, train_auc, label='Train AUC points')\n",
    "plt.scatter(c, cv_auc, label='CV AUC points')\n",
    "\n",
    "\n",
    "plt.legend()\n",
    "plt.xlabel(\"C: hyperparameter\")\n",
    "plt.ylabel(\"AUC\")\n",
    "plt.title(\"C: hyperparameter v/s AUC \")\n",
    "plt.grid(which='major', alpha=0.5)\n",
    "plt.grid(which='minor', alpha=0.2)\n",
    "plt.show()"
   ]
  },
  {
   "cell_type": "markdown",
   "metadata": {},
   "source": [
    "## Training model using Gridsearchcv "
   ]
  },
  {
   "cell_type": "code",
   "execution_count": 138,
   "metadata": {},
   "outputs": [
    {
     "data": {
      "text/plain": [
       "GridSearchCV(cv=5, estimator=LogisticRegression(C=1000, n_jobs=3), n_jobs=3,\n",
       "             param_grid={'C': [0.0001, 0.001, 0.01, 0.1, 0.6, 15, 20]},\n",
       "             return_train_score=True, scoring='roc_auc')"
      ]
     },
     "execution_count": 138,
     "metadata": {},
     "output_type": "execute_result"
    }
   ],
   "source": [
    "parameters = {\"C\" : [0.0001,0.001,0.01,0.1,0.6,15,20] }\n",
    "\n",
    "grid_model=GridSearchCV(LR,parameters,return_train_score=True,n_jobs=3,scoring='roc_auc',cv=5)\n",
    "grid_model.fit(X_tr,y_train)\n"
   ]
  },
  {
   "cell_type": "code",
   "execution_count": 139,
   "metadata": {},
   "outputs": [],
   "source": [
    "results=pd.DataFrame.from_dict(grid_model.cv_results_)\n",
    "RS_alphas=results['param_C']\n",
    "train_auc=results['mean_train_score']\n",
    "cv_auc=results['mean_test_score']"
   ]
  },
  {
   "cell_type": "code",
   "execution_count": 140,
   "metadata": {},
   "outputs": [
    {
     "data": {
      "image/png": "[encoded data removed]",
      "text/plain": [
       "<Figure size 432x288 with 1 Axes>"
      ]
     },
     "metadata": {},
     "output_type": "display_data"
    },
    {
     "data": {
      "text/html": [
       "<div>\n",
       "<style scoped>\n",
       "    .dataframe tbody tr th:only-of-type {\n",
       "        vertical-align: middle;\n",
       "    }\n",
       "\n",
       "    .dataframe tbody tr th {\n",
       "        vertical-align: top;\n",
       "    }\n",
       "\n",
       "    .dataframe thead th {\n",
       "        text-align: right;\n",
       "    }\n",
       "</style>\n",
       "<table border=\"1\" class=\"dataframe\">\n",
       "  <thead>\n",
       "    <tr style=\"text-align: right;\">\n",
       "      <th></th>\n",
       "      <th>mean_fit_time</th>\n",
       "      <th>std_fit_time</th>\n",
       "      <th>mean_score_time</th>\n",
       "      <th>std_score_time</th>\n",
       "      <th>param_C</th>\n",
       "      <th>params</th>\n",
       "      <th>split0_test_score</th>\n",
       "      <th>split1_test_score</th>\n",
       "      <th>split2_test_score</th>\n",
       "      <th>split3_test_score</th>\n",
       "      <th>...</th>\n",
       "      <th>mean_test_score</th>\n",
       "      <th>std_test_score</th>\n",
       "      <th>rank_test_score</th>\n",
       "      <th>split0_train_score</th>\n",
       "      <th>split1_train_score</th>\n",
       "      <th>split2_train_score</th>\n",
       "      <th>split3_train_score</th>\n",
       "      <th>split4_train_score</th>\n",
       "      <th>mean_train_score</th>\n",
       "      <th>std_train_score</th>\n",
       "    </tr>\n",
       "  </thead>\n",
       "  <tbody>\n",
       "    <tr>\n",
       "      <th>0</th>\n",
       "      <td>0.119279</td>\n",
       "      <td>0.001493</td>\n",
       "      <td>0.004589</td>\n",
       "      <td>0.000798</td>\n",
       "      <td>0.0001</td>\n",
       "      <td>{'C': 0.0001}</td>\n",
       "      <td>0.562555</td>\n",
       "      <td>0.550991</td>\n",
       "      <td>0.556968</td>\n",
       "      <td>0.555057</td>\n",
       "      <td>...</td>\n",
       "      <td>0.555516</td>\n",
       "      <td>0.004114</td>\n",
       "      <td>7</td>\n",
       "      <td>0.556408</td>\n",
       "      <td>0.559688</td>\n",
       "      <td>0.558107</td>\n",
       "      <td>0.558905</td>\n",
       "      <td>0.559555</td>\n",
       "      <td>0.558533</td>\n",
       "      <td>0.001201</td>\n",
       "    </tr>\n",
       "    <tr>\n",
       "      <th>1</th>\n",
       "      <td>0.119480</td>\n",
       "      <td>0.000746</td>\n",
       "      <td>0.005785</td>\n",
       "      <td>0.001162</td>\n",
       "      <td>0.001</td>\n",
       "      <td>{'C': 0.001}</td>\n",
       "      <td>0.572008</td>\n",
       "      <td>0.556316</td>\n",
       "      <td>0.564359</td>\n",
       "      <td>0.561480</td>\n",
       "      <td>...</td>\n",
       "      <td>0.562257</td>\n",
       "      <td>0.005689</td>\n",
       "      <td>6</td>\n",
       "      <td>0.563897</td>\n",
       "      <td>0.567761</td>\n",
       "      <td>0.566238</td>\n",
       "      <td>0.567427</td>\n",
       "      <td>0.568449</td>\n",
       "      <td>0.566754</td>\n",
       "      <td>0.001598</td>\n",
       "    </tr>\n",
       "    <tr>\n",
       "      <th>2</th>\n",
       "      <td>0.243848</td>\n",
       "      <td>0.039447</td>\n",
       "      <td>0.007187</td>\n",
       "      <td>0.000746</td>\n",
       "      <td>0.01</td>\n",
       "      <td>{'C': 0.01}</td>\n",
       "      <td>0.583984</td>\n",
       "      <td>0.565542</td>\n",
       "      <td>0.572532</td>\n",
       "      <td>0.567999</td>\n",
       "      <td>...</td>\n",
       "      <td>0.570782</td>\n",
       "      <td>0.007219</td>\n",
       "      <td>5</td>\n",
       "      <td>0.575853</td>\n",
       "      <td>0.580148</td>\n",
       "      <td>0.579141</td>\n",
       "      <td>0.580159</td>\n",
       "      <td>0.581200</td>\n",
       "      <td>0.579300</td>\n",
       "      <td>0.001842</td>\n",
       "    </tr>\n",
       "    <tr>\n",
       "      <th>3</th>\n",
       "      <td>0.545133</td>\n",
       "      <td>0.075107</td>\n",
       "      <td>0.005386</td>\n",
       "      <td>0.001197</td>\n",
       "      <td>0.1</td>\n",
       "      <td>{'C': 0.1}</td>\n",
       "      <td>0.585985</td>\n",
       "      <td>0.565890</td>\n",
       "      <td>0.572392</td>\n",
       "      <td>0.567554</td>\n",
       "      <td>...</td>\n",
       "      <td>0.571192</td>\n",
       "      <td>0.007891</td>\n",
       "      <td>4</td>\n",
       "      <td>0.579931</td>\n",
       "      <td>0.584752</td>\n",
       "      <td>0.583543</td>\n",
       "      <td>0.584162</td>\n",
       "      <td>0.585836</td>\n",
       "      <td>0.583645</td>\n",
       "      <td>0.002005</td>\n",
       "    </tr>\n",
       "    <tr>\n",
       "      <th>4</th>\n",
       "      <td>0.540406</td>\n",
       "      <td>0.040533</td>\n",
       "      <td>0.004382</td>\n",
       "      <td>0.000482</td>\n",
       "      <td>0.6</td>\n",
       "      <td>{'C': 0.6}</td>\n",
       "      <td>0.588760</td>\n",
       "      <td>0.567409</td>\n",
       "      <td>0.574234</td>\n",
       "      <td>0.569279</td>\n",
       "      <td>...</td>\n",
       "      <td>0.573155</td>\n",
       "      <td>0.008277</td>\n",
       "      <td>3</td>\n",
       "      <td>0.582920</td>\n",
       "      <td>0.588233</td>\n",
       "      <td>0.586713</td>\n",
       "      <td>0.587135</td>\n",
       "      <td>0.588912</td>\n",
       "      <td>0.586783</td>\n",
       "      <td>0.002083</td>\n",
       "    </tr>\n",
       "  </tbody>\n",
       "</table>\n",
       "<p>5 rows × 21 columns</p>\n",
       "</div>"
      ],
      "text/plain": [
       "   mean_fit_time  std_fit_time  mean_score_time  std_score_time param_C  \\\n",
       "0       0.119279      0.001493         0.004589        0.000798  0.0001   \n",
       "1       0.119480      0.000746         0.005785        0.001162   0.001   \n",
       "2       0.243848      0.039447         0.007187        0.000746    0.01   \n",
       "3       0.545133      0.075107         0.005386        0.001197     0.1   \n",
       "4       0.540406      0.040533         0.004382        0.000482     0.6   \n",
       "\n",
       "          params  split0_test_score  split1_test_score  split2_test_score  \\\n",
       "0  {'C': 0.0001}           0.562555           0.550991           0.556968   \n",
       "1   {'C': 0.001}           0.572008           0.556316           0.564359   \n",
       "2    {'C': 0.01}           0.583984           0.565542           0.572532   \n",
       "3     {'C': 0.1}           0.585985           0.565890           0.572392   \n",
       "4     {'C': 0.6}           0.588760           0.567409           0.574234   \n",
       "\n",
       "   split3_test_score  ...  mean_test_score  std_test_score  rank_test_score  \\\n",
       "0           0.555057  ...         0.555516        0.004114                7   \n",
       "1           0.561480  ...         0.562257        0.005689                6   \n",
       "2           0.567999  ...         0.570782        0.007219                5   \n",
       "3           0.567554  ...         0.571192        0.007891                4   \n",
       "4           0.569279  ...         0.573155        0.008277                3   \n",
       "\n",
       "   split0_train_score  split1_train_score  split2_train_score  \\\n",
       "0            0.556408            0.559688            0.558107   \n",
       "1            0.563897            0.567761            0.566238   \n",
       "2            0.575853            0.580148            0.579141   \n",
       "3            0.579931            0.584752            0.583543   \n",
       "4            0.582920            0.588233            0.586713   \n",
       "\n",
       "   split3_train_score  split4_train_score  mean_train_score  std_train_score  \n",
       "0            0.558905            0.559555          0.558533         0.001201  \n",
       "1            0.567427            0.568449          0.566754         0.001598  \n",
       "2            0.580159            0.581200          0.579300         0.001842  \n",
       "3            0.584162            0.585836          0.583645         0.002005  \n",
       "4            0.587135            0.588912          0.586783         0.002083  \n",
       "\n",
       "[5 rows x 21 columns]"
      ]
     },
     "execution_count": 140,
     "metadata": {},
     "output_type": "execute_result"
    }
   ],
   "source": [
    "plt.plot(RS_alphas, train_auc, label='Train AUC')\n",
    "# this code is copied from here: https://stackoverflow.com/a/48803361/4084039\n",
    "# plt.gca().fill_between(K, train_auc - train_auc_std,train_auc + train_auc_std,alpha=0.2,color='darkblue')\n",
    "\n",
    "plt.plot(RS_alphas, cv_auc, label='CV AUC')\n",
    "# this code is copied from here: https://stackoverflow.com/a/48803361/4084039\n",
    "# plt.gca().fill_between(K, cv_auc - cv_auc_std,cv_auc + cv_auc_std,alpha=0.2,color='darkorange')\n",
    "\n",
    "plt.scatter(RS_alphas, train_auc, label='Train AUC points')\n",
    "plt.scatter(RS_alphas, cv_auc, label='CV AUC points')\n",
    "\n",
    "plt.legend()\n",
    "plt.xlabel(\"C: hyperparameter\")\n",
    "plt.ylabel(\"AUC\")\n",
    "plt.title(\"Hyper parameter Vs AUC plot \")\n",
    "plt.grid()\n",
    "plt.show()\n",
    "\n",
    "results.head()"
   ]
  },
  {
   "cell_type": "code",
   "execution_count": 141,
   "metadata": {},
   "outputs": [
    {
     "name": "stdout",
     "output_type": "stream",
     "text": [
      "Best Alpha as a result of Grid Search {'C': 20}\n"
     ]
    }
   ],
   "source": [
    "### https://forums.fast.ai/t/hyperparameter-random-search-interpretation/8591 ---to get the best hyper parameter as a reuslt of Random search\n",
    "best_C = grid_model.best_params_\n",
    "print('Best Alpha as a result of Grid Search',best_C)"
   ]
  },
  {
   "cell_type": "markdown",
   "metadata": {},
   "source": [
    "## Train the model using the best parameter"
   ]
  },
  {
   "cell_type": "code",
   "execution_count": 143,
   "metadata": {},
   "outputs": [
    {
     "data": {
      "image/png": "[encoded data removed]",
      "text/plain": [
       "<Figure size 432x288 with 1 Axes>"
      ]
     },
     "metadata": {},
     "output_type": "display_data"
    }
   ],
   "source": [
    "LR = LogisticRegression(C=best_C['C'],penalty='l2',n_jobs=3)\n",
    "LR.fit(X_tr,y_train)\n",
    "# Predict\n",
    "y_train_pred=batch_predict(LR,X_tr)\n",
    "y_test_pred=batch_predict(LR,X_te)\n",
    "# FPR,TPR,thresholds\n",
    "train_fpr,train_tpr,tr_thresholds=roc_curve(y_train,y_train_pred)\n",
    "test_fpr,test_tpr,te_thresholds=roc_curve(y_test,y_test_pred)\n",
    "#\n",
    "plt.plot(train_fpr, train_tpr, label=\"train AUC =\"+str(auc(train_fpr, train_tpr)))\n",
    "plt.plot(test_fpr, test_tpr, label=\"test AUC =\"+str(auc(test_fpr, test_tpr)))\n",
    "plt.legend()\n",
    "plt.xlabel(\"False Possitive Rate (FPR)\")\n",
    "plt.ylabel(\"True Possitive Rate (TPR)\")\n",
    "plt.title(\"ERROR PLOTS (tfidfw2v Vectorizing)\")\n",
    "plt.grid()\n",
    "plt.show()\n"
   ]
  },
  {
   "cell_type": "markdown",
   "metadata": {},
   "source": [
    "## Plotting Confusion Matrix on Train\n"
   ]
  },
  {
   "cell_type": "code",
   "execution_count": 144,
   "metadata": {
    "scrolled": true
   },
   "outputs": [
    {
     "name": "stdout",
     "output_type": "stream",
     "text": [
      "the maximum value of tpr*(1-fpr) 0.342058548506 for threshold 0.844\n",
      "Train confusion matrix\n",
      "[[ 4101  3325]\n",
      " [15839 25776]]\n",
      "Test confusion matrix\n",
      "[[ 2964  2495]\n",
      " [12110 18483]]\n"
     ]
    }
   ],
   "source": [
    "best_t=best_threshold(tr_thresholds,train_fpr,train_tpr)\n",
    "print(\"Train confusion matrix\")\n",
    "print(confusion_matrix(y_train, predict_with_best_t(y_train_pred, best_t)))\n",
    "print(\"Test confusion matrix\")\n",
    "print(confusion_matrix(y_test, predict_with_best_t(y_test_pred, best_t)))\n",
    "df_cm = pd.DataFrame(confusion_matrix(y_train, predict_with_best_t(y_train_pred, best_t)), range(2), range(2))"
   ]
  },
  {
   "cell_type": "code",
   "execution_count": 145,
   "metadata": {},
   "outputs": [
    {
     "data": {
      "image/png": "[encoded data removed]",
      "text/plain": [
       "<Figure size 432x288 with 2 Axes>"
      ]
     },
     "metadata": {},
     "output_type": "display_data"
    }
   ],
   "source": [
    "# plt.figure(figsize=(10,7))\n",
    "sns.set(font_scale=1.4) # for label size\n",
    "sns.heatmap(df_cm, annot=True, annot_kws={\"size\": 16},fmt='g') # font size\n",
    "plt.show()"
   ]
  },
  {
   "cell_type": "code",
   "execution_count": 146,
   "metadata": {
    "scrolled": true
   },
   "outputs": [
    {
     "data": {
      "image/png": "[encoded data removed]",
      "text/plain": [
       "<Figure size 432x288 with 2 Axes>"
      ]
     },
     "metadata": {},
     "output_type": "display_data"
    }
   ],
   "source": [
    "df_cm = pd.DataFrame(confusion_matrix(y_test, predict_with_best_t(y_test_pred, best_t)), range(2), range(2))\n",
    "# plt.figure(figsize=(10,7))\n",
    "sns.set(font_scale=1.4) # for label size\n",
    "sns.heatmap(df_cm, annot=True, annot_kws={\"size\": 16},fmt='g') # font size\n",
    "plt.show()"
   ]
  },
  {
   "cell_type": "code",
   "execution_count": 160,
   "metadata": {},
   "outputs": [
    {
     "name": "stdout",
     "output_type": "stream",
     "text": [
      "+--------------+---------------------+-----------------+------------+-----------+\n",
      "|  Vectorizer  |        Model        | Hyper Parameter |  Train AUC | Test AUC  |\n",
      "+--------------+---------------------+-----------------+------------+-----------+\n",
      "|     BOW      | Logistic Regression |       0.01      |    0.81    |    0.71   |\n",
      "|    TFIDF     | Logistic Regression |       0.6       |    0.83    |    0.7    |\n",
      "|    AvgW2v    | Logistic Regression |        15       |    0.73    |    0.69   |\n",
      "|  TFIDF w2v   | Logistic Regression |       0.1       |    0.72    |    0.69   |\n",
      "| Without text | Logistic Regression |        20       |    0.61    |    0.6    |\n",
      "+--------------+---------------------+-----------------+------------+-----------+\n"
     ]
    }
   ],
   "source": [
    "##http://zetcode.com/python/prettytable/\n",
    "\n",
    "from prettytable import PrettyTable\n",
    "\n",
    "x = PrettyTable()\n",
    "x.field_names = [\"Vectorizer\", \"Model\", \"Hyper Parameter\", \" Train AUC\" ,\"Test AUC \"]\n",
    "\n",
    "x.add_row([\"BOW\", \"Logistic Regression\", 0.01, 0.81,0.71])\n",
    "x.add_row([\"TFIDF\", \"Logistic Regression\",0.6, 0.83, 0.70])\n",
    "x.add_row([\"AvgW2v\", \"Logistic Regression\",15, 0.73, 0.69])\n",
    "x.add_row([\"TFIDF w2v\", \"Logistic Regression\",0.1, 0.72, 0.69])\n",
    "x.add_row([\"Without text\", \"Logistic Regression\",20, 0.61, 0.60])\n",
    "print(x)"
   ]
  },
  {
   "cell_type": "code",
   "execution_count": null,
   "metadata": {},
   "outputs": [],
   "source": []
  }
 ],
 "metadata": {
  "kernelspec": {
   "display_name": "Python 3",
   "language": "python",
   "name": "python3"
  },
  "language_info": {
   "codemirror_mode": {
    "name": "ipython",
    "version": 3
   },
   "file_extension": ".py",
   "mimetype": "text/x-python",
   "name": "python",
   "nbconvert_exporter": "python",
   "pygments_lexer": "ipython3",
   "version": "3.6.8"
  }
 },
 "nbformat": 4,
 "nbformat_minor": 2
}
